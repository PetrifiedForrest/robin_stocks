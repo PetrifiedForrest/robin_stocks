{
  "cells": [
    {
      "attachments": {},
      "cell_type": "markdown",
      "metadata": {
        "tags": [
          "parameters",
          "test"
        ]
      },
      "source": [
        "# Application code"
      ]
    },
    {
      "cell_type": "code",
      "execution_count": null,
      "metadata": {
        "id": "oqfM1QUkKV35"
      },
      "outputs": [],
      "source": [
        "%pip install robin_stocks"
      ]
    },
    {
      "cell_type": "markdown",
      "metadata": {
        "id": "INrc9B0zLAWd"
      },
      "source": [
        "## Imports"
      ]
    },
    {
      "cell_type": "code",
      "execution_count": null,
      "metadata": {
        "id": "KtPhE7UEKbd3"
      },
      "outputs": [],
      "source": [
        "from robin_stocks import robinhood as r"
      ]
    },
    {
      "cell_type": "markdown",
      "metadata": {
        "id": "Po7wOZj0Kspf"
      },
      "source": [
        "## Function definitions"
      ]
    },
    {
      "cell_type": "code",
      "execution_count": null,
      "metadata": {
        "id": "0su3RCbPPH81"
      },
      "outputs": [],
      "source": [
        "def close_all_positions():\n",
        "  #Get all pending orders\n",
        "  current_positions = r.get_all_open_option_orders()\n",
        "\n",
        "  #Loop through orders and cancel each one\n",
        "  for order in current_positions:\n",
        "      print(\"closeing position: \", order[\"id\"])"
      ]
    },
    {
      "cell_type": "code",
      "execution_count": null,
      "metadata": {
        "id": "HXSmtzVwJqsI"
      },
      "outputs": [],
      "source": [
        "def cancel_all_pending_orders():\n",
        "  #Get all pending orders\n",
        "  pending_orders = r.orders.get_all_open_option_orders()\n",
        "\n",
        "  #Loop through orders and cancel each one\n",
        "  for order in pending_orders:\n",
        "      print(\"Canceling order: \", order[\"id\"])\n",
        "      r.cancel_option_order(order[\"id\"])"
      ]
    },
    {
      "cell_type": "markdown",
      "metadata": {
        "tags": []
      },
      "source": []
    },
    {
      "attachments": {},
      "cell_type": "markdown",
      "metadata": {
        "id": "I1y8KgL3MF7S"
      },
      "source": [
        "# Login into Robinhood"
      ]
    },
    {
      "cell_type": "code",
      "execution_count": null,
      "metadata": {
        "cellView": "form",
        "id": "bFRaPJ-YL54k"
      },
      "outputs": [],
      "source": [
        "%run \"rh_two_factor_log_in.py\""
      ]
    },
    {
      "attachments": {},
      "cell_type": "markdown",
      "metadata": {
        "id": "ElxYAXz3LWR5"
      },
      "source": [
        "# Cancel all pending orders"
      ]
    },
    {
      "cell_type": "code",
      "execution_count": null,
      "metadata": {
        "id": "dAgoXZ0rLkx8"
      },
      "outputs": [],
      "source": [
        "cancel_all_pending_orders()"
      ]
    },
    {
      "attachments": {},
      "cell_type": "markdown",
      "metadata": {
        "id": "SH9i2VgDOkz_"
      },
      "source": [
        "# Close all positions\n"
      ]
    },
    {
      "cell_type": "code",
      "execution_count": null,
      "metadata": {
        "id": "LD2LSDnqOlFe"
      },
      "outputs": [],
      "source": [
        "close_all_positions()"
      ]
    },
    {
      "cell_type": "markdown",
      "metadata": {
        "id": "f0yoL9ZgQ-GY"
      },
      "source": [
        "# Logout"
      ]
    },
    {
      "cell_type": "code",
      "execution_count": null,
      "metadata": {
        "id": "u-O6Pl-CQ9mg"
      },
      "outputs": [],
      "source": [
        "if r.logout() == None:\n",
        "  print(\"logged out\")"
      ]
    }
  ],
  "metadata": {
    "colab": {
      "collapsed_sections": [
        "KgJI8lEBJ3A4",
        "jfl5efd_KfgF",
        "INrc9B0zLAWd",
        "Po7wOZj0Kspf",
        "I1y8KgL3MF7S",
        "ElxYAXz3LWR5"
      ],
      "private_outputs": true,
      "provenance": []
    },
    "kernelspec": {
      "display_name": "Python 3",
      "language": "python",
      "name": "python3"
    },
    "language_info": {
      "codemirror_mode": {
        "name": "ipython",
        "version": 3
      },
      "file_extension": ".py",
      "mimetype": "text/x-python",
      "name": "python",
      "nbconvert_exporter": "python",
      "pygments_lexer": "ipython3",
      "version": "3.8.10 (default, Nov 26 2021, 20:14:08) \n[GCC 9.3.0]"
    },
    "vscode": {
      "interpreter": {
        "hash": "31f2aee4e71d21fbe5cf8b01ff0e069b9275f58929596ceb00d14d90e3e16cd6"
      }
    }
  },
  "nbformat": 4,
  "nbformat_minor": 0
}
