{
  "cells": [
    {
      "attachments": {},
      "cell_type": "markdown",
      "metadata": {
        "tags": [
          "parameters",
          "test"
        ]
      },
      "source": [
        "# Application code"
      ]
    },
    {
      "cell_type": "code",
      "execution_count": 2,
      "metadata": {
        "id": "oqfM1QUkKV35"
      },
      "outputs": [
        {
          "name": "stdout",
          "output_type": "stream",
          "text": [
            "Requirement already satisfied: robin_stocks in /home/frsurpr/.local/lib/python3.8/site-packages (2.1.0)\n",
            "Requirement already satisfied: python-dotenv in /home/frsurpr/.local/lib/python3.8/site-packages (from robin_stocks) (0.21.0)\n",
            "Requirement already satisfied: cryptography in /usr/lib/python3/dist-packages (from robin_stocks) (2.8)\n",
            "Requirement already satisfied: pyotp in /home/frsurpr/.local/lib/python3.8/site-packages (from robin_stocks) (2.8.0)\n",
            "Requirement already satisfied: requests in /home/frsurpr/.local/lib/python3.8/site-packages (from robin_stocks) (2.28.1)\n",
            "Requirement already satisfied: certifi>=2017.4.17 in /usr/lib/python3/dist-packages (from requests->robin_stocks) (2019.11.28)\n",
            "Requirement already satisfied: idna<4,>=2.5 in /home/frsurpr/.local/lib/python3.8/site-packages (from requests->robin_stocks) (2.7)\n",
            "Requirement already satisfied: charset-normalizer<3,>=2 in /home/frsurpr/.local/lib/python3.8/site-packages (from requests->robin_stocks) (2.1.1)\n",
            "Requirement already satisfied: urllib3<1.27,>=1.21.1 in /home/frsurpr/.local/lib/python3.8/site-packages (from requests->robin_stocks) (1.23)\n",
            "Note: you may need to restart the kernel to use updated packages.\n"
          ]
        }
      ],
      "source": [
        "%pip install robin_stocks"
      ]
    },
    {
      "cell_type": "markdown",
      "metadata": {
        "id": "INrc9B0zLAWd"
      },
      "source": [
        "## Imports"
      ]
    },
    {
      "cell_type": "code",
      "execution_count": 3,
      "metadata": {
        "id": "KtPhE7UEKbd3"
      },
      "outputs": [],
      "source": [
        "from robin_stocks import robinhood as r"
      ]
    },
    {
      "cell_type": "markdown",
      "metadata": {
        "id": "Po7wOZj0Kspf"
      },
      "source": [
        "## Function definitions"
      ]
    },
    {
      "cell_type": "code",
      "execution_count": 4,
      "metadata": {
        "id": "0su3RCbPPH81"
      },
      "outputs": [],
      "source": [
        "def close_all_positions():\n",
        "  #Get all pending orders\n",
        "  current_positions = r.get_all_open_option_orders()\n",
        "\n",
        "  #Loop through orders and cancel each one\n",
        "  for order in current_positions:\n",
        "      print(\"closeing position: \", order[\"id\"])"
      ]
    },
    {
      "cell_type": "code",
      "execution_count": 5,
      "metadata": {
        "id": "HXSmtzVwJqsI"
      },
      "outputs": [],
      "source": [
        "def cancel_all_pending_orders():\n",
        "  #Get all pending orders\n",
        "  pending_orders = r.orders.get_all_open_option_orders()\n",
        "\n",
        "  #Loop through orders and cancel each one\n",
        "  for order in pending_orders:\n",
        "      print(\"Canceling order: \", order[\"id\"])\n",
        "      r.cancel_option_order(order[\"id\"])"
      ]
    },
    {
      "attachments": {},
      "cell_type": "markdown",
      "metadata": {
        "id": "I1y8KgL3MF7S"
      },
      "source": [
        "# Login into Robinhood"
      ]
    },
    {
      "cell_type": "code",
      "execution_count": 6,
      "metadata": {
        "cellView": "form",
        "id": "bFRaPJ-YL54k"
      },
      "outputs": [
        {
          "name": "stdout",
          "output_type": "stream",
          "text": [
            "Current OTP: 100246\n",
            "logged in using authentication in robinhood.pickle\n",
            "\n",
            "\n"
          ]
        }
      ],
      "source": [
        "%run \"rh_two_factor_log_in.py\""
      ]
    },
    {
      "attachments": {},
      "cell_type": "markdown",
      "metadata": {
        "id": "ElxYAXz3LWR5"
      },
      "source": [
        "# Cancel all pending orders"
      ]
    },
    {
      "cell_type": "code",
      "execution_count": 10,
      "metadata": {
        "id": "dAgoXZ0rLkx8"
      },
      "outputs": [
        {
          "name": "stdout",
          "output_type": "stream",
          "text": [
            "Found Additional pages.\n",
            "Loading page 2 ...\n",
            "Loading page 3 ...\n",
            "Loading page 4 ...\n",
            "Loading page 5 ...\n",
            "Loading page 6 ...\n",
            "Loading page 7 ...\n",
            "Loading page 8 ...\n",
            "Loading page 9 ...\n",
            "Loading page 10 ...\n",
            "Loading page 11 ...\n",
            "Loading page 12 ...\n",
            "Loading page 13 ...\n",
            "Loading page 14 ...\n",
            "Loading page 15 ...\n",
            "Loading page 16 ...\n",
            "Loading page 17 ...\n",
            "Loading page 18 ...\n",
            "Loading page 19 ...\n",
            "Loading page 20 ...\n",
            "Loading page 21 ...\n",
            "Loading page 22 ...\n",
            "Loading page 23 ...\n",
            "Loading page 24 ...\n",
            "Canceling order:  63bf1b59-d1d7-4c1f-bd1e-183955b891bb\n",
            "Canceling order:  63bf1b4f-de56-4ec8-b34e-ad947cedafe1\n",
            "Canceling order:  63bf1b4a-818f-45fc-91cf-4b7d1f44a822\n",
            "Canceling order:  63bf1b46-2d34-4091-bec4-b0065b7d48d1\n",
            "Canceling order:  63bf1b44-23df-490b-98ef-8abd0626320c\n",
            "Canceling order:  63bf1b42-cbd5-4972-861b-a755820f637b\n",
            "Canceling order:  63bf1b41-4278-46bc-9860-3caccd1f412d\n",
            "Canceling order:  63bf1b3f-805f-4753-abe9-9b0c24dbf594\n",
            "Canceling order:  63bf1916-78fe-4fa7-a320-100f659de5fc\n",
            "Canceling order:  63bf1911-1cb9-4481-ae0a-53c2aca48791\n",
            "Canceling order:  63bf190d-d20b-4cca-81b2-69b97dcd28f2\n",
            "Canceling order:  63bf190b-028e-4a86-a9ca-30cb08287cbd\n"
          ]
        }
      ],
      "source": [
        "cancel_all_pending_orders()"
      ]
    },
    {
      "cell_type": "markdown",
      "metadata": {
        "id": "SH9i2VgDOkz_"
      },
      "source": [
        "#Close all positions\n"
      ]
    },
    {
      "cell_type": "code",
      "execution_count": null,
      "metadata": {
        "id": "LD2LSDnqOlFe"
      },
      "outputs": [],
      "source": [
        "close_all_positions()"
      ]
    },
    {
      "cell_type": "markdown",
      "metadata": {
        "id": "f0yoL9ZgQ-GY"
      },
      "source": [
        "# Logout"
      ]
    },
    {
      "cell_type": "code",
      "execution_count": null,
      "metadata": {
        "id": "u-O6Pl-CQ9mg"
      },
      "outputs": [],
      "source": [
        "if r.logout() == None:\n",
        "  print(\"logged out\")"
      ]
    }
  ],
  "metadata": {
    "colab": {
      "collapsed_sections": [
        "KgJI8lEBJ3A4",
        "jfl5efd_KfgF",
        "INrc9B0zLAWd",
        "Po7wOZj0Kspf",
        "I1y8KgL3MF7S",
        "ElxYAXz3LWR5"
      ],
      "private_outputs": true,
      "provenance": []
    },
    "kernelspec": {
      "display_name": "Python 3",
      "language": "python",
      "name": "python3"
    },
    "language_info": {
      "codemirror_mode": {
        "name": "ipython",
        "version": 3
      },
      "file_extension": ".py",
      "mimetype": "text/x-python",
      "name": "python",
      "nbconvert_exporter": "python",
      "pygments_lexer": "ipython3",
      "version": "3.8.10"
    },
    "vscode": {
      "interpreter": {
        "hash": "31f2aee4e71d21fbe5cf8b01ff0e069b9275f58929596ceb00d14d90e3e16cd6"
      }
    }
  },
  "nbformat": 4,
  "nbformat_minor": 0
}
