{
  "cells": [
    {
      "attachments": {},
      "cell_type": "markdown",
      "metadata": {
        "id": "7Kdxs72pMrNB"
      },
      "source": [
        "# Info\n",
        "\n",
        "You can run the entire script by press **CTRL+F9**.\n",
        "\n",
        "For more helpful scripts, check out the quick commands.\n",
        "*   [Robohood | Quick commands](https://colab.research.google.com/drive1WsbRD8Rlz_ceSoGQzeGPZX5bNeRLLbz5?usp=sharing)\n",
        "*  [Cancel all pending orders](https://colab.research.google.com/drive/1WsbRD8Rlz_ceSoGQzeGPZX5bNeRLLbz5#scrollTo=ElxYAXz3LWR5&line=1&uniqifier=1)\n",
        "*  [Close all positions](https://colab.research.google.com/drive/1WsbRD8Rlz_ceSoGQzeGPZX5bNeRLLbz5#scrollTo=LD2LSDnqOlFe&line=1&uniqifier=1)"
      ]
    },
    {
      "attachments": {},
      "cell_type": "markdown",
      "metadata": {
        "id": "DgzXDblw8SXY"
      },
      "source": [
        "#Application code\n",
        "Only needs to be run once per session."
      ]
    },
    {
      "cell_type": "code",
      "execution_count": null,
      "metadata": {
        "id": "BZb4Wg_fao4F"
      },
      "outputs": [],
      "source": [
        "%pip install robin_stocks"
      ]
    },
    {
      "cell_type": "code",
      "execution_count": null,
      "metadata": {
        "id": "stLt_V4mU0Rz"
      },
      "outputs": [],
      "source": [
        "from robin_stocks import robinhood as r\n",
        "import itertools\n",
        "from datetime import datetime\n",
        "import getpass\n",
        "import sys"
      ]
    },
    {
      "cell_type": "markdown",
      "metadata": {
        "id": "s49cv3YtLFug"
      },
      "source": [
        "## Funcitons"
      ]
    },
    {
      "cell_type": "code",
      "execution_count": null,
      "metadata": {
        "id": "_UOtdcQnK7mx"
      },
      "outputs": [],
      "source": [
        "def get_spread_cost(front_leg_option, back_leg_option):\n",
        "  spread_cost = sys.maxsize\n",
        "  back_ask_price = back_leg_option.get(\"high_fill_rate_buy_price\")\n",
        "  front_bid_price = front_leg_option.get(\"high_fill_rate_sell_price\")\n",
        "\n",
        "  if(back_ask_price and front_bid_price):\n",
        "    spread_cost = round(float(back_ask_price) - float(front_bid_price), 2)\n",
        "\n",
        "  return spread_cost"
      ]
    },
    {
      "cell_type": "code",
      "execution_count": null,
      "metadata": {
        "id": "emzpDMH5LDAN"
      },
      "outputs": [],
      "source": [
        "def find_calendar_spreads(options):\n",
        "    # Create a create new calendar spread for every combination of expiration dates where the short front leg expiration_date is less than the long back leg of the spread\n",
        "  sorted_options = sorted(options, key=lambda x: (float(x['strike_price']), datetime.strptime(x[\"expiration_date\"],'%Y-%m-%d')))\n",
        "\n",
        "  options_grouped_by_strike = itertools.groupby(sorted_options, lambda x : x['strike_price'])\n",
        "\n",
        "  today = datetime.today()\n",
        "\n",
        "  #  using the front_leg_option and back_leg_option as the front and back legs of the trade, create a debit calendar spread\n",
        "  #  with a cost of zero\n",
        "  calendar_spreads = []\n",
        "  for strike, options in options_grouped_by_strike:\n",
        "    for (front_leg_option, back_leg_option) in itertools.combinations(options,2):\n",
        "      front_expiration_date = datetime.strptime(front_leg_option[\"expiration_date\"],'%Y-%m-%d')\n",
        "      back_expiration_date = datetime.strptime(back_leg_option[\"expiration_date\"],'%Y-%m-%d')\n",
        "      optionTypeIsSame = front_leg_option[\"type\"] == back_leg_option[\"type\"]\n",
        "\n",
        "      if (optionTypeIsSame and (front_expiration_date > today) and (front_expiration_date < back_expiration_date)):\n",
        "        calendar_spreads.append((front_leg_option, back_leg_option, get_spread_cost(front_leg_option, back_leg_option)))\n",
        "\n",
        "  return calendar_spreads"
      ]
    },
    {
      "cell_type": "code",
      "execution_count": null,
      "metadata": {
        "id": "0QZ8cAtqK9Mv"
      },
      "outputs": [],
      "source": [
        "def order_calendar_spread(spread, price=0.00, quantity=1, timeInForce='gfd'):\n",
        "  front_leg_option, back_leg_option, spread_cost = spread\n",
        "  symbol = front_leg_option[\"symbol\"]\n",
        "  params = [\n",
        "            {\n",
        "            'expirationDate': front_leg_option['expiration_date'],\n",
        "            'strike': front_leg_option['strike_price'],\n",
        "            'optionType': front_leg_option['type'],\n",
        "            'quantity': '1',\n",
        "            'effect': 'open',\n",
        "            'action': 'sell',\n",
        "          },\n",
        "          {\n",
        "            'expirationDate': back_leg_option['expiration_date'],\n",
        "            'strike': back_leg_option['strike_price'],\n",
        "            'optionType': back_leg_option['type'],\n",
        "            'quantity': '1',\n",
        "            'effect': 'open',\n",
        "            'action': 'buy',\n",
        "          },\n",
        "  ]\n",
        "  \n",
        "  return r.orders.order_option_spread(direction='debit', price=price, symbol=symbol, quantity=quantity, spread=params, timeInForce=timeInForce)\n"
      ]
    },
    {
      "cell_type": "code",
      "execution_count": null,
      "metadata": {
        "id": "zNMPwTXkK5AN"
      },
      "outputs": [],
      "source": [
        "def filter_calendar_spreads(spreads, spread_max_cost=.1):\n",
        "\n",
        "  filtered_spreads = list(filter(lambda spread: spread[2] <= spread_max_cost, spreads))\n",
        "  filtered_spreads = sorted(filtered_spreads, key=lambda spread: (spread[2]))\n",
        "\n",
        "  return filtered_spreads"
      ]
    },
    {
      "cell_type": "code",
      "execution_count": null,
      "metadata": {
        "id": "xZojoOCWRixB"
      },
      "outputs": [],
      "source": [
        "def get_current_price_of_symbol(symbol=\"SPY\"):\n",
        "  current_price = round(float(r.stocks.get_latest_price(symbol)[0]))\n",
        "  print(\"{} is currently trading at: ${}\".format(symbol, current_price))\n",
        "  return current_price "
      ]
    },
    {
      "cell_type": "code",
      "execution_count": null,
      "metadata": {
        "id": "_ZX2EVGyPt-s"
      },
      "outputs": [],
      "source": [
        "def scan_for_options(symbol, optionType, min_strike_offset, max_strike_offset):\n",
        "  if(optionType == 'both'):\n",
        "    optionType = \"\"\n",
        "\n",
        "  current_price = get_current_price_of_symbol(symbol)\n",
        "  min_strike = current_price - min_strike_offset;\n",
        "  max_strike = current_price + max_strike_offset;\n",
        "\n",
        "  # Get the list of options available and sort by strike_price and expiration_date\n",
        "  options = r.options.find_tradable_options(symbol, optionType=optionType, info=None)\n",
        "  options = list(filter(lambda x: (float(x[\"strike_price\"]) > min_strike) and (float(x[\"strike_price\"]) < max_strike), options))\n",
        "  return options"
      ]
    },
    {
      "cell_type": "code",
      "execution_count": null,
      "metadata": {
        "id": "LrxOSRlUakWO"
      },
      "outputs": [],
      "source": [
        "def print_spread(spread):\n",
        "  (front_leg_option, back_leg_option, spread_cost) = spread\n",
        "  strike = float(front_leg_option.get(\"strike_price\"))\n",
        "  print(\"strike {} | short {} @ {} | long {} @ {} | spread: ${}\".format(\n",
        "      strike,\n",
        "      front_leg_option.get(\"type\"),\n",
        "      front_leg_option.get(\"expiration_date\"),\n",
        "      back_leg_option.get(\"type\"),\n",
        "      back_leg_option.get(\"expiration_date\"),\n",
        "      spread_cost))"
      ]
    },
    {
      "cell_type": "code",
      "execution_count": null,
      "metadata": {
        "id": "dJwuoJddakeZ"
      },
      "outputs": [],
      "source": [
        "def print_spreads(spreads):\n",
        "  for spread in spreads:\n",
        "    print_spread(spread)"
      ]
    },
    {
      "cell_type": "code",
      "execution_count": null,
      "metadata": {
        "id": "y4TJOdTCakls"
      },
      "outputs": [],
      "source": [
        "def place_calendar_spreads(spreads, price_type, quanity_type, timeInForce):\n",
        "  price = 0.00\n",
        "  quantity=1\n",
        "\n",
        "  if(price_type == \"set_for_all\"):\n",
        "    price = float(input(\"Price for all orders: \") or 0.00)\n",
        "\n",
        "  if(quanity_type == \"set_for_all\"):\n",
        "    quantity = int(input(\"Quantity for all orders: \") or 0)\n",
        "\n",
        "  for spread in spreads:\n",
        "    (front_leg_option, back_leg_option, spread_cost) = spread\n",
        "    print_spread(spread)\n",
        "\n",
        "    if(price_type == \"set_each\"):\n",
        "      price = float(input(\"price (limit): \") or 0.00)\n",
        "\n",
        "    if(price_type == \"spread_cost\"):\n",
        "      price = spread_cost\n",
        "\n",
        "    if(quanity_type == \"set_each\"):\n",
        "      quantity = int(input(\"order size (quantity): \") or 1)\n",
        "    print(\"buy {} @ ${}\".format(quantity, price))\n",
        "    results = order_calendar_spread(spread=spread, price=price, quantity=quantity, timeInForce=timeInForce)\n",
        "    print(results)"
      ]
    },
    {
      "cell_type": "code",
      "execution_count": null,
      "metadata": {
        "id": "re1QmboxbVIK"
      },
      "outputs": [],
      "source": [
        "def update_option_market_data(options):\n",
        "  for item in options:\n",
        "    marketData = r.options.get_option_market_data_by_id(item['id'])\n",
        "    if marketData:\n",
        "        item.update(marketData[0])"
      ]
    },
    {
      "cell_type": "markdown",
      "metadata": {
        "id": "FQmJxZE-DFVi"
      },
      "source": [
        "# Login"
      ]
    },
    {
      "cell_type": "code",
      "execution_count": null,
      "metadata": {
        "id": "JzExam5DaIx2"
      },
      "outputs": [],
      "source": [
        "#@title #Authenticate { vertical-output: true, display-mode: \"form\" }\n",
        "username = \"\" #@param {type:\"string\"}\n",
        "password = \"\" #@param {type:\"string\"}\n",
        "r.login(username, password)"
      ]
    },
    {
      "cell_type": "markdown",
      "metadata": {
        "id": "_vdpgRFRQKbm"
      },
      "source": [
        "#Scan for options"
      ]
    },
    {
      "cell_type": "markdown",
      "metadata": {
        "id": "QXnRUdOf75x6"
      },
      "source": [
        "> Inputs needed: offset and max offset. By default, the scanner will analize $10 worth of different strikes. 5 above and 5 below.\n",
        "\n",
        "* **symbol**: example \"spy\"\n",
        "* **min strike offset**: how far below the current strike you want to look. The default is 5 dollars.\n",
        "* **max strike offset**: how far above the current strike you want to look. The \n",
        "default is 5 dollars."
      ]
    },
    {
      "cell_type": "code",
      "execution_count": null,
      "metadata": {
        "id": "xRk9_S-ganWm"
      },
      "outputs": [],
      "source": [
        "#@title Enter option criteria { run: \"auto\", vertical-output: true, display-mode: \"form\" }\n",
        "# Create a script that places a debit calendar spread for each tradeable option of a given symbol. The cost of the spread needs to be zero.\n",
        "symbol = \"SPY\" #@param {type:\"string\"}\n",
        "optionType = \"both\" #@param [\"call\", \"put\", \"both\"]\n",
        "min_strike_offset = 2 #@param {type:\"number\"}\n",
        "max_strike_offset =  2 #@param {type:\"number\"}\n",
        "\n",
        "options = scan_for_options(symbol, optionType, min_strike_offset, max_strike_offset)\n",
        "print(\"Base on user criteria, you found {} to analize!\".format(len(options)))"
      ]
    },
    {
      "cell_type": "markdown",
      "metadata": {
        "id": "_EQgSKflxpeh"
      },
      "source": [
        "##Get option market data\n"
      ]
    },
    {
      "cell_type": "markdown",
      "metadata": {
        "id": "XxoyXbTjS00Y"
      },
      "source": [
        "> This gets the latest market information for each option found. Data such as ask_price and bid_price are changing all the time. It's a good idea to refresh this often."
      ]
    },
    {
      "cell_type": "code",
      "execution_count": 50,
      "metadata": {
        "id": "1sbX_vfcxpVd"
      },
      "outputs": [],
      "source": [
        "update_option_market_data(options)"
      ]
    },
    {
      "cell_type": "markdown",
      "metadata": {
        "id": "2y-J-bUxxcqT"
      },
      "source": [
        "#Filter calendar spreads"
      ]
    },
    {
      "cell_type": "markdown",
      "metadata": {
        "id": "-xKUSB0uTM3t"
      },
      "source": [
        "Enter max price you want filter for each spread. This is calculated by subtracting the front leg bid price from the ask price of the back leg. ask_price - bid_price = spread_cost. The default is $0.30."
      ]
    },
    {
      "cell_type": "code",
      "execution_count": 52,
      "metadata": {
        "id": "-M2jDg1HxcDM"
      },
      "outputs": [
        {
          "name": "stdout",
          "output_type": "stream",
          "text": [
            "10 spreads found.\n",
            "strike 392.0 | short put @ 2023-01-18 | long put @ 2023-01-19 | spread: $0.23\n",
            "strike 390.0 | short put @ 2023-01-18 | long put @ 2023-01-19 | spread: $0.24\n",
            "strike 391.0 | short put @ 2023-01-17 | long put @ 2023-01-18 | spread: $0.24\n",
            "strike 391.0 | short put @ 2023-01-18 | long put @ 2023-01-19 | spread: $0.24\n",
            "strike 391.0 | short put @ 2023-01-19 | long put @ 2023-01-20 | spread: $0.24\n",
            "strike 392.0 | short put @ 2023-01-19 | long put @ 2023-01-20 | spread: $0.24\n",
            "strike 390.0 | short put @ 2023-01-17 | long put @ 2023-01-18 | spread: $0.25\n",
            "strike 391.0 | short put @ 2023-01-20 | long put @ 2023-01-23 | spread: $0.25\n",
            "strike 391.0 | short put @ 2023-01-23 | long put @ 2023-01-24 | spread: $0.25\n",
            "strike 392.0 | short put @ 2023-01-20 | long put @ 2023-01-23 | spread: $0.25\n"
          ]
        }
      ],
      "source": [
        "#@title Filter based on spread cost { run: \"auto\", vertical-output: true, display-mode: \"form\" }\n",
        "max_spread_cost =  0.25 #@param {type:\"number\"}\n",
        "calendar_spreads = find_calendar_spreads(options)\n",
        "filtered_spreads = filter_calendar_spreads(calendar_spreads, max_spread_cost)\n",
        "print(\"{} spreads found.\".format(len(filtered_spreads)))\n",
        "print_spreads(filtered_spreads)"
      ]
    },
    {
      "cell_type": "markdown",
      "metadata": {
        "id": "bAzIy6xWC2MF"
      },
      "source": [
        "#Create calendar spread orders"
      ]
    },
    {
      "cell_type": "markdown",
      "metadata": {
        "id": "VA_OKgz3XNU_"
      },
      "source": [
        "Select the number of order you want to place. Note: the max number of orders you can create in robinhood is 11."
      ]
    },
    {
      "cell_type": "code",
      "execution_count": 53,
      "metadata": {
        "id": "CVpgn4tyXMVA"
      },
      "outputs": [
        {
          "name": "stdout",
          "output_type": "stream",
          "text": [
            "strike 392.0 | short put @ 2023-01-18 | long put @ 2023-01-19 | spread: $0.23\n",
            "strike 390.0 | short put @ 2023-01-18 | long put @ 2023-01-19 | spread: $0.24\n"
          ]
        }
      ],
      "source": [
        "#@title How many orders do you want to place? { run: \"auto\", vertical-output: true, display-mode: \"form\" }\n",
        "max_order_size = 2 #@param {type:\"integer\"}\n",
        "top_filtered_spreads = filtered_spreads[:max_order_size] # robinhood only allows 12 orders\n",
        "print_spreads(top_filtered_spreads)"
      ]
    },
    {
      "cell_type": "code",
      "execution_count": 54,
      "metadata": {
        "id": "iXl9t-3DCZPH"
      },
      "outputs": [
        {
          "name": "stdout",
          "output_type": "stream",
          "text": [
            "strike 392.0 | short put @ 2023-01-18 | long put @ 2023-01-19 | spread: $0.23\n",
            "buy 1 @ $0.23\n",
            "{'account_number': '5UI31739', 'cancel_url': 'https://api.robinhood.com/options/orders/63be79b7-70ca-4141-90f1-a8786ebeeb22/cancel/', 'canceled_quantity': '0.00000', 'created_at': '2023-01-11T08:56:23.560431Z', 'direction': 'debit', 'id': '63be79b7-70ca-4141-90f1-a8786ebeeb22', 'legs': [{'executions': [], 'id': '63be79b7-7e84-4cf1-a03d-1e410a5266c8', 'option': 'https://api.robinhood.com/options/instruments/51b1b461-8b6b-4255-8397-55800975d3c5/', 'position_effect': 'open', 'ratio_quantity': 1, 'side': 'buy', 'expiration_date': '2023-01-19', 'strike_price': '392.0000', 'option_type': 'put', 'long_strategy_code': '51b1b461-8b6b-4255-8397-55800975d3c5_L1', 'short_strategy_code': '51b1b461-8b6b-4255-8397-55800975d3c5_S1'}, {'executions': [], 'id': '63be79b7-660d-445b-9dab-df7a208317fe', 'option': 'https://api.robinhood.com/options/instruments/76b397ef-e374-4605-80e6-bc794fa3e929/', 'position_effect': 'open', 'ratio_quantity': 1, 'side': 'sell', 'expiration_date': '2023-01-18', 'strike_price': '392.0000', 'option_type': 'put', 'long_strategy_code': '76b397ef-e374-4605-80e6-bc794fa3e929_L1', 'short_strategy_code': '76b397ef-e374-4605-80e6-bc794fa3e929_S1'}], 'pending_quantity': '1.00000', 'premium': '23.00000000', 'processed_premium': '0', 'price': '0.23000000', 'processed_quantity': '0.00000', 'quantity': '1.00000', 'ref_id': '7e8c86bd-1b39-46a5-bfdf-5b0cf496dc97', 'state': 'unconfirmed', 'time_in_force': 'gfd', 'trigger': 'immediate', 'type': 'limit', 'updated_at': '2023-01-11T08:56:23.571586Z', 'chain_id': 'c277b118-58d9-4060-8dc5-a3b5898955cb', 'chain_symbol': 'SPY', 'response_category': None, 'opening_strategy': 'put_calendar_spread', 'closing_strategy': None, 'stop_price': None, 'form_source': None, 'client_bid_at_submission': None, 'client_ask_at_submission': None, 'client_time_at_submission': None}\n",
            "strike 390.0 | short put @ 2023-01-18 | long put @ 2023-01-19 | spread: $0.24\n",
            "buy 1 @ $0.24\n",
            "{'account_number': '5UI31739', 'cancel_url': 'https://api.robinhood.com/options/orders/63be79b9-fd62-45e1-87c4-a34c4063999d/cancel/', 'canceled_quantity': '0.00000', 'created_at': '2023-01-11T08:56:25.015452Z', 'direction': 'debit', 'id': '63be79b9-fd62-45e1-87c4-a34c4063999d', 'legs': [{'executions': [], 'id': '63be79b9-f48e-4b80-b130-21701e21c787', 'option': 'https://api.robinhood.com/options/instruments/0f37d7ae-62fb-4134-a01d-13e605d6e243/', 'position_effect': 'open', 'ratio_quantity': 1, 'side': 'buy', 'expiration_date': '2023-01-19', 'strike_price': '390.0000', 'option_type': 'put', 'long_strategy_code': '0f37d7ae-62fb-4134-a01d-13e605d6e243_L1', 'short_strategy_code': '0f37d7ae-62fb-4134-a01d-13e605d6e243_S1'}, {'executions': [], 'id': '63be79b9-f2f0-42a1-ad0a-9c39ac8d0eb5', 'option': 'https://api.robinhood.com/options/instruments/5f172977-a64f-416a-83de-1d90a2000f91/', 'position_effect': 'open', 'ratio_quantity': 1, 'side': 'sell', 'expiration_date': '2023-01-18', 'strike_price': '390.0000', 'option_type': 'put', 'long_strategy_code': '5f172977-a64f-416a-83de-1d90a2000f91_L1', 'short_strategy_code': '5f172977-a64f-416a-83de-1d90a2000f91_S1'}], 'pending_quantity': '1.00000', 'premium': '24.00000000', 'processed_premium': '0', 'price': '0.24000000', 'processed_quantity': '0.00000', 'quantity': '1.00000', 'ref_id': '1bdae888-c927-43e0-aa06-72cb3d3ff890', 'state': 'unconfirmed', 'time_in_force': 'gfd', 'trigger': 'immediate', 'type': 'limit', 'updated_at': '2023-01-11T08:56:25.025572Z', 'chain_id': 'c277b118-58d9-4060-8dc5-a3b5898955cb', 'chain_symbol': 'SPY', 'response_category': None, 'opening_strategy': 'put_calendar_spread', 'closing_strategy': None, 'stop_price': None, 'form_source': None, 'client_bid_at_submission': None, 'client_ask_at_submission': None, 'client_time_at_submission': None}\n"
          ]
        }
      ],
      "source": [
        "#@title Place calendar orders based on the following parameters: { vertical-output: true, display-mode: \"form\" }\n",
        "price_type = \"spread_cost\"  # @param [\"spread_cost\", \"set_for_all\", \"set_each\"]\n",
        "quanity_type = \"set_for_all\"  # @param [\"set_each\", \"set_for_all\"]\n",
        "timeInForce='gfd'  #@param [\"gfd\", \"gtc\"] \n",
        "place_calendar_spreads(top_filtered_spreads, price_type, quanity_type, timeInForce)"
      ]
    }
  ],
  "metadata": {
    "colab": {
      "collapsed_sections": [
        "DgzXDblw8SXY"
      ],
      "private_outputs": true,
      "provenance": []
    },
    "gpuClass": "standard",
    "kernelspec": {
      "display_name": "Python 3",
      "language": "python",
      "name": "python3"
    },
    "language_info": {
      "codemirror_mode": {
        "name": "ipython",
        "version": 3
      },
      "file_extension": ".py",
      "mimetype": "text/x-python",
      "name": "python",
      "nbconvert_exporter": "python",
      "pygments_lexer": "ipython3",
      "version": "3.8.10 (default, Nov 26 2021, 20:14:08) \n[GCC 9.3.0]"
    },
    "vscode": {
      "interpreter": {
        "hash": "31f2aee4e71d21fbe5cf8b01ff0e069b9275f58929596ceb00d14d90e3e16cd6"
      }
    }
  },
  "nbformat": 4,
  "nbformat_minor": 0
}
