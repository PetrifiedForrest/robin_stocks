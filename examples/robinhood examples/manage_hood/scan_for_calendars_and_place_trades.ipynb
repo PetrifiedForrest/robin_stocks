{
  "cells": [
    {
      "attachments": {},
      "cell_type": "markdown",
      "metadata": {
        "id": "7Kdxs72pMrNB"
      },
      "source": [
        "# Information\n",
        "\n",
        "You can run the entire script by press **CTRL+F9**.\n",
        "\n",
        "For more helpful scripts, check out the quick commands.\n",
        "*   [Robohood | Quick commands](https://colab.research.google.com/drive1WsbRD8Rlz_ceSoGQzeGPZX5bNeRLLbz5?usp=sharing)\n",
        "*  [Cancel all pending orders](https://colab.research.google.com/drive/1WsbRD8Rlz_ceSoGQzeGPZX5bNeRLLbz5#scrollTo=ElxYAXz3LWR5&line=1&uniqifier=1)\n",
        "*  [Close all positions](https://colab.research.google.com/drive/1WsbRD8Rlz_ceSoGQzeGPZX5bNeRLLbz5#scrollTo=LD2LSDnqOlFe&line=1&uniqifier=1)"
      ]
    },
    {
      "attachments": {},
      "cell_type": "markdown",
      "metadata": {
        "id": "DgzXDblw8SXY"
      },
      "source": [
        "# Application code\n",
        "Only needs to be run once per session."
      ]
    },
    {
      "cell_type": "code",
      "execution_count": null,
      "metadata": {
        "id": "BZb4Wg_fao4F"
      },
      "outputs": [],
      "source": [
        "#%pip install robin_stocks"
      ]
    },
    {
      "cell_type": "code",
      "execution_count": null,
      "metadata": {
        "id": "stLt_V4mU0Rz"
      },
      "outputs": [],
      "source": [
        "from robin_stocks import robinhood as r\n",
        "import itertools\n",
        "from datetime import datetime\n",
        "import getpass\n",
        "import sys\n",
        "import time\n"
      ]
    },
    {
      "cell_type": "markdown",
      "metadata": {
        "id": "s49cv3YtLFug"
      },
      "source": [
        "## Funcitons"
      ]
    },
    {
      "cell_type": "code",
      "execution_count": null,
      "metadata": {
        "id": "_UOtdcQnK7mx"
      },
      "outputs": [],
      "source": [
        "def get_spread_cost(front_leg_option, back_leg_option, params):\n",
        "  spread_cost = -1\n",
        "  front_price = front_leg_option.get(params[0])\n",
        "  back_price = back_leg_option.get(params[1])\n",
        "\n",
        "  if (back_price and front_price):\n",
        "    spread_cost = round(float(back_price) - float(front_price), 2)\n",
        "\n",
        "  return spread_cost"
      ]
    },
    {
      "cell_type": "code",
      "execution_count": null,
      "metadata": {
        "id": "N-6HuXNYtrs6"
      },
      "outputs": [],
      "source": [
        "def get_min_order_quantity(spread):\n",
        "  (front_leg_option, back_leg_option, spread_cost, profitability) = spread\n",
        "\n",
        "  back_size = back_leg_option.get(\"ask_size\")\n",
        "  front_size = front_leg_option.get(\"bid_size\")\n",
        "\n",
        "  if (front_size and back_size):\n",
        "    return min(int(front_size), int(back_size))\n",
        "  else:\n",
        "    return 0"
      ]
    },
    {
      "cell_type": "code",
      "execution_count": null,
      "metadata": {},
      "outputs": [],
      "source": [
        "def get_chance_of_profit(front_leg_option, back_leg_option):\n",
        "    chance_of_profit_short = front_leg_option.get(\"chance_of_profit_short\")\n",
        "    chance_of_profit_long = back_leg_option.get(\"chance_of_profit_long\")\n",
        "    if (chance_of_profit_short and chance_of_profit_long):\n",
        "        return float(chance_of_profit_short) + float(chance_of_profit_long)\n",
        "    return 0"
      ]
    },
    {
      "cell_type": "code",
      "execution_count": null,
      "metadata": {
        "id": "emzpDMH5LDAN"
      },
      "outputs": [],
      "source": [
        "def find_calendar_spreads(options, params):\n",
        "  # Create a create new calendar spread for every combination of expiration dates where the short front leg expiration_date is less than the long back leg of the spread\n",
        "  sorted_options = sorted(options, key=lambda x: (float(x['strike_price'])))\n",
        "  options_grouped_by_strike = itertools.groupby(sorted_options, lambda x : x['strike_price'])\n",
        "  today = datetime.today()\n",
        "\n",
        "  #  using the front_leg_option and back_leg_option as the front and back legs of the trade, create a debit calendar spread\n",
        "  #  with a cost of zero\n",
        "  calendar_spreads = []\n",
        "  for strike, options in options_grouped_by_strike:\n",
        "    for (front_leg_option, back_leg_option) in itertools.combinations(options,2):\n",
        "      front_expiration_date = datetime.strptime(front_leg_option[\"expiration_date\"],'%Y-%m-%d')\n",
        "      back_expiration_date = datetime.strptime(back_leg_option[\"expiration_date\"],'%Y-%m-%d')\n",
        "      optionTypeIsSame = front_leg_option[\"type\"] == back_leg_option[\"type\"]\n",
        "\n",
        "      if (optionTypeIsSame and (front_expiration_date > today) and (front_expiration_date < back_expiration_date)):\n",
        "        spread_cost = get_spread_cost(front_leg_option, back_leg_option, params)\n",
        "        profitability = get_chance_of_profit(front_leg_option, back_leg_option)\n",
        "        spread = (front_leg_option, back_leg_option,\n",
        "                  spread_cost, profitability)\n",
        "\n",
        "        calendar_spreads.append(spread)\n",
        "\n",
        "  return calendar_spreads"
      ]
    },
    {
      "cell_type": "code",
      "execution_count": null,
      "metadata": {
        "id": "xZojoOCWRixB"
      },
      "outputs": [],
      "source": [
        "def get_current_price_of_symbol(symbol=\"SPY\"):\n",
        "  current_price = round(float(r.stocks.get_latest_price(symbol)[0]))\n",
        "  print(\"{} is currently trading at: ${}\".format(symbol, current_price))\n",
        "  return current_price "
      ]
    },
    {
      "cell_type": "code",
      "execution_count": null,
      "metadata": {
        "id": "_ZX2EVGyPt-s"
      },
      "outputs": [],
      "source": [
        "def scan_for_options(symbol, optionType, min_strike_offset, max_strike_offset):\n",
        "  if(optionType == 'both'):\n",
        "    optionType = \"\"\n",
        "\n",
        "  current_price = get_current_price_of_symbol(symbol)\n",
        "  min_strike = current_price - min_strike_offset;\n",
        "  max_strike = current_price + max_strike_offset;\n",
        "\n",
        "  # Get the list of options available and sort by strike_price and expiration_date\n",
        "  options = r.options.find_tradable_options(symbol, optionType=optionType, info=None)\n",
        "  options = list(filter(lambda x: (float(x[\"strike_price\"]) > min_strike) and (float(x[\"strike_price\"]) < max_strike), options))\n",
        "  return options"
      ]
    },
    {
      "cell_type": "code",
      "execution_count": null,
      "metadata": {
        "id": "LrxOSRlUakWO"
      },
      "outputs": [],
      "source": [
        "def print_spread(spread):\n",
        "  (front_leg_option, back_leg_option, spread_cost, profitability) = spread\n",
        "  strike = float(front_leg_option.get(\"strike_price\"))\n",
        "  print(\"strike {} | short {} @ {} | long {} @ {} | spread: ${} | profitability: {}\".format(\n",
        "      strike,\n",
        "      front_leg_option.get(\"type\"),\n",
        "      front_leg_option.get(\"expiration_date\"),\n",
        "      back_leg_option.get(\"type\"),\n",
        "      back_leg_option.get(\"expiration_date\"),\n",
        "      spread_cost,\n",
        "      profitability))\n"
      ]
    },
    {
      "cell_type": "code",
      "execution_count": null,
      "metadata": {
        "id": "dJwuoJddakeZ"
      },
      "outputs": [],
      "source": [
        "def print_spreads(spreads):\n",
        "  for spread in spreads:\n",
        "    print_spread(spread)"
      ]
    },
    {
      "cell_type": "code",
      "execution_count": 64,
      "metadata": {
        "id": "0QZ8cAtqK9Mv"
      },
      "outputs": [],
      "source": [
        "from time import sleep\n",
        "def order_calendar_spread(spread, price=0.00, quantity=1, timeInForce='gfd', max_attempts=3, sleep_time=1):\n",
        "  (front_leg_option, back_leg_option, spread_cost, profitability) = spread\n",
        "  symbol = front_leg_option[\"symbol\"]\n",
        "  params = [\n",
        "            {\n",
        "            'expirationDate': front_leg_option['expiration_date'],\n",
        "            'strike': front_leg_option['strike_price'],\n",
        "            'optionType': front_leg_option['type'],\n",
        "            'quantity': '1',\n",
        "            'effect': 'open',\n",
        "            'action': 'sell',\n",
        "          },\n",
        "          {\n",
        "            'expirationDate': back_leg_option['expiration_date'],\n",
        "            'strike': back_leg_option['strike_price'],\n",
        "            'optionType': back_leg_option['type'],\n",
        "            'quantity': '1',\n",
        "            'effect': 'open',\n",
        "            'action': 'buy',\n",
        "          },\n",
        "  ]\n",
        "  \n",
        "  print(\"buying {} @ ${}\".format(quantity, price))\n",
        "\n",
        "  order = r.orders.order_option_spread(direction='debit', price=price, symbol=symbol,\n",
        "                                       quantity=quantity, spread=params, timeInForce=timeInForce)\n",
        "  if(order):\n",
        "    if (order.get(\"state\")):\n",
        "      print_spread(spread)\n",
        "      return order\n",
        "\n",
        "    if (order.get(\"detail\")):\n",
        "        print(order.get(\"detail\"))\n",
        "        return order\n",
        "  else:\n",
        "    attempts = 0\n",
        "    while attempts < max_attempts:\n",
        "      attempts += 1\n",
        "      print(\"Something failed. Auto retry attempt {} of {}\".format(attempts, max_attempts))\n",
        "      order = r.orders.order_option_spread(direction='debit', price=price, symbol=symbol,\n",
        "                                          quantity=quantity, spread=params, timeInForce=timeInForce)\n",
        "      sleep(sleep_time)\n",
        "\n",
        "      if attempts == max_attempts:\n",
        "          print(\"max number of tries exceeded. Order failed because \")\n",
        "          print(order.get(\"detail\"))\n",
        "\n",
        "  return order"
      ]
    },
    {
      "cell_type": "code",
      "execution_count": null,
      "metadata": {
        "id": "y4TJOdTCakls"
      },
      "outputs": [],
      "source": [
        "def place_calendar_spreads(spreads, price_type, quantity_type, timeInForce, max_quantity=250, price=0.00, quantity=1):\n",
        "  results = []\n",
        "  if(price_type == \"set_for_all\"):\n",
        "    price = float(input(\"Please enter the PRICE for each order: \") or 0.00)\n",
        "\n",
        "  if(quantity_type == \"set_for_all\"):\n",
        "    quantity = int(input(\"Please enter the QUANTITY for each order: \") or 0)\n",
        "\n",
        "  if (quantity_type == \"use_max_available_spreads\"):\n",
        "    user_max_quantity = int(input(\"Please enter the MAX_QUANTITY for each order: \") or max_quantity)\n",
        "\n",
        "  for spread in spreads:\n",
        "    (front_leg_option, back_leg_option, spread_cost, profitability) = spread\n",
        "\n",
        "    if(price_type == \"set_each\"):\n",
        "      price = float(input(\"price (limit): \") or 0.00)\n",
        "\n",
        "    if (price_type == \"use_spread_cost\"):\n",
        "      price = spread_cost\n",
        "\n",
        "    if(quantity_type == \"set_each\"):\n",
        "      quantity = int(input(\"order size (quantity): \") or 1)\n",
        "\n",
        "    if (quantity_type == \"use_max_available_spreads\"):\n",
        "      quantity = get_min_order_quantity(spread)\n",
        "      if ((quantity >= user_max_quantity)):\n",
        "        quantity = user_max_quantity\n",
        "\n",
        "    if ((quantity >= max_quantity)):\n",
        "      quantity = max_quantity\n",
        "\n",
        "    result = order_calendar_spread(spread=spread, price=price, quantity=quantity, timeInForce=timeInForce)\n",
        "    results.append(result)\n",
        "  return results"
      ]
    },
    {
      "cell_type": "code",
      "execution_count": null,
      "metadata": {
        "id": "re1QmboxbVIK"
      },
      "outputs": [],
      "source": [
        "def update_option_market_data(options):\n",
        "  for item in options:\n",
        "    marketData = r.options.get_option_market_data_by_id(item['id'])\n",
        "    if marketData:\n",
        "        item.update(marketData[0])"
      ]
    },
    {
      "cell_type": "code",
      "execution_count": null,
      "metadata": {
        "id": "zNMPwTXkK5AN"
      },
      "outputs": [],
      "source": [
        "def spread_filter(spread, max_spread_cost, min_volume, min_avalible_quantity, min_profitability, is_in_volume_range=False):\n",
        "    (front_leg_option, back_leg_option, spread_cost, profitability) = spread\n",
        "    front_volume = front_leg_option.get(\"volume\")\n",
        "    back_volume = back_leg_option.get(\"volume\")\n",
        "\n",
        "    is_less_than_max_cost = (spread_cost <= max_spread_cost)\n",
        "    if (front_volume and back_volume):\n",
        "        is_in_volume_range = (int(front_volume) >= min_volume) and (int(back_volume) >= min_volume)\n",
        "    is_greater_than_min_avalible_quantity = get_min_order_quantity(spread) >= min_avalible_quantity\n",
        "\n",
        "    is_greater_than_profitability = profitability >= min_profitability\n",
        "    return is_less_than_max_cost and is_in_volume_range and is_greater_than_min_avalible_quantity and is_greater_than_profitability\n"
      ]
    },
    {
      "cell_type": "code",
      "execution_count": null,
      "metadata": {
        "id": "ut6wBPubtrs-"
      },
      "outputs": [],
      "source": [
        "def filter_calendar_spreads(spreads, max_spread_cost, min_volume, min_avalible_quantity, min_chance_of_profitability):\n",
        "\n",
        "  filtered_spreads = list(\n",
        "      filter(lambda spread: spread_filter(spread, max_spread_cost, min_volume, min_avalible_quantity, min_chance_of_profitability), spreads))\n",
        "\n",
        "  filtered_spreads = sorted(\n",
        "      filtered_spreads, key=lambda spread: ((spread[2]), -spread[3]))\n",
        "  return filtered_spreads"
      ]
    },
    {
      "cell_type": "markdown",
      "metadata": {
        "id": "FQmJxZE-DFVi"
      },
      "source": [
        "# Login"
      ]
    },
    {
      "cell_type": "code",
      "execution_count": null,
      "metadata": {
        "id": "JzExam5DaIx2",
        "tags": [
          "parameters"
        ]
      },
      "outputs": [],
      "source": [
        "#@title #Authenticate { vertical-output: true, display-mode: \"form\" }\n",
        "username = \"\" #@param {type:\"string\"}\n",
        "password = \"\" #@param {type:\"string\"}\n",
        "login = r.login(username, password)\n",
        "print(login.get(\"detail\"))"
      ]
    },
    {
      "cell_type": "markdown",
      "metadata": {
        "id": "_vdpgRFRQKbm"
      },
      "source": [
        "# Scan for options"
      ]
    },
    {
      "cell_type": "markdown",
      "metadata": {
        "id": "QXnRUdOf75x6"
      },
      "source": [
        "> Inputs needed: offset and max offset. By default, the scanner will analize $10 worth of different strikes. 5 above and 5 below.\n",
        "\n",
        "* **symbol**: example \"spy\"\n",
        "* **min strike offset**: how far below the current strike you want to look. The default is 5 dollars.\n",
        "* **max strike offset**: how far above the current strike you want to look. The \n",
        "default is 5 dollars."
      ]
    },
    {
      "cell_type": "code",
      "execution_count": null,
      "metadata": {
        "id": "xRk9_S-ganWm"
      },
      "outputs": [],
      "source": [
        "#@title Enter option criteria { vertical-output: true, display-mode: \"form\" }\n",
        "# Create a script that places a debit calendar spread for each tradeable option of a given symbol. The cost of the spread needs to be zero.\n",
        "symbol = \"SPY\"  # @param {type:\"string\"}\n",
        "optionType = \"both\"  # @param [\"call\", \"put\", \"both\"]\n",
        "min_strike_offset = 2 # @param {type:\"integer\"}\n",
        "max_strike_offset = 2  # @param {type:\"integer\"}\n",
        "\n",
        "options = scan_for_options(symbol, optionType, min_strike_offset, max_strike_offset)\n",
        "print(\"Base on user criteria, you found {} to analize!\".format(len(options)))"
      ]
    },
    {
      "cell_type": "markdown",
      "metadata": {
        "id": "_EQgSKflxpeh"
      },
      "source": [
        "## Get option market data\n"
      ]
    },
    {
      "cell_type": "markdown",
      "metadata": {
        "id": "XxoyXbTjS00Y"
      },
      "source": [
        "> This gets the latest market information for each option found. Data such as ask_price and bid_price are changing all the time. It's a good idea to refresh this often."
      ]
    },
    {
      "cell_type": "code",
      "execution_count": null,
      "metadata": {
        "id": "1sbX_vfcxpVd"
      },
      "outputs": [],
      "source": [
        "update_option_market_data(options)"
      ]
    },
    {
      "cell_type": "markdown",
      "metadata": {
        "id": "2y-J-bUxxcqT"
      },
      "source": [
        "# Filter calendar spreads"
      ]
    },
    {
      "attachments": {},
      "cell_type": "markdown",
      "metadata": {
        "id": "-xKUSB0uTM3t"
      },
      "source": [
        "Enter max price you want filter for each spread. This is calculated by subtracting the front leg bid price from the ask price of the back leg. ask_price - bid_price = spread_cost. The default is $0.50."
      ]
    },
    {
      "cell_type": "code",
      "execution_count": 73,
      "metadata": {
        "id": "-M2jDg1HxcDM"
      },
      "outputs": [],
      "source": [
        "#@title Filter based on spread cost { run: \"auto\", vertical-output: true, display-mode: \"form\" }\n",
        "max_spread_cost = .5  # @param {type:\"number\"}\n",
        "min_volume = 0  # @param {type:\"integer\"}\n",
        "min_avalible_quantity = 0  # @param {type:\"integer\"}\n",
        "min_chance_of_profitability = 0 # @param {type:\"number\"}\n",
        "# @param [\"bid_price\", \"ask_price\", \"high_fill_rate_buy_price\",\"high_fill_rate_sell_price\", \"low_fill_rate_buy_price\", \"low_fill_rate_sell_price\"]\n",
        "short_price_key = \"ask_price\"\n",
        "# @param [\"bid_price\", \"ask_price\", \"high_fill_rate_buy_price\",\"high_fill_rate_sell_price\", \"low_fill_rate_buy_price\", \"low_fill_rate_sell_price\"]\n",
        "long_price_key = \"bid_price\"\n",
        "\n",
        "params = [short_price_key, long_price_key]\n",
        "\n",
        "calendar_spreads = find_calendar_spreads(options, params)\n",
        "filtered_spreads = filter_calendar_spreads(\n",
        "    calendar_spreads, max_spread_cost, min_volume, min_avalible_quantity, min_chance_of_profitability)\n",
        "print(\"{} spreads found.\".format(len(filtered_spreads)))\n",
        "print_spreads(filtered_spreads)"
      ]
    },
    {
      "cell_type": "markdown",
      "metadata": {
        "id": "bAzIy6xWC2MF"
      },
      "source": [
        "# Create calendar spread orders"
      ]
    },
    {
      "cell_type": "markdown",
      "metadata": {
        "id": "VA_OKgz3XNU_"
      },
      "source": [
        "Select the number of order you want to place. Note: the max number of orders you can create in robinhood is 11."
      ]
    },
    {
      "cell_type": "code",
      "execution_count": null,
      "metadata": {
        "id": "CVpgn4tyXMVA"
      },
      "outputs": [],
      "source": [
        "#@title How many orders do you want to place? { run: \"auto\", vertical-output: true, display-mode: \"form\" }\n",
        "max_order_size = 11 #@param {type:\"integer\"}\n",
        "top_filtered_spreads = filtered_spreads[:max_order_size] # robinhood only allows 11 orders\n",
        "print_spreads(top_filtered_spreads)"
      ]
    },
    {
      "cell_type": "code",
      "execution_count": 69,
      "metadata": {
        "id": "iXl9t-3DCZPH"
      },
      "outputs": [
        {
          "name": "stdout",
          "output_type": "stream",
          "text": [
            "buying 20 @ $0.01\n",
            "You have more than the allowed maximum of 11 pending orders for this option chain in your brokerage account. Please cancel some before placing another order.\n",
            "buying 41 @ $0.15\n",
            "You have more than the allowed maximum of 11 pending orders for this option chain in your brokerage account. Please cancel some before placing another order.\n",
            "buying 43 @ $0.16\n",
            "You have more than the allowed maximum of 11 pending orders for this option chain in your brokerage account. Please cancel some before placing another order.\n",
            "buying 1 @ $0.17\n",
            "You have more than the allowed maximum of 11 pending orders for this option chain in your brokerage account. Please cancel some before placing another order.\n",
            "buying 41 @ $0.18\n",
            "You have more than the allowed maximum of 11 pending orders for this option chain in your brokerage account. Please cancel some before placing another order.\n",
            "buying 36 @ $0.19\n",
            "You have more than the allowed maximum of 11 pending orders for this option chain in your brokerage account. Please cancel some before placing another order.\n",
            "buying 1 @ $0.22\n",
            "You have more than the allowed maximum of 11 pending orders for this option chain in your brokerage account. Please cancel some before placing another order.\n",
            "buying 61 @ $0.23\n",
            "You have more than the allowed maximum of 11 pending orders for this option chain in your brokerage account. Please cancel some before placing another order.\n",
            "buying 1 @ $0.23\n",
            "You have more than the allowed maximum of 11 pending orders for this option chain in your brokerage account. Please cancel some before placing another order.\n",
            "buying 1 @ $0.23\n",
            "You have more than the allowed maximum of 11 pending orders for this option chain in your brokerage account. Please cancel some before placing another order.\n",
            "buying 1 @ $0.24\n",
            "You have more than the allowed maximum of 11 pending orders for this option chain in your brokerage account. Please cancel some before placing another order.\n",
            "Done.\n"
          ]
        }
      ],
      "source": [
        "#@title Place calendar orders based on the following parameters: { vertical-output: true, display-mode: \"form\" }\n",
        "\n",
        "# @param [\"set_for_all\", \"set_each\", \"use_spread_cost\"]\n",
        "price_type = \"use_spread_cost\"\n",
        "quantity_type = \"use_max_available_spreads\" # @param [\"set_for_all\", \"set_each\", \"use_max_available_spreads\"]\n",
        "timeInForce='gtc'  #@param [\"gfd\", \"gtc\"] \n",
        "\n",
        "place_trades_answer = input(\"Are you ready to place your trades? Enter 'yes' to continue: \")\n",
        "\n",
        "if (place_trades_answer == \"yes\"):\n",
        "    place_calendar_spreads(top_filtered_spreads, price_type, quantity_type, timeInForce)\n",
        "else:\n",
        "    print(\"No trades were placed.\")\n",
        "\n",
        "print(\"Done.\")"
      ]
    }
  ],
  "metadata": {
    "colab": {
      "collapsed_sections": [
        "DgzXDblw8SXY"
      ],
      "private_outputs": true,
      "provenance": []
    },
    "gpuClass": "standard",
    "kernelspec": {
      "display_name": "Python 3",
      "language": "python",
      "name": "python3"
    },
    "language_info": {
      "codemirror_mode": {
        "name": "ipython",
        "version": 3
      },
      "file_extension": ".py",
      "mimetype": "text/x-python",
      "name": "python",
      "nbconvert_exporter": "python",
      "pygments_lexer": "ipython3",
      "version": "3.8.10"
    },
    "vscode": {
      "interpreter": {
        "hash": "31f2aee4e71d21fbe5cf8b01ff0e069b9275f58929596ceb00d14d90e3e16cd6"
      }
    }
  },
  "nbformat": 4,
  "nbformat_minor": 0
}
