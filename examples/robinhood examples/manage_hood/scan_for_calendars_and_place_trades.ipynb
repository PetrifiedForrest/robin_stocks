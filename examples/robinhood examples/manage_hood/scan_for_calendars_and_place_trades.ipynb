{
  "cells": [
    {
      "attachments": {},
      "cell_type": "markdown",
      "metadata": {
        "id": "7Kdxs72pMrNB"
      },
      "source": [
        "# Info\n",
        "\n",
        "You can run the entire script by press **CTRL+F9**.\n",
        "\n",
        "For more helpful scripts, check out the quick commands.\n",
        "*   [Robohood | Quick commands](https://colab.research.google.com/drive1WsbRD8Rlz_ceSoGQzeGPZX5bNeRLLbz5?usp=sharing)\n",
        "*  [Cancel all pending orders](https://colab.research.google.com/drive/1WsbRD8Rlz_ceSoGQzeGPZX5bNeRLLbz5#scrollTo=ElxYAXz3LWR5&line=1&uniqifier=1)\n",
        "*  [Close all positions](https://colab.research.google.com/drive/1WsbRD8Rlz_ceSoGQzeGPZX5bNeRLLbz5#scrollTo=LD2LSDnqOlFe&line=1&uniqifier=1)"
      ]
    },
    {
      "attachments": {},
      "cell_type": "markdown",
      "metadata": {
        "id": "DgzXDblw8SXY"
      },
      "source": [
        "#Application code\n",
        "Only needs to be run once per session."
      ]
    },
    {
      "cell_type": "code",
      "execution_count": 19,
      "metadata": {
        "id": "BZb4Wg_fao4F"
      },
      "outputs": [
        {
          "name": "stdout",
          "output_type": "stream",
          "text": [
            "Requirement already satisfied: robin_stocks in /home/frsurpr/.local/lib/python3.8/site-packages (2.1.0)\n",
            "Requirement already satisfied: requests in /home/frsurpr/.local/lib/python3.8/site-packages (from robin_stocks) (2.28.1)\n",
            "Requirement already satisfied: pyotp in /home/frsurpr/.local/lib/python3.8/site-packages (from robin_stocks) (2.8.0)\n",
            "Requirement already satisfied: python-dotenv in /home/frsurpr/.local/lib/python3.8/site-packages (from robin_stocks) (0.21.0)\n",
            "Requirement already satisfied: cryptography in /usr/lib/python3/dist-packages (from robin_stocks) (2.8)\n",
            "Requirement already satisfied: urllib3<1.27,>=1.21.1 in /home/frsurpr/.local/lib/python3.8/site-packages (from requests->robin_stocks) (1.23)\n",
            "Requirement already satisfied: certifi>=2017.4.17 in /usr/lib/python3/dist-packages (from requests->robin_stocks) (2019.11.28)\n",
            "Requirement already satisfied: idna<4,>=2.5 in /home/frsurpr/.local/lib/python3.8/site-packages (from requests->robin_stocks) (2.7)\n",
            "Requirement already satisfied: charset-normalizer<3,>=2 in /home/frsurpr/.local/lib/python3.8/site-packages (from requests->robin_stocks) (2.1.1)\n",
            "Note: you may need to restart the kernel to use updated packages.\n"
          ]
        }
      ],
      "source": [
        "%pip install robin_stocks"
      ]
    },
    {
      "cell_type": "code",
      "execution_count": 20,
      "metadata": {
        "id": "stLt_V4mU0Rz"
      },
      "outputs": [],
      "source": [
        "from robin_stocks import robinhood as r\n",
        "import itertools\n",
        "from datetime import datetime\n",
        "import getpass\n",
        "import sys"
      ]
    },
    {
      "cell_type": "markdown",
      "metadata": {
        "id": "s49cv3YtLFug"
      },
      "source": [
        "## Funcitons"
      ]
    },
    {
      "cell_type": "code",
      "execution_count": 21,
      "metadata": {
        "id": "_UOtdcQnK7mx"
      },
      "outputs": [],
      "source": [
        "def get_spread_cost(front_leg_option, back_leg_option):\n",
        "  spread_cost = sys.maxsize\n",
        "  back_ask_price = back_leg_option.get(\"high_fill_rate_buy_price\")\n",
        "  front_bid_price = front_leg_option.get(\"high_fill_rate_sell_price\")\n",
        "\n",
        "  if(back_ask_price and front_bid_price):\n",
        "    spread_cost = round(float(back_ask_price) - float(front_bid_price), 2)\n",
        "\n",
        "  return spread_cost"
      ]
    },
    {
      "cell_type": "code",
      "execution_count": 22,
      "metadata": {
        "id": "emzpDMH5LDAN"
      },
      "outputs": [],
      "source": [
        "def find_calendar_spreads(options):\n",
        "    # Create a create new calendar spread for every combination of expiration dates where the short front leg expiration_date is less than the long back leg of the spread\n",
        "  sorted_options = sorted(options, key=lambda x: (float(x['strike_price']), datetime.strptime(x[\"expiration_date\"],'%Y-%m-%d')))\n",
        "\n",
        "  options_grouped_by_strike = itertools.groupby(sorted_options, lambda x : x['strike_price'])\n",
        "\n",
        "  today = datetime.today()\n",
        "\n",
        "  #  using the front_leg_option and back_leg_option as the front and back legs of the trade, create a debit calendar spread\n",
        "  #  with a cost of zero\n",
        "  calendar_spreads = []\n",
        "  for strike, options in options_grouped_by_strike:\n",
        "    for (front_leg_option, back_leg_option) in itertools.combinations(options,2):\n",
        "      front_expiration_date = datetime.strptime(front_leg_option[\"expiration_date\"],'%Y-%m-%d')\n",
        "      back_expiration_date = datetime.strptime(back_leg_option[\"expiration_date\"],'%Y-%m-%d')\n",
        "      optionTypeIsSame = front_leg_option[\"type\"] == back_leg_option[\"type\"]\n",
        "\n",
        "      if (optionTypeIsSame and (front_expiration_date > today) and (front_expiration_date < back_expiration_date)):\n",
        "        calendar_spreads.append((front_leg_option, back_leg_option, get_spread_cost(front_leg_option, back_leg_option)))\n",
        "\n",
        "  return calendar_spreads"
      ]
    },
    {
      "cell_type": "code",
      "execution_count": 23,
      "metadata": {
        "id": "0QZ8cAtqK9Mv"
      },
      "outputs": [],
      "source": [
        "def order_calendar_spread(spread, price=0.00, quantity=1, timeInForce='gfd'):\n",
        "  front_leg_option, back_leg_option, spread_cost = spread\n",
        "  symbol = front_leg_option[\"symbol\"]\n",
        "  params = [\n",
        "            {\n",
        "            'expirationDate': front_leg_option['expiration_date'],\n",
        "            'strike': front_leg_option['strike_price'],\n",
        "            'optionType': front_leg_option['type'],\n",
        "            'quantity': '1',\n",
        "            'effect': 'open',\n",
        "            'action': 'sell',\n",
        "          },\n",
        "          {\n",
        "            'expirationDate': back_leg_option['expiration_date'],\n",
        "            'strike': back_leg_option['strike_price'],\n",
        "            'optionType': back_leg_option['type'],\n",
        "            'quantity': '1',\n",
        "            'effect': 'open',\n",
        "            'action': 'buy',\n",
        "          },\n",
        "  ]\n",
        "  \n",
        "  return r.orders.order_option_spread(direction='debit', price=price, symbol=symbol, quantity=quantity, spread=params, timeInForce=timeInForce)\n"
      ]
    },
    {
      "cell_type": "code",
      "execution_count": 24,
      "metadata": {
        "id": "zNMPwTXkK5AN"
      },
      "outputs": [],
      "source": [
        "def filter_calendar_spreads(spreads, spread_max_cost=.1):\n",
        "\n",
        "  filtered_spreads = list(filter(lambda spread: spread[2] <= spread_max_cost, spreads))\n",
        "  filtered_spreads = sorted(filtered_spreads, key=lambda spread: (spread[2]))\n",
        "\n",
        "  return filtered_spreads"
      ]
    },
    {
      "cell_type": "code",
      "execution_count": 25,
      "metadata": {
        "id": "xZojoOCWRixB"
      },
      "outputs": [],
      "source": [
        "def get_current_price_of_symbol(symbol=\"SPY\"):\n",
        "  current_price = round(float(r.stocks.get_latest_price(symbol)[0]))\n",
        "  print(\"{} is currently trading at: ${}\".format(symbol, current_price))\n",
        "  return current_price "
      ]
    },
    {
      "cell_type": "code",
      "execution_count": 26,
      "metadata": {
        "id": "_ZX2EVGyPt-s"
      },
      "outputs": [],
      "source": [
        "def scan_for_options(symbol, optionType, min_strike_offset, max_strike_offset):\n",
        "  if(optionType == 'both'):\n",
        "    optionType = \"\"\n",
        "\n",
        "  current_price = get_current_price_of_symbol(symbol)\n",
        "  min_strike = current_price - min_strike_offset;\n",
        "  max_strike = current_price + max_strike_offset;\n",
        "\n",
        "  # Get the list of options available and sort by strike_price and expiration_date\n",
        "  options = r.options.find_tradable_options(symbol, optionType=optionType, info=None)\n",
        "  options = list(filter(lambda x: (float(x[\"strike_price\"]) > min_strike) and (float(x[\"strike_price\"]) < max_strike), options))\n",
        "  return options"
      ]
    },
    {
      "cell_type": "code",
      "execution_count": 27,
      "metadata": {
        "id": "LrxOSRlUakWO"
      },
      "outputs": [],
      "source": [
        "def print_spread(spread):\n",
        "  (front_leg_option, back_leg_option, spread_cost) = spread\n",
        "  strike = float(front_leg_option.get(\"strike_price\"))\n",
        "  print(\"strike {} | short {} @ {} | long {} @ {} | spread: ${}\".format(\n",
        "      strike,\n",
        "      front_leg_option.get(\"type\"),\n",
        "      front_leg_option.get(\"expiration_date\"),\n",
        "      back_leg_option.get(\"type\"),\n",
        "      back_leg_option.get(\"expiration_date\"),\n",
        "      spread_cost))"
      ]
    },
    {
      "cell_type": "code",
      "execution_count": 28,
      "metadata": {
        "id": "dJwuoJddakeZ"
      },
      "outputs": [],
      "source": [
        "def print_spreads(spreads):\n",
        "  for spread in spreads:\n",
        "    print_spread(spread)"
      ]
    },
    {
      "cell_type": "code",
      "execution_count": 55,
      "metadata": {
        "id": "y4TJOdTCakls"
      },
      "outputs": [],
      "source": [
        "def place_calendar_spreads(spreads, price_type, quanity_type, timeInForce):\n",
        "  price = 0.00\n",
        "  quantity=1\n",
        "  results = []\n",
        "  if(price_type == \"set_for_all\"):\n",
        "    price = float(input(\"Price for all orders: \") or 0.00)\n",
        "\n",
        "  if(quanity_type == \"set_for_all\"):\n",
        "    quantity = int(input(\"Quantity for all orders: \") or 0)\n",
        "\n",
        "  for spread in spreads:\n",
        "    (front_leg_option, back_leg_option, spread_cost) = spread\n",
        "    print_spread(spread)\n",
        "\n",
        "    if(price_type == \"set_each\"):\n",
        "      price = float(input(\"price (limit): \") or 0.00)\n",
        "\n",
        "    if(price_type == \"spread_cost\"):\n",
        "      price = spread_cost\n",
        "\n",
        "    if(quanity_type == \"set_each\"):\n",
        "      quantity = int(input(\"order size (quantity): \") or 1)\n",
        "\n",
        "    print(\"buy {} @ ${}\".format(quantity, price))\n",
        "    result = order_calendar_spread(spread=spread, price=price, quantity=quantity, timeInForce=timeInForce)\n",
        "    results.append(result)\n",
        "  \n",
        "  return results\n"
      ]
    },
    {
      "cell_type": "code",
      "execution_count": 30,
      "metadata": {
        "id": "re1QmboxbVIK"
      },
      "outputs": [],
      "source": [
        "def update_option_market_data(options):\n",
        "  for item in options:\n",
        "    marketData = r.options.get_option_market_data_by_id(item['id'])\n",
        "    if marketData:\n",
        "        item.update(marketData[0])"
      ]
    },
    {
      "cell_type": "markdown",
      "metadata": {
        "id": "FQmJxZE-DFVi"
      },
      "source": [
        "# Login"
      ]
    },
    {
      "cell_type": "code",
      "execution_count": 31,
      "metadata": {
        "id": "JzExam5DaIx2"
      },
      "outputs": [
        {
          "name": "stdout",
          "output_type": "stream",
          "text": [
            "logged in using authentication in robinhood.pickle\n"
          ]
        }
      ],
      "source": [
        "#@title #Authenticate { vertical-output: true, display-mode: \"form\" }\n",
        "username = \"\" #@param {type:\"string\"}\n",
        "password = \"\" #@param {type:\"string\"}\n",
        "login = r.login(username, password)\n",
        "print(login.get(\"detail\"))"
      ]
    },
    {
      "attachments": {},
      "cell_type": "markdown",
      "metadata": {
        "id": "_vdpgRFRQKbm"
      },
      "source": [
        "# Scan for options"
      ]
    },
    {
      "cell_type": "markdown",
      "metadata": {
        "id": "QXnRUdOf75x6"
      },
      "source": [
        "> Inputs needed: offset and max offset. By default, the scanner will analize $10 worth of different strikes. 5 above and 5 below.\n",
        "\n",
        "* **symbol**: example \"spy\"\n",
        "* **min strike offset**: how far below the current strike you want to look. The default is 5 dollars.\n",
        "* **max strike offset**: how far above the current strike you want to look. The \n",
        "default is 5 dollars."
      ]
    },
    {
      "cell_type": "code",
      "execution_count": 47,
      "metadata": {
        "id": "xRk9_S-ganWm"
      },
      "outputs": [
        {
          "name": "stdout",
          "output_type": "stream",
          "text": [
            "SPY is currently trading at: $395\n",
            "Found Additional pages.\n",
            "Loading page 2 ...\n",
            "Loading page 3 ...\n",
            "Loading page 4 ...\n",
            "Loading page 5 ...\n",
            "Loading page 6 ...\n",
            "Loading page 7 ...\n",
            "Loading page 8 ...\n",
            "Loading page 9 ...\n",
            "Loading page 10 ...\n",
            "Loading page 11 ...\n",
            "Loading page 12 ...\n",
            "Loading page 13 ...\n",
            "Loading page 14 ...\n",
            "Loading page 15 ...\n",
            "Loading page 16 ...\n",
            "Loading page 17 ...\n",
            "Loading page 18 ...\n",
            "Loading page 19 ...\n",
            "Loading page 20 ...\n",
            "Loading page 21 ...\n",
            "Loading page 22 ...\n",
            "Loading page 23 ...\n",
            "Loading page 24 ...\n",
            "Loading page 25 ...\n",
            "Loading page 26 ...\n",
            "Loading page 27 ...\n",
            "Loading page 28 ...\n",
            "Loading page 29 ...\n",
            "Loading page 30 ...\n",
            "Loading page 31 ...\n",
            "Loading page 32 ...\n",
            "Loading page 33 ...\n",
            "Loading page 34 ...\n",
            "Loading page 35 ...\n",
            "Loading page 36 ...\n",
            "Loading page 37 ...\n",
            "Loading page 38 ...\n",
            "Loading page 39 ...\n",
            "Loading page 40 ...\n",
            "Loading page 41 ...\n",
            "Loading page 42 ...\n",
            "Loading page 43 ...\n",
            "Loading page 44 ...\n",
            "Loading page 45 ...\n",
            "Loading page 46 ...\n",
            "Loading page 47 ...\n",
            "Loading page 48 ...\n",
            "Loading page 49 ...\n",
            "Loading page 50 ...\n",
            "Loading page 51 ...\n",
            "Loading page 52 ...\n",
            "Loading page 53 ...\n",
            "Loading page 54 ...\n",
            "Loading page 55 ...\n",
            "Loading page 56 ...\n",
            "Loading page 57 ...\n",
            "Loading page 58 ...\n",
            "Loading page 59 ...\n",
            "Loading page 60 ...\n",
            "Loading page 61 ...\n",
            "Loading page 62 ...\n",
            "Loading page 63 ...\n",
            "Loading page 64 ...\n",
            "Loading page 65 ...\n",
            "Loading page 66 ...\n",
            "Loading page 67 ...\n",
            "Loading page 68 ...\n",
            "Loading page 69 ...\n",
            "Loading page 70 ...\n",
            "Loading page 71 ...\n",
            "Loading page 72 ...\n",
            "Loading page 73 ...\n",
            "Loading page 74 ...\n",
            "Loading page 75 ...\n",
            "Loading page 76 ...\n",
            "Loading page 77 ...\n",
            "Loading page 78 ...\n",
            "Loading page 79 ...\n",
            "Loading page 80 ...\n",
            "Loading page 81 ...\n",
            "Base on user criteria, you found 654 to analize!\n"
          ]
        }
      ],
      "source": [
        "#@title Enter option criteria { run: \"auto\", vertical-output: true, display-mode: \"form\" }\n",
        "# Create a script that places a debit calendar spread for each tradeable option of a given symbol. The cost of the spread needs to be zero.\n",
        "symbol = \"SPY\" #@param {type:\"string\"}\n",
        "optionType = \"both\" #@param [\"call\", \"put\", \"both\"]\n",
        "min_strike_offset = 7 #@param {type:\"number\"}\n",
        "max_strike_offset =  7 #@param {type:\"number\"}\n",
        "\n",
        "options = scan_for_options(symbol, optionType, min_strike_offset, max_strike_offset)\n",
        "print(\"Base on user criteria, you found {} to analize!\".format(len(options)))"
      ]
    },
    {
      "cell_type": "markdown",
      "metadata": {
        "id": "_EQgSKflxpeh"
      },
      "source": [
        "## Get option market data\n"
      ]
    },
    {
      "cell_type": "markdown",
      "metadata": {
        "id": "XxoyXbTjS00Y"
      },
      "source": [
        "> This gets the latest market information for each option found. Data such as ask_price and bid_price are changing all the time. It's a good idea to refresh this often."
      ]
    },
    {
      "cell_type": "code",
      "execution_count": 48,
      "metadata": {
        "id": "1sbX_vfcxpVd"
      },
      "outputs": [],
      "source": [
        "update_option_market_data(options)"
      ]
    },
    {
      "attachments": {},
      "cell_type": "markdown",
      "metadata": {
        "id": "2y-J-bUxxcqT"
      },
      "source": [
        "# Filter calendar spreads"
      ]
    },
    {
      "cell_type": "markdown",
      "metadata": {
        "id": "-xKUSB0uTM3t"
      },
      "source": [
        "Enter max price you want filter for each spread. This is calculated by subtracting the front leg bid price from the ask price of the back leg. ask_price - bid_price = spread_cost. The default is $0.30."
      ]
    },
    {
      "cell_type": "code",
      "execution_count": 50,
      "metadata": {
        "id": "-M2jDg1HxcDM"
      },
      "outputs": [
        {
          "name": "stdout",
          "output_type": "stream",
          "text": [
            "65 spreads found.\n",
            "strike 400.0 | short put @ 2025-01-17 | long put @ 2025-03-21 | spread: $-0.25\n",
            "strike 401.0 | short put @ 2023-01-18 | long put @ 2023-01-19 | spread: $-0.21\n",
            "strike 401.0 | short put @ 2023-01-20 | long put @ 2023-01-23 | spread: $-0.12\n",
            "strike 400.0 | short put @ 2023-01-24 | long put @ 2023-01-25 | spread: $-0.07\n",
            "strike 398.0 | short put @ 2023-01-25 | long put @ 2023-01-26 | spread: $-0.03\n",
            "strike 398.0 | short put @ 2023-01-19 | long put @ 2023-01-20 | spread: $-0.02\n",
            "strike 400.0 | short call @ 2023-12-15 | long call @ 2023-12-29 | spread: $-0.01\n",
            "strike 391.0 | short put @ 2023-01-25 | long put @ 2023-01-26 | spread: $0.03\n",
            "strike 392.0 | short put @ 2023-01-26 | long put @ 2023-01-27 | spread: $0.04\n",
            "strike 394.0 | short call @ 2023-01-26 | long call @ 2023-01-27 | spread: $0.04\n",
            "strike 390.0 | short call @ 2023-01-19 | long call @ 2023-01-20 | spread: $0.07\n",
            "strike 393.0 | short put @ 2023-01-25 | long put @ 2023-01-26 | spread: $0.08\n",
            "strike 399.0 | short put @ 2023-01-18 | long put @ 2023-01-19 | spread: $0.08\n",
            "strike 401.0 | short put @ 2023-01-24 | long put @ 2023-01-26 | spread: $0.08\n",
            "strike 394.0 | short put @ 2023-01-25 | long put @ 2023-01-26 | spread: $0.09\n",
            "strike 393.0 | short put @ 2023-01-23 | long put @ 2023-01-24 | spread: $0.1\n",
            "strike 397.0 | short put @ 2023-01-26 | long put @ 2023-01-27 | spread: $0.1\n",
            "strike 398.0 | short call @ 2023-01-24 | long call @ 2023-01-25 | spread: $0.11\n",
            "strike 389.0 | short put @ 2023-01-23 | long put @ 2023-01-24 | spread: $0.12\n",
            "strike 390.0 | short put @ 2023-01-25 | long put @ 2023-01-26 | spread: $0.12\n",
            "strike 400.0 | short put @ 2023-01-18 | long put @ 2023-01-19 | spread: $0.12\n",
            "strike 389.0 | short put @ 2023-01-25 | long put @ 2023-01-26 | spread: $0.13\n",
            "strike 392.0 | short put @ 2023-01-24 | long put @ 2023-01-25 | spread: $0.13\n",
            "strike 395.0 | short put @ 2023-01-20 | long put @ 2023-01-23 | spread: $0.13\n",
            "strike 395.0 | short put @ 2023-01-24 | long put @ 2023-01-25 | spread: $0.14\n",
            "strike 399.0 | short put @ 2023-01-20 | long put @ 2023-01-23 | spread: $0.14\n",
            "strike 400.0 | short put @ 2023-01-26 | long put @ 2023-01-27 | spread: $0.14\n",
            "strike 393.0 | short call @ 2023-01-24 | long call @ 2023-01-25 | spread: $0.15\n",
            "strike 394.0 | short put @ 2023-01-24 | long put @ 2023-01-25 | spread: $0.15\n",
            "strike 400.0 | short put @ 2023-01-23 | long put @ 2023-01-25 | spread: $0.16\n",
            "strike 390.0 | short call @ 2023-01-25 | long call @ 2023-01-26 | spread: $0.17\n",
            "strike 396.0 | short put @ 2023-01-23 | long put @ 2023-01-24 | spread: $0.17\n",
            "strike 393.0 | short call @ 2023-01-23 | long call @ 2023-01-24 | spread: $0.18\n",
            "strike 396.0 | short put @ 2023-01-25 | long put @ 2023-01-26 | spread: $0.18\n",
            "strike 394.0 | short put @ 2023-01-19 | long put @ 2023-01-20 | spread: $0.19\n",
            "strike 395.0 | short call @ 2023-01-26 | long call @ 2023-01-27 | spread: $0.19\n",
            "strike 397.0 | short put @ 2023-01-24 | long put @ 2023-01-25 | spread: $0.19\n",
            "strike 396.0 | short call @ 2023-01-25 | long call @ 2023-01-26 | spread: $0.2\n",
            "strike 399.0 | short put @ 2023-01-26 | long put @ 2023-01-27 | spread: $0.2\n",
            "strike 401.0 | short put @ 2023-01-17 | long put @ 2023-01-19 | spread: $0.2\n",
            "strike 401.0 | short call @ 2023-01-19 | long call @ 2023-01-20 | spread: $0.2\n",
            "strike 390.0 | short put @ 2023-01-20 | long put @ 2023-01-23 | spread: $0.21\n",
            "strike 399.0 | short call @ 2023-01-23 | long call @ 2023-01-24 | spread: $0.21\n",
            "strike 389.0 | short put @ 2023-01-26 | long put @ 2023-01-27 | spread: $0.22\n",
            "strike 391.0 | short call @ 2023-01-25 | long call @ 2023-01-26 | spread: $0.22\n",
            "strike 392.0 | short call @ 2023-01-25 | long call @ 2023-01-26 | spread: $0.22\n",
            "strike 400.0 | short call @ 2023-01-23 | long call @ 2023-01-24 | spread: $0.22\n",
            "strike 390.0 | short put @ 2023-01-18 | long put @ 2023-01-19 | spread: $0.23\n",
            "strike 390.0 | short put @ 2023-01-23 | long put @ 2023-01-24 | spread: $0.23\n",
            "strike 390.0 | short call @ 2023-01-26 | long call @ 2023-01-27 | spread: $0.23\n",
            "strike 391.0 | short call @ 2023-01-24 | long call @ 2023-01-25 | spread: $0.23\n",
            "strike 395.0 | short put @ 2023-01-26 | long put @ 2023-01-27 | spread: $0.23\n",
            "strike 397.0 | short put @ 2023-01-20 | long put @ 2023-01-23 | spread: $0.23\n",
            "strike 397.0 | short call @ 2023-01-23 | long call @ 2023-01-24 | spread: $0.23\n",
            "strike 400.0 | short put @ 2023-01-23 | long put @ 2023-01-24 | spread: $0.23\n",
            "strike 392.0 | short put @ 2023-01-23 | long put @ 2023-01-24 | spread: $0.24\n",
            "strike 392.0 | short call @ 2023-01-26 | long call @ 2023-01-27 | spread: $0.24\n",
            "strike 394.0 | short put @ 2023-01-24 | long put @ 2023-01-26 | spread: $0.24\n",
            "strike 396.0 | short call @ 2023-01-18 | long call @ 2023-01-19 | spread: $0.24\n",
            "strike 399.0 | short call @ 2023-01-26 | long call @ 2023-01-27 | spread: $0.24\n",
            "strike 391.0 | short put @ 2023-01-24 | long put @ 2023-01-25 | spread: $0.25\n",
            "strike 392.0 | short put @ 2023-01-18 | long put @ 2023-01-19 | spread: $0.25\n",
            "strike 392.0 | short call @ 2023-01-23 | long call @ 2023-01-24 | spread: $0.25\n",
            "strike 398.0 | short call @ 2023-01-25 | long call @ 2023-01-26 | spread: $0.25\n",
            "strike 400.0 | short call @ 2023-01-24 | long call @ 2023-01-25 | spread: $0.25\n"
          ]
        }
      ],
      "source": [
        "#@title Filter based on spread cost { run: \"auto\", vertical-output: true, display-mode: \"form\" }\n",
        "max_spread_cost =  0.25 #@param {type:\"number\"}\n",
        "calendar_spreads = find_calendar_spreads(options)\n",
        "filtered_spreads = filter_calendar_spreads(calendar_spreads, max_spread_cost)\n",
        "print(\"{} spreads found.\".format(len(filtered_spreads)))\n",
        "print_spreads(filtered_spreads)"
      ]
    },
    {
      "attachments": {},
      "cell_type": "markdown",
      "metadata": {
        "id": "bAzIy6xWC2MF"
      },
      "source": [
        "# Create calendar spread orders"
      ]
    },
    {
      "cell_type": "markdown",
      "metadata": {
        "id": "VA_OKgz3XNU_"
      },
      "source": [
        "Select the number of order you want to place. Note: the max number of orders you can create in robinhood is 11."
      ]
    },
    {
      "cell_type": "code",
      "execution_count": 51,
      "metadata": {
        "id": "CVpgn4tyXMVA"
      },
      "outputs": [
        {
          "name": "stdout",
          "output_type": "stream",
          "text": [
            "strike 400.0 | short put @ 2025-01-17 | long put @ 2025-03-21 | spread: $-0.25\n",
            "strike 401.0 | short put @ 2023-01-18 | long put @ 2023-01-19 | spread: $-0.21\n",
            "strike 401.0 | short put @ 2023-01-20 | long put @ 2023-01-23 | spread: $-0.12\n",
            "strike 400.0 | short put @ 2023-01-24 | long put @ 2023-01-25 | spread: $-0.07\n",
            "strike 398.0 | short put @ 2023-01-25 | long put @ 2023-01-26 | spread: $-0.03\n",
            "strike 398.0 | short put @ 2023-01-19 | long put @ 2023-01-20 | spread: $-0.02\n",
            "strike 400.0 | short call @ 2023-12-15 | long call @ 2023-12-29 | spread: $-0.01\n",
            "strike 391.0 | short put @ 2023-01-25 | long put @ 2023-01-26 | spread: $0.03\n",
            "strike 392.0 | short put @ 2023-01-26 | long put @ 2023-01-27 | spread: $0.04\n",
            "strike 394.0 | short call @ 2023-01-26 | long call @ 2023-01-27 | spread: $0.04\n",
            "strike 390.0 | short call @ 2023-01-19 | long call @ 2023-01-20 | spread: $0.07\n"
          ]
        }
      ],
      "source": [
        "#@title How many orders do you want to place? { run: \"auto\", vertical-output: true, display-mode: \"form\" }\n",
        "max_order_size = 11 #@param {type:\"integer\"}\n",
        "top_filtered_spreads = filtered_spreads[:max_order_size] # robinhood only allows 12 orders\n",
        "print_spreads(top_filtered_spreads)"
      ]
    },
    {
      "cell_type": "code",
      "execution_count": 56,
      "metadata": {
        "id": "iXl9t-3DCZPH"
      },
      "outputs": [
        {
          "name": "stdout",
          "output_type": "stream",
          "text": [
            "strike 400.0 | short put @ 2025-01-17 | long put @ 2025-03-21 | spread: $-0.25\n",
            "buy 1 @ $0.0\n",
            "strike 401.0 | short put @ 2023-01-18 | long put @ 2023-01-19 | spread: $-0.21\n",
            "buy 1 @ $0.0\n",
            "strike 401.0 | short put @ 2023-01-20 | long put @ 2023-01-23 | spread: $-0.12\n",
            "buy 1 @ $0.0\n",
            "strike 400.0 | short put @ 2023-01-24 | long put @ 2023-01-25 | spread: $-0.07\n",
            "buy 1 @ $0.0\n",
            "strike 398.0 | short put @ 2023-01-25 | long put @ 2023-01-26 | spread: $-0.03\n",
            "buy 1 @ $0.0\n",
            "strike 398.0 | short put @ 2023-01-19 | long put @ 2023-01-20 | spread: $-0.02\n",
            "buy 1 @ $0.0\n",
            "strike 400.0 | short call @ 2023-12-15 | long call @ 2023-12-29 | spread: $-0.01\n",
            "buy 1 @ $0.0\n",
            "strike 391.0 | short put @ 2023-01-25 | long put @ 2023-01-26 | spread: $0.03\n",
            "buy 1 @ $0.0\n",
            "strike 392.0 | short put @ 2023-01-26 | long put @ 2023-01-27 | spread: $0.04\n",
            "buy 1 @ $0.0\n",
            "strike 394.0 | short call @ 2023-01-26 | long call @ 2023-01-27 | spread: $0.04\n",
            "buy 1 @ $0.0\n",
            "Error in request_post: Expecting value: line 1 column 1 (char 0)\n",
            "strike 390.0 | short call @ 2023-01-19 | long call @ 2023-01-20 | spread: $0.07\n",
            "buy 1 @ $0.0\n"
          ]
        },
        {
          "data": {
            "text/plain": [
              "[{'account_number': '5UI31739',\n",
              "  'cancel_url': 'https://api.robinhood.com/options/orders/63c026da-ea3c-4b1c-8294-0630f542acc6/cancel/',\n",
              "  'canceled_quantity': '0.00000',\n",
              "  'created_at': '2023-01-12T15:27:22.564897Z',\n",
              "  'direction': 'debit',\n",
              "  'id': '63c026da-ea3c-4b1c-8294-0630f542acc6',\n",
              "  'legs': [{'executions': [],\n",
              "    'id': '63c026da-12c7-46f2-a159-2ae4001c55f3',\n",
              "    'option': 'https://api.robinhood.com/options/instruments/2b6e4188-cf1e-494d-b1e6-3894fee057b3/',\n",
              "    'position_effect': 'open',\n",
              "    'ratio_quantity': 1,\n",
              "    'side': 'buy',\n",
              "    'expiration_date': '2025-03-21',\n",
              "    'strike_price': '400.0000',\n",
              "    'option_type': 'put',\n",
              "    'long_strategy_code': '2b6e4188-cf1e-494d-b1e6-3894fee057b3_L1',\n",
              "    'short_strategy_code': '2b6e4188-cf1e-494d-b1e6-3894fee057b3_S1'},\n",
              "   {'executions': [],\n",
              "    'id': '63c026da-925a-483a-abdd-c1cf26566ab1',\n",
              "    'option': 'https://api.robinhood.com/options/instruments/4356f723-12bf-4b0e-a5e8-faa9a14f1b31/',\n",
              "    'position_effect': 'open',\n",
              "    'ratio_quantity': 1,\n",
              "    'side': 'sell',\n",
              "    'expiration_date': '2025-01-17',\n",
              "    'strike_price': '400.0000',\n",
              "    'option_type': 'put',\n",
              "    'long_strategy_code': '4356f723-12bf-4b0e-a5e8-faa9a14f1b31_L1',\n",
              "    'short_strategy_code': '4356f723-12bf-4b0e-a5e8-faa9a14f1b31_S1'}],\n",
              "  'pending_quantity': '1.00000',\n",
              "  'premium': '0.00000000',\n",
              "  'processed_premium': '0',\n",
              "  'price': '0.00000000',\n",
              "  'processed_quantity': '0.00000',\n",
              "  'quantity': '1.00000',\n",
              "  'ref_id': '09f715e6-2870-4fc7-aa36-97dc0b634018',\n",
              "  'state': 'unconfirmed',\n",
              "  'time_in_force': 'gtc',\n",
              "  'trigger': 'immediate',\n",
              "  'type': 'limit',\n",
              "  'updated_at': '2023-01-12T15:27:22.631895Z',\n",
              "  'chain_id': 'c277b118-58d9-4060-8dc5-a3b5898955cb',\n",
              "  'chain_symbol': 'SPY',\n",
              "  'response_category': None,\n",
              "  'opening_strategy': 'put_calendar_spread',\n",
              "  'closing_strategy': None,\n",
              "  'stop_price': None,\n",
              "  'form_source': None,\n",
              "  'client_bid_at_submission': None,\n",
              "  'client_ask_at_submission': None,\n",
              "  'client_time_at_submission': None},\n",
              " {'account_number': '5UI31739',\n",
              "  'cancel_url': 'https://api.robinhood.com/options/orders/63c02737-5ffb-4dd2-9b98-0a8cda01a947/cancel/',\n",
              "  'canceled_quantity': '0.00000',\n",
              "  'created_at': '2023-01-12T15:28:55.901154Z',\n",
              "  'direction': 'debit',\n",
              "  'id': '63c02737-5ffb-4dd2-9b98-0a8cda01a947',\n",
              "  'legs': [{'executions': [],\n",
              "    'id': '63c02737-fe5c-4c21-a378-dd0ef4c9d42c',\n",
              "    'option': 'https://api.robinhood.com/options/instruments/226eaf26-f800-4a9b-ad00-31c549aed2c2/',\n",
              "    'position_effect': 'open',\n",
              "    'ratio_quantity': 1,\n",
              "    'side': 'buy',\n",
              "    'expiration_date': '2023-01-19',\n",
              "    'strike_price': '401.0000',\n",
              "    'option_type': 'put',\n",
              "    'long_strategy_code': '226eaf26-f800-4a9b-ad00-31c549aed2c2_L1',\n",
              "    'short_strategy_code': '226eaf26-f800-4a9b-ad00-31c549aed2c2_S1'},\n",
              "   {'executions': [],\n",
              "    'id': '63c02737-d805-494b-bba1-f4dd4f563d25',\n",
              "    'option': 'https://api.robinhood.com/options/instruments/6bd1d35d-0fb2-49a0-bbdd-925c3a074096/',\n",
              "    'position_effect': 'open',\n",
              "    'ratio_quantity': 1,\n",
              "    'side': 'sell',\n",
              "    'expiration_date': '2023-01-18',\n",
              "    'strike_price': '401.0000',\n",
              "    'option_type': 'put',\n",
              "    'long_strategy_code': '6bd1d35d-0fb2-49a0-bbdd-925c3a074096_L1',\n",
              "    'short_strategy_code': '6bd1d35d-0fb2-49a0-bbdd-925c3a074096_S1'}],\n",
              "  'pending_quantity': '1.00000',\n",
              "  'premium': '0.00000000',\n",
              "  'processed_premium': '0',\n",
              "  'price': '0.00000000',\n",
              "  'processed_quantity': '0.00000',\n",
              "  'quantity': '1.00000',\n",
              "  'ref_id': '1ab52320-ceeb-46c0-b69e-0efc1d03901d',\n",
              "  'state': 'unconfirmed',\n",
              "  'time_in_force': 'gtc',\n",
              "  'trigger': 'immediate',\n",
              "  'type': 'limit',\n",
              "  'updated_at': '2023-01-12T15:28:55.915406Z',\n",
              "  'chain_id': 'c277b118-58d9-4060-8dc5-a3b5898955cb',\n",
              "  'chain_symbol': 'SPY',\n",
              "  'response_category': None,\n",
              "  'opening_strategy': 'put_calendar_spread',\n",
              "  'closing_strategy': None,\n",
              "  'stop_price': None,\n",
              "  'form_source': None,\n",
              "  'client_bid_at_submission': None,\n",
              "  'client_ask_at_submission': None,\n",
              "  'client_time_at_submission': None},\n",
              " {'account_number': '5UI31739',\n",
              "  'cancel_url': 'https://api.robinhood.com/options/orders/63c02744-6c69-4b38-a90c-4669353c70fa/cancel/',\n",
              "  'canceled_quantity': '0.00000',\n",
              "  'created_at': '2023-01-12T15:29:08.615736Z',\n",
              "  'direction': 'debit',\n",
              "  'id': '63c02744-6c69-4b38-a90c-4669353c70fa',\n",
              "  'legs': [{'executions': [],\n",
              "    'id': '63c02744-9e24-4a77-be6e-36b189df506f',\n",
              "    'option': 'https://api.robinhood.com/options/instruments/22e9e629-6109-477c-a483-a5a5ae1fcb63/',\n",
              "    'position_effect': 'open',\n",
              "    'ratio_quantity': 1,\n",
              "    'side': 'buy',\n",
              "    'expiration_date': '2023-01-23',\n",
              "    'strike_price': '401.0000',\n",
              "    'option_type': 'put',\n",
              "    'long_strategy_code': '22e9e629-6109-477c-a483-a5a5ae1fcb63_L1',\n",
              "    'short_strategy_code': '22e9e629-6109-477c-a483-a5a5ae1fcb63_S1'},\n",
              "   {'executions': [],\n",
              "    'id': '63c02744-6508-48c5-a0d3-d46600aea023',\n",
              "    'option': 'https://api.robinhood.com/options/instruments/63e9dc06-8981-4ee6-99c3-61038628c135/',\n",
              "    'position_effect': 'open',\n",
              "    'ratio_quantity': 1,\n",
              "    'side': 'sell',\n",
              "    'expiration_date': '2023-01-20',\n",
              "    'strike_price': '401.0000',\n",
              "    'option_type': 'put',\n",
              "    'long_strategy_code': '63e9dc06-8981-4ee6-99c3-61038628c135_L1',\n",
              "    'short_strategy_code': '63e9dc06-8981-4ee6-99c3-61038628c135_S1'}],\n",
              "  'pending_quantity': '1.00000',\n",
              "  'premium': '0.00000000',\n",
              "  'processed_premium': '0',\n",
              "  'price': '0.00000000',\n",
              "  'processed_quantity': '0.00000',\n",
              "  'quantity': '1.00000',\n",
              "  'ref_id': 'a329fe6e-e463-4f0e-9549-1801e71ba0b7',\n",
              "  'state': 'unconfirmed',\n",
              "  'time_in_force': 'gtc',\n",
              "  'trigger': 'immediate',\n",
              "  'type': 'limit',\n",
              "  'updated_at': '2023-01-12T15:29:08.627387Z',\n",
              "  'chain_id': 'c277b118-58d9-4060-8dc5-a3b5898955cb',\n",
              "  'chain_symbol': 'SPY',\n",
              "  'response_category': None,\n",
              "  'opening_strategy': 'put_calendar_spread',\n",
              "  'closing_strategy': None,\n",
              "  'stop_price': None,\n",
              "  'form_source': None,\n",
              "  'client_bid_at_submission': None,\n",
              "  'client_ask_at_submission': None,\n",
              "  'client_time_at_submission': None},\n",
              " {'account_number': '5UI31739',\n",
              "  'cancel_url': 'https://api.robinhood.com/options/orders/63c02748-83e4-4ba4-8e06-7415ab724235/cancel/',\n",
              "  'canceled_quantity': '0.00000',\n",
              "  'created_at': '2023-01-12T15:29:12.549067Z',\n",
              "  'direction': 'debit',\n",
              "  'id': '63c02748-83e4-4ba4-8e06-7415ab724235',\n",
              "  'legs': [{'executions': [],\n",
              "    'id': '63c02748-1531-4188-a6c5-3deadc0a213d',\n",
              "    'option': 'https://api.robinhood.com/options/instruments/0710438f-9e05-4f04-bc1f-c25adf2a24f6/',\n",
              "    'position_effect': 'open',\n",
              "    'ratio_quantity': 1,\n",
              "    'side': 'buy',\n",
              "    'expiration_date': '2023-01-25',\n",
              "    'strike_price': '400.0000',\n",
              "    'option_type': 'put',\n",
              "    'long_strategy_code': '0710438f-9e05-4f04-bc1f-c25adf2a24f6_L1',\n",
              "    'short_strategy_code': '0710438f-9e05-4f04-bc1f-c25adf2a24f6_S1'},\n",
              "   {'executions': [],\n",
              "    'id': '63c02748-1b0b-472e-9512-6e58382d0860',\n",
              "    'option': 'https://api.robinhood.com/options/instruments/816e3879-dbd4-4089-a35f-e2efa615ab4e/',\n",
              "    'position_effect': 'open',\n",
              "    'ratio_quantity': 1,\n",
              "    'side': 'sell',\n",
              "    'expiration_date': '2023-01-24',\n",
              "    'strike_price': '400.0000',\n",
              "    'option_type': 'put',\n",
              "    'long_strategy_code': '816e3879-dbd4-4089-a35f-e2efa615ab4e_L1',\n",
              "    'short_strategy_code': '816e3879-dbd4-4089-a35f-e2efa615ab4e_S1'}],\n",
              "  'pending_quantity': '1.00000',\n",
              "  'premium': '0.00000000',\n",
              "  'processed_premium': '0',\n",
              "  'price': '0.00000000',\n",
              "  'processed_quantity': '0.00000',\n",
              "  'quantity': '1.00000',\n",
              "  'ref_id': 'e98e88ec-7981-42bd-b464-eb0a75d55994',\n",
              "  'state': 'unconfirmed',\n",
              "  'time_in_force': 'gtc',\n",
              "  'trigger': 'immediate',\n",
              "  'type': 'limit',\n",
              "  'updated_at': '2023-01-12T15:29:12.558208Z',\n",
              "  'chain_id': 'c277b118-58d9-4060-8dc5-a3b5898955cb',\n",
              "  'chain_symbol': 'SPY',\n",
              "  'response_category': None,\n",
              "  'opening_strategy': 'put_calendar_spread',\n",
              "  'closing_strategy': None,\n",
              "  'stop_price': None,\n",
              "  'form_source': None,\n",
              "  'client_bid_at_submission': None,\n",
              "  'client_ask_at_submission': None,\n",
              "  'client_time_at_submission': None},\n",
              " {'account_number': '5UI31739',\n",
              "  'cancel_url': 'https://api.robinhood.com/options/orders/63c0274a-4de6-4dd1-8f8f-23bef5d56610/cancel/',\n",
              "  'canceled_quantity': '0.00000',\n",
              "  'created_at': '2023-01-12T15:29:14.951710Z',\n",
              "  'direction': 'debit',\n",
              "  'id': '63c0274a-4de6-4dd1-8f8f-23bef5d56610',\n",
              "  'legs': [{'executions': [],\n",
              "    'id': '63c0274a-27ca-425e-9ec8-afc30e8c0a24',\n",
              "    'option': 'https://api.robinhood.com/options/instruments/01dbb5d7-522b-4c84-b984-39ba17c2e45a/',\n",
              "    'position_effect': 'open',\n",
              "    'ratio_quantity': 1,\n",
              "    'side': 'buy',\n",
              "    'expiration_date': '2023-01-26',\n",
              "    'strike_price': '398.0000',\n",
              "    'option_type': 'put',\n",
              "    'long_strategy_code': '01dbb5d7-522b-4c84-b984-39ba17c2e45a_L1',\n",
              "    'short_strategy_code': '01dbb5d7-522b-4c84-b984-39ba17c2e45a_S1'},\n",
              "   {'executions': [],\n",
              "    'id': '63c0274a-081b-49dd-ac98-34ca16a01175',\n",
              "    'option': 'https://api.robinhood.com/options/instruments/820544dc-0942-4e4c-acea-b56c17f16a02/',\n",
              "    'position_effect': 'open',\n",
              "    'ratio_quantity': 1,\n",
              "    'side': 'sell',\n",
              "    'expiration_date': '2023-01-25',\n",
              "    'strike_price': '398.0000',\n",
              "    'option_type': 'put',\n",
              "    'long_strategy_code': '820544dc-0942-4e4c-acea-b56c17f16a02_L1',\n",
              "    'short_strategy_code': '820544dc-0942-4e4c-acea-b56c17f16a02_S1'}],\n",
              "  'pending_quantity': '1.00000',\n",
              "  'premium': '0.00000000',\n",
              "  'processed_premium': '0',\n",
              "  'price': '0.00000000',\n",
              "  'processed_quantity': '0.00000',\n",
              "  'quantity': '1.00000',\n",
              "  'ref_id': '8edd68c3-985a-44aa-9926-3860b91fa959',\n",
              "  'state': 'unconfirmed',\n",
              "  'time_in_force': 'gtc',\n",
              "  'trigger': 'immediate',\n",
              "  'type': 'limit',\n",
              "  'updated_at': '2023-01-12T15:29:14.961192Z',\n",
              "  'chain_id': 'c277b118-58d9-4060-8dc5-a3b5898955cb',\n",
              "  'chain_symbol': 'SPY',\n",
              "  'response_category': None,\n",
              "  'opening_strategy': 'put_calendar_spread',\n",
              "  'closing_strategy': None,\n",
              "  'stop_price': None,\n",
              "  'form_source': None,\n",
              "  'client_bid_at_submission': None,\n",
              "  'client_ask_at_submission': None,\n",
              "  'client_time_at_submission': None},\n",
              " {'position_effect': \"You can't sell to open an option that you already have a long position in.\"},\n",
              " {'account_number': '5UI31739',\n",
              "  'cancel_url': 'https://api.robinhood.com/options/orders/63c0274e-dc35-4a1b-827c-48c1f7bf1d42/cancel/',\n",
              "  'canceled_quantity': '0.00000',\n",
              "  'created_at': '2023-01-12T15:29:18.655032Z',\n",
              "  'direction': 'debit',\n",
              "  'id': '63c0274e-dc35-4a1b-827c-48c1f7bf1d42',\n",
              "  'legs': [{'executions': [],\n",
              "    'id': '63c0274e-907c-4c31-b378-cff7bcd87c0f',\n",
              "    'option': 'https://api.robinhood.com/options/instruments/d4582b7e-9830-4d5b-a251-828fabd2a2dc/',\n",
              "    'position_effect': 'open',\n",
              "    'ratio_quantity': 1,\n",
              "    'side': 'buy',\n",
              "    'expiration_date': '2023-12-29',\n",
              "    'strike_price': '400.0000',\n",
              "    'option_type': 'call',\n",
              "    'long_strategy_code': 'd4582b7e-9830-4d5b-a251-828fabd2a2dc_L1',\n",
              "    'short_strategy_code': 'd4582b7e-9830-4d5b-a251-828fabd2a2dc_S1'},\n",
              "   {'executions': [],\n",
              "    'id': '63c0274e-804b-4ddd-bcb6-de18eae1ea1c',\n",
              "    'option': 'https://api.robinhood.com/options/instruments/04f06ab4-35ef-4d83-8d7a-59c9dcee7da1/',\n",
              "    'position_effect': 'open',\n",
              "    'ratio_quantity': 1,\n",
              "    'side': 'sell',\n",
              "    'expiration_date': '2023-12-15',\n",
              "    'strike_price': '400.0000',\n",
              "    'option_type': 'call',\n",
              "    'long_strategy_code': '04f06ab4-35ef-4d83-8d7a-59c9dcee7da1_L1',\n",
              "    'short_strategy_code': '04f06ab4-35ef-4d83-8d7a-59c9dcee7da1_S1'}],\n",
              "  'pending_quantity': '1.00000',\n",
              "  'premium': '0.00000000',\n",
              "  'processed_premium': '0',\n",
              "  'price': '0.00000000',\n",
              "  'processed_quantity': '0.00000',\n",
              "  'quantity': '1.00000',\n",
              "  'ref_id': 'f59a5066-5020-4773-98f8-1305ee5b069c',\n",
              "  'state': 'unconfirmed',\n",
              "  'time_in_force': 'gtc',\n",
              "  'trigger': 'immediate',\n",
              "  'type': 'limit',\n",
              "  'updated_at': '2023-01-12T15:29:20.507856Z',\n",
              "  'chain_id': 'c277b118-58d9-4060-8dc5-a3b5898955cb',\n",
              "  'chain_symbol': 'SPY',\n",
              "  'response_category': None,\n",
              "  'opening_strategy': 'call_calendar_spread',\n",
              "  'closing_strategy': None,\n",
              "  'stop_price': None,\n",
              "  'form_source': None,\n",
              "  'client_bid_at_submission': None,\n",
              "  'client_ask_at_submission': None,\n",
              "  'client_time_at_submission': None},\n",
              " {'account_number': '5UI31739',\n",
              "  'cancel_url': 'https://api.robinhood.com/options/orders/63c02753-e228-4a85-a406-3e25afa2e7c7/cancel/',\n",
              "  'canceled_quantity': '0.00000',\n",
              "  'created_at': '2023-01-12T15:29:23.435634Z',\n",
              "  'direction': 'debit',\n",
              "  'id': '63c02753-e228-4a85-a406-3e25afa2e7c7',\n",
              "  'legs': [{'executions': [],\n",
              "    'id': '63c02753-909a-48fa-a57c-e443872fea47',\n",
              "    'option': 'https://api.robinhood.com/options/instruments/1a943399-d5c6-4a4d-aedb-4d7ed9df343e/',\n",
              "    'position_effect': 'open',\n",
              "    'ratio_quantity': 1,\n",
              "    'side': 'buy',\n",
              "    'expiration_date': '2023-01-26',\n",
              "    'strike_price': '391.0000',\n",
              "    'option_type': 'put',\n",
              "    'long_strategy_code': '1a943399-d5c6-4a4d-aedb-4d7ed9df343e_L1',\n",
              "    'short_strategy_code': '1a943399-d5c6-4a4d-aedb-4d7ed9df343e_S1'},\n",
              "   {'executions': [],\n",
              "    'id': '63c02753-292d-44bf-acf9-8ddeaaa49923',\n",
              "    'option': 'https://api.robinhood.com/options/instruments/72426508-152f-4186-83cb-b59bff414810/',\n",
              "    'position_effect': 'open',\n",
              "    'ratio_quantity': 1,\n",
              "    'side': 'sell',\n",
              "    'expiration_date': '2023-01-25',\n",
              "    'strike_price': '391.0000',\n",
              "    'option_type': 'put',\n",
              "    'long_strategy_code': '72426508-152f-4186-83cb-b59bff414810_L1',\n",
              "    'short_strategy_code': '72426508-152f-4186-83cb-b59bff414810_S1'}],\n",
              "  'pending_quantity': '1.00000',\n",
              "  'premium': '0.00000000',\n",
              "  'processed_premium': '0',\n",
              "  'price': '0.00000000',\n",
              "  'processed_quantity': '0.00000',\n",
              "  'quantity': '1.00000',\n",
              "  'ref_id': '45f52806-2919-4d28-b93a-492fbaf2380c',\n",
              "  'state': 'unconfirmed',\n",
              "  'time_in_force': 'gtc',\n",
              "  'trigger': 'immediate',\n",
              "  'type': 'limit',\n",
              "  'updated_at': '2023-01-12T15:29:23.451480Z',\n",
              "  'chain_id': 'c277b118-58d9-4060-8dc5-a3b5898955cb',\n",
              "  'chain_symbol': 'SPY',\n",
              "  'response_category': None,\n",
              "  'opening_strategy': 'put_calendar_spread',\n",
              "  'closing_strategy': None,\n",
              "  'stop_price': None,\n",
              "  'form_source': None,\n",
              "  'client_bid_at_submission': None,\n",
              "  'client_ask_at_submission': None,\n",
              "  'client_time_at_submission': None},\n",
              " {'account_number': '5UI31739',\n",
              "  'cancel_url': 'https://api.robinhood.com/options/orders/63c02757-83f5-4726-ac00-f525f7d92553/cancel/',\n",
              "  'canceled_quantity': '0.00000',\n",
              "  'created_at': '2023-01-12T15:29:27.336038Z',\n",
              "  'direction': 'debit',\n",
              "  'id': '63c02757-83f5-4726-ac00-f525f7d92553',\n",
              "  'legs': [{'executions': [],\n",
              "    'id': '63c02757-ce1a-479d-aca9-de64af73cb56',\n",
              "    'option': 'https://api.robinhood.com/options/instruments/15a6a9a6-9b6a-4576-8bd1-c8003beceee5/',\n",
              "    'position_effect': 'open',\n",
              "    'ratio_quantity': 1,\n",
              "    'side': 'buy',\n",
              "    'expiration_date': '2023-01-27',\n",
              "    'strike_price': '392.0000',\n",
              "    'option_type': 'put',\n",
              "    'long_strategy_code': '15a6a9a6-9b6a-4576-8bd1-c8003beceee5_L1',\n",
              "    'short_strategy_code': '15a6a9a6-9b6a-4576-8bd1-c8003beceee5_S1'},\n",
              "   {'executions': [],\n",
              "    'id': '63c02757-1a66-4ac0-b384-d9ab7b7570b2',\n",
              "    'option': 'https://api.robinhood.com/options/instruments/78ffd6a8-9415-4b24-a949-80e8829da6a5/',\n",
              "    'position_effect': 'open',\n",
              "    'ratio_quantity': 1,\n",
              "    'side': 'sell',\n",
              "    'expiration_date': '2023-01-26',\n",
              "    'strike_price': '392.0000',\n",
              "    'option_type': 'put',\n",
              "    'long_strategy_code': '78ffd6a8-9415-4b24-a949-80e8829da6a5_L1',\n",
              "    'short_strategy_code': '78ffd6a8-9415-4b24-a949-80e8829da6a5_S1'}],\n",
              "  'pending_quantity': '1.00000',\n",
              "  'premium': '0.00000000',\n",
              "  'processed_premium': '0',\n",
              "  'price': '0.00000000',\n",
              "  'processed_quantity': '0.00000',\n",
              "  'quantity': '1.00000',\n",
              "  'ref_id': '694e03e7-2706-4eea-900b-09664761caff',\n",
              "  'state': 'unconfirmed',\n",
              "  'time_in_force': 'gtc',\n",
              "  'trigger': 'immediate',\n",
              "  'type': 'limit',\n",
              "  'updated_at': '2023-01-12T15:29:27.347899Z',\n",
              "  'chain_id': 'c277b118-58d9-4060-8dc5-a3b5898955cb',\n",
              "  'chain_symbol': 'SPY',\n",
              "  'response_category': None,\n",
              "  'opening_strategy': 'put_calendar_spread',\n",
              "  'closing_strategy': None,\n",
              "  'stop_price': None,\n",
              "  'form_source': None,\n",
              "  'client_bid_at_submission': None,\n",
              "  'client_ask_at_submission': None,\n",
              "  'client_time_at_submission': None},\n",
              " None,\n",
              " {'account_number': '5UI31739',\n",
              "  'cancel_url': 'https://api.robinhood.com/options/orders/63c02767-309f-417a-a5f3-e49fe4505201/cancel/',\n",
              "  'canceled_quantity': '0.00000',\n",
              "  'created_at': '2023-01-12T15:29:43.921506Z',\n",
              "  'direction': 'debit',\n",
              "  'id': '63c02767-309f-417a-a5f3-e49fe4505201',\n",
              "  'legs': [{'executions': [],\n",
              "    'id': '63c02767-27b5-4d25-b87b-82f5d7fcafc9',\n",
              "    'option': 'https://api.robinhood.com/options/instruments/5a0852ce-72d1-4d2f-aaac-a4f6bbc96827/',\n",
              "    'position_effect': 'open',\n",
              "    'ratio_quantity': 1,\n",
              "    'side': 'buy',\n",
              "    'expiration_date': '2023-01-20',\n",
              "    'strike_price': '390.0000',\n",
              "    'option_type': 'call',\n",
              "    'long_strategy_code': '5a0852ce-72d1-4d2f-aaac-a4f6bbc96827_L1',\n",
              "    'short_strategy_code': '5a0852ce-72d1-4d2f-aaac-a4f6bbc96827_S1'},\n",
              "   {'executions': [],\n",
              "    'id': '63c02767-51cf-4b87-9ba3-13f8406ad46d',\n",
              "    'option': 'https://api.robinhood.com/options/instruments/1545692e-4f03-4dcd-a77e-50ef0e905481/',\n",
              "    'position_effect': 'open',\n",
              "    'ratio_quantity': 1,\n",
              "    'side': 'sell',\n",
              "    'expiration_date': '2023-01-19',\n",
              "    'strike_price': '390.0000',\n",
              "    'option_type': 'call',\n",
              "    'long_strategy_code': '1545692e-4f03-4dcd-a77e-50ef0e905481_L1',\n",
              "    'short_strategy_code': '1545692e-4f03-4dcd-a77e-50ef0e905481_S1'}],\n",
              "  'pending_quantity': '1.00000',\n",
              "  'premium': '0.00000000',\n",
              "  'processed_premium': '0',\n",
              "  'price': '0.00000000',\n",
              "  'processed_quantity': '0.00000',\n",
              "  'quantity': '1.00000',\n",
              "  'ref_id': 'a54cc7ae-4e6c-4009-b331-c58d915591de',\n",
              "  'state': 'unconfirmed',\n",
              "  'time_in_force': 'gtc',\n",
              "  'trigger': 'immediate',\n",
              "  'type': 'limit',\n",
              "  'updated_at': '2023-01-12T15:29:43.934367Z',\n",
              "  'chain_id': 'c277b118-58d9-4060-8dc5-a3b5898955cb',\n",
              "  'chain_symbol': 'SPY',\n",
              "  'response_category': None,\n",
              "  'opening_strategy': 'call_calendar_spread',\n",
              "  'closing_strategy': None,\n",
              "  'stop_price': None,\n",
              "  'form_source': None,\n",
              "  'client_bid_at_submission': None,\n",
              "  'client_ask_at_submission': None,\n",
              "  'client_time_at_submission': None}]"
            ]
          },
          "execution_count": 56,
          "metadata": {},
          "output_type": "execute_result"
        }
      ],
      "source": [
        "#@title Place calendar orders based on the following parameters: { vertical-output: true, display-mode: \"form\" }\n",
        "price_type = \"set_for_all\"  # @param [\"set_for_all\", \"set_for_all\", \"set_each\"]\n",
        "quanity_type = \"set_each\"  # @param [\"set_each\", \"set_for_all\"]\n",
        "timeInForce='gtc'  #@param [\"gfd\", \"gtc\"] \n",
        "place_calendar_spreads(top_filtered_spreads, price_type, quanity_type, timeInForce)"
      ]
    }
  ],
  "metadata": {
    "colab": {
      "collapsed_sections": [
        "DgzXDblw8SXY"
      ],
      "private_outputs": true,
      "provenance": []
    },
    "gpuClass": "standard",
    "kernelspec": {
      "display_name": "Python 3",
      "language": "python",
      "name": "python3"
    },
    "language_info": {
      "codemirror_mode": {
        "name": "ipython",
        "version": 3
      },
      "file_extension": ".py",
      "mimetype": "text/x-python",
      "name": "python",
      "nbconvert_exporter": "python",
      "pygments_lexer": "ipython3",
      "version": "3.8.10"
    },
    "vscode": {
      "interpreter": {
        "hash": "31f2aee4e71d21fbe5cf8b01ff0e069b9275f58929596ceb00d14d90e3e16cd6"
      }
    }
  },
  "nbformat": 4,
  "nbformat_minor": 0
}
