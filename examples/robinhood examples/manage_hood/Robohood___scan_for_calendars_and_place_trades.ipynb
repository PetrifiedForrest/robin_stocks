{
  "cells": [
    {
      "cell_type": "markdown",
      "metadata": {
        "id": "7Kdxs72pMrNB"
      },
      "source": [
        "# Information\n",
        "\n",
        "You can run the entire script by press **CTRL+F9**.\n",
        "\n",
        "For more helpful scripts, check out the quick commands.\n",
        "*   [Robohood | Quick commands](https://colab.research.google.com/drive1WsbRD8Rlz_ceSoGQzeGPZX5bNeRLLbz5?usp=sharing)\n",
        "*  [Cancel all pending orders](https://colab.research.google.com/drive/1WsbRD8Rlz_ceSoGQzeGPZX5bNeRLLbz5#scrollTo=ElxYAXz3LWR5&line=1&uniqifier=1)\n",
        "*  [Close all positions](https://colab.research.google.com/drive/1WsbRD8Rlz_ceSoGQzeGPZX5bNeRLLbz5#scrollTo=LD2LSDnqOlFe&line=1&uniqifier=1)"
      ]
    },
    {
      "cell_type": "markdown",
      "metadata": {
        "id": "DgzXDblw8SXY"
      },
      "source": [
        "# Application code\n",
        "Only needs to be run once per session."
      ]
    },
    {
      "cell_type": "code",
      "execution_count": null,
      "metadata": {
        "id": "BZb4Wg_fao4F"
      },
      "outputs": [],
      "source": [
        "%pip install robin_stocks"
      ]
    },
    {
      "cell_type": "code",
      "execution_count": null,
      "metadata": {
        "id": "stLt_V4mU0Rz"
      },
      "outputs": [],
      "source": [
        "from robin_stocks import robinhood as r\n",
        "import itertools\n",
        "from datetime import datetime\n",
        "import getpass\n",
        "import sys\n",
        "import time\n",
        "from datetime import datetime, timedelta\n",
        "from dateutil.parser import parse\n",
        "from pytz import timezone\n"
      ]
    },
    {
      "cell_type": "markdown",
      "metadata": {
        "id": "s49cv3YtLFug"
      },
      "source": [
        "## Funcitons"
      ]
    },
    {
      "cell_type": "code",
      "execution_count": null,
      "metadata": {
        "id": "_UOtdcQnK7mx"
      },
      "outputs": [],
      "source": [
        "def get_spread_cost(front_leg_option, back_leg_option, params):\n",
        "  spread_cost = -1\n",
        "  front_price = front_leg_option.get(params[0])\n",
        "  back_price = back_leg_option.get(params[1])\n",
        "\n",
        "  if (back_price and front_price):\n",
        "    spread_cost = round(float(back_price) - float(front_price), 2)\n",
        "\n",
        "  return spread_cost"
      ]
    },
    {
      "cell_type": "code",
      "execution_count": null,
      "metadata": {
        "id": "N-6HuXNYtrs6"
      },
      "outputs": [],
      "source": [
        "def get_min_order_quantity(spread):\n",
        "  (front_leg_option, back_leg_option, spread_cost, profitability, implied_volatility) = spread\n",
        "\n",
        "  back_size = back_leg_option.get(\"ask_size\")\n",
        "  front_size = front_leg_option.get(\"bid_size\")\n",
        "\n",
        "  if (front_size and back_size):\n",
        "    return min(int(front_size), int(back_size))\n",
        "  else:\n",
        "    return 0"
      ]
    },
    {
      "cell_type": "code",
      "execution_count": null,
      "metadata": {
        "id": "zY8BtMTydxrh"
      },
      "outputs": [],
      "source": [
        "def get_chance_of_profit(front_leg_option, back_leg_option):\n",
        "    chance_of_profit_short = front_leg_option.get(\"chance_of_profit_short\")\n",
        "    chance_of_profit_long = back_leg_option.get(\"chance_of_profit_long\")\n",
        "    if (chance_of_profit_short and chance_of_profit_long):\n",
        "        return round(float(chance_of_profit_short) + float(chance_of_profit_long), 3)\n",
        "    return 0"
      ]
    },
    {
      "cell_type": "code",
      "execution_count": null,
      "metadata": {},
      "outputs": [],
      "source": [
        "def get_implied_volatility(front_leg_option, back_leg_option):\n",
        "    implied_volatility_short = front_leg_option.get(\"implied_volatility\")\n",
        "    implied_volatility_long = back_leg_option.get(\"implied_volatility\")\n",
        "    if (implied_volatility_short and implied_volatility_long):\n",
        "        return round(float(implied_volatility_short) - float(implied_volatility_long), 3)\n",
        "    return 0\n"
      ]
    },
    {
      "cell_type": "code",
      "execution_count": null,
      "metadata": {
        "id": "emzpDMH5LDAN"
      },
      "outputs": [],
      "source": [
        "def find_calendar_spreads(options, params):\n",
        "  # Create a create new calendar spread for every combination of expiration dates where the short front leg expiration_date is less than the long back leg of the spread\n",
        "  sorted_options = sorted(options, key=lambda x: (float(x['strike_price'])))\n",
        "  options_grouped_by_strike = itertools.groupby(sorted_options, lambda x : x['strike_price'])\n",
        "  today = datetime.today()\n",
        "\n",
        "  #  using the front_leg_option and back_leg_option as the front and back legs of the trade, create a debit calendar spread\n",
        "  #  with a cost of zero\n",
        "  calendar_spreads = []\n",
        "  for strike, options in options_grouped_by_strike:\n",
        "    for (front_leg_option, back_leg_option) in itertools.combinations(options,2):\n",
        "      front_expiration_date = datetime.strptime(front_leg_option[\"expiration_date\"],'%Y-%m-%d')\n",
        "      back_expiration_date = datetime.strptime(back_leg_option[\"expiration_date\"],'%Y-%m-%d')\n",
        "      optionTypeIsSame = front_leg_option[\"type\"] == back_leg_option[\"type\"]\n",
        "\n",
        "      if (optionTypeIsSame and (front_expiration_date > today) and (front_expiration_date < back_expiration_date)):\n",
        "        spread_cost = get_spread_cost(front_leg_option, back_leg_option, params)\n",
        "        profitability = get_chance_of_profit(front_leg_option, back_leg_option)\n",
        "        implied_volatility = get_implied_volatility(front_leg_option, back_leg_option)\n",
        "        spread = (front_leg_option, back_leg_option,\n",
        "                  spread_cost, profitability, implied_volatility)\n",
        "\n",
        "        calendar_spreads.append(spread)\n",
        "\n",
        "  return calendar_spreads"
      ]
    },
    {
      "cell_type": "code",
      "execution_count": null,
      "metadata": {
        "id": "xZojoOCWRixB"
      },
      "outputs": [],
      "source": [
        "def get_current_price_of_symbol(symbol=\"SPY\"):\n",
        "  current_price = round(float(r.stocks.get_latest_price(symbol)[0]))\n",
        "  print(\"{} is currently trading at: ${}\".format(symbol, current_price))\n",
        "  return current_price "
      ]
    },
    {
      "cell_type": "code",
      "execution_count": null,
      "metadata": {
        "id": "CawGJbfTRi4J"
      },
      "outputs": [],
      "source": [
        "def get_date_time(date_time_str, zone='US/Eastern'):\n",
        "    # converting the UTC input to a datetime object\n",
        "  utc_datetime = parse(date_time_str)\n",
        "\n",
        "  # converting the UTC datetime object to Eastern Time\n",
        "  est_datetime = utc_datetime.astimezone(tz=timezone(zone))\n",
        "  # returning the EST datetime as a string in year-month-day hour:min am/pm format\n",
        "  return est_datetime.strftime(\"%Y-%m-%d %I:%M %p\")\n",
        "  \n",
        "def print_option(item):\n",
        "  zone = 'US/Eastern'\n",
        "  option_type = item.get('type')\n",
        "  expiration_date = item.get('expiration_date')\n",
        "  strike_price = item.get('strike_price')\n",
        "  last_updated = get_date_time(item['updated_at'], zone)\n",
        "\n",
        "  if(strike_price):\n",
        "    strike_price = round(float(strike_price), 2) \n",
        "  last_price = item['last_trade_price']\n",
        "  if(last_price):\n",
        "    last_price = round(float(last_price), 2)\n",
        "\n",
        "  print(\n",
        "      f\"{option_type} | Strike: ${strike_price} | Expiration date: {expiration_date} | Last price: ${last_price} | Last updated: {last_updated} ({zone})\")\n"
      ]
    },
    {
      "cell_type": "code",
      "execution_count": null,
      "metadata": {
        "id": "LrxOSRlUakWO"
      },
      "outputs": [],
      "source": [
        "def print_spread(spread):\n",
        "  (front_leg_option, back_leg_option, spread_cost, profitability, implied_volatility) = spread\n",
        "  strike = float(front_leg_option.get(\"strike_price\"))\n",
        "  print(\"strike {} | short {} @ {} | long {} @ {} | spread_cost: ${} | chance of profit: {} | implied_volatility: {}\".format(\n",
        "      strike,\n",
        "      front_leg_option.get(\"type\"),\n",
        "      front_leg_option.get(\"expiration_date\"),\n",
        "      back_leg_option.get(\"type\"),\n",
        "      back_leg_option.get(\"expiration_date\"),\n",
        "      spread_cost,\n",
        "      profitability,\n",
        "      implied_volatility))"
      ]
    },
    {
      "cell_type": "code",
      "execution_count": null,
      "metadata": {
        "id": "dJwuoJddakeZ"
      },
      "outputs": [],
      "source": [
        "def print_spreads(spreads):\n",
        "  for spread in spreads:\n",
        "    print_spread(spread)"
      ]
    },
    {
      "cell_type": "code",
      "execution_count": null,
      "metadata": {
        "id": "0QZ8cAtqK9Mv"
      },
      "outputs": [],
      "source": [
        "from time import sleep\n",
        "def order_calendar_spread(spread, price=0.00, quantity=1, timeInForce='gfd', max_attempts=3, sleep_time=1):\n",
        "  (front_leg_option, back_leg_option, spread_cost, profitability, implied_volatility) = spread\n",
        "  symbol = front_leg_option[\"symbol\"]\n",
        "  params = [\n",
        "            {\n",
        "            'expirationDate': front_leg_option['expiration_date'],\n",
        "            'strike': front_leg_option['strike_price'],\n",
        "            'optionType': front_leg_option['type'],\n",
        "            'quantity': '1',\n",
        "            'effect': 'open',\n",
        "            'action': 'sell',\n",
        "          },\n",
        "          {\n",
        "            'expirationDate': back_leg_option['expiration_date'],\n",
        "            'strike': back_leg_option['strike_price'],\n",
        "            'optionType': back_leg_option['type'],\n",
        "            'quantity': '1',\n",
        "            'effect': 'open',\n",
        "            'action': 'buy',\n",
        "          },\n",
        "  ]\n",
        "  \n",
        "  print(\"buying {} @ ${}\".format(quantity, price))\n",
        "\n",
        "  order = r.orders.order_option_spread(direction='debit', price=price, symbol=symbol,\n",
        "                                       quantity=quantity, spread=params, timeInForce=timeInForce)\n",
        "  if(order):\n",
        "    if (order.get(\"state\")):\n",
        "      print_spread(spread)\n",
        "      return order\n",
        "\n",
        "    if (order.get(\"detail\")):\n",
        "        print(order.get(\"detail\"))\n",
        "        return order\n",
        "  else:\n",
        "    attempts = 0\n",
        "    while attempts < max_attempts:\n",
        "      attempts += 1\n",
        "      print(\"Something failed. Auto retry attempt {} of {}\".format(attempts, max_attempts))\n",
        "      order = r.orders.order_option_spread(direction='debit', price=price, symbol=symbol,\n",
        "                                          quantity=quantity, spread=params, timeInForce=timeInForce)\n",
        "      sleep(sleep_time)\n",
        "\n",
        "      if attempts == max_attempts:\n",
        "          print(\"max number of tries exceeded. Order failed because \")\n",
        "          print(order.get(\"detail\"))\n",
        "\n",
        "  return order"
      ]
    },
    {
      "cell_type": "code",
      "execution_count": null,
      "metadata": {
        "id": "y4TJOdTCakls"
      },
      "outputs": [],
      "source": [
        "def place_calendar_spreads(spreads, price_type, quantity_type, timeInForce, max_quantity=250, price=0.00, quantity=1):\n",
        "  results = []\n",
        "  if(price_type == \"set_for_all\"):\n",
        "    price = float(input(\"Please enter the PRICE for each order: \") or 0.00)\n",
        "\n",
        "  if(quantity_type == \"set_for_all\"):\n",
        "    quantity = int(input(\"Please enter the QUANTITY for each order: \") or 0)\n",
        "\n",
        "  if (quantity_type == \"use_max_available_spreads\"):\n",
        "    user_max_quantity = int(input(\"Please enter the MAX_QUANTITY for each order: \") or max_quantity)\n",
        "\n",
        "  for spread in spreads:\n",
        "    (front_leg_option, back_leg_option, spread_cost, profitability, implied_volatility) = spread\n",
        "\n",
        "    if(price_type == \"set_each\"):\n",
        "      price = float(input(\"price (limit): \") or 0.00)\n",
        "\n",
        "    if (price_type == \"use_spread_cost\"):\n",
        "      price = spread_cost\n",
        "\n",
        "    if(quantity_type == \"set_each\"):\n",
        "      quantity = int(input(\"order size (quantity): \") or 1)\n",
        "\n",
        "    if (quantity_type == \"use_max_available_spreads\"):\n",
        "      quantity = get_min_order_quantity(spread)\n",
        "      if ((quantity >= user_max_quantity)):\n",
        "        quantity = user_max_quantity\n",
        "\n",
        "    if ((quantity >= max_quantity)):\n",
        "      quantity = max_quantity\n",
        "\n",
        "    result = order_calendar_spread(spread=spread, price=price, quantity=quantity, timeInForce=timeInForce)\n",
        "    results.append(result)\n",
        "  return results"
      ]
    },
    {
      "cell_type": "code",
      "execution_count": null,
      "metadata": {
        "id": "re1QmboxbVIK"
      },
      "outputs": [],
      "source": [
        "import threading\n",
        "\n",
        "def market_worker(item):\n",
        "  marketData = r.options.get_option_market_data_by_id(item['id'])\n",
        "  if marketData:\n",
        "      item.update(marketData[0])\n",
        "      print_option(item)\n",
        "\n",
        "\n",
        "def update_option_market_data(options):\n",
        "  for item in options:\n",
        "    thread = threading.Thread(target=market_worker(item)).start()"
      ]
    },
    {
      "cell_type": "code",
      "execution_count": null,
      "metadata": {
        "id": "zNMPwTXkK5AN"
      },
      "outputs": [],
      "source": [
        "def spread_filter(spread, max_spread_cost, min_volume, min_avalible_quantity, min_profitability):\n",
        "    (front_leg_option, back_leg_option, spread_cost, profitability, implied_volatility) = spread\n",
        "    front_volume = front_leg_option.get(\"volume\")\n",
        "    back_volume = back_leg_option.get(\"volume\")\n",
        "    is_in_volume_range=False\n",
        "\n",
        "    is_less_than_max_cost = (spread_cost <= max_spread_cost)\n",
        "    if (front_volume and back_volume):\n",
        "        is_in_volume_range = (int(front_volume) >= min_volume) and (int(back_volume) >= min_volume)\n",
        "    is_greater_than_min_avalible_quantity = get_min_order_quantity(spread) >= min_avalible_quantity\n",
        "    is_greater_than_profitability = profitability >= min_profitability\n",
        "\n",
        "    front_date = parse(front_leg_option[\"expiration_date\"])\n",
        "    back_date = parse(back_leg_option[\"expiration_date\"])\n",
        "\n",
        "    return (is_less_than_max_cost and is_in_volume_range and is_greater_than_min_avalible_quantity and is_greater_than_profitability)"
      ]
    },
    {
      "cell_type": "code",
      "execution_count": null,
      "metadata": {
        "id": "ut6wBPubtrs-"
      },
      "outputs": [],
      "source": [
        "def filter_calendar_spreads(spreads, max_spread_cost, min_volume, min_avalible_quantity, min_chance_of_profitability):\n",
        "\n",
        "  filtered_spreads = list(\n",
        "      filter(lambda spread: spread_filter(spread, max_spread_cost, min_volume, min_avalible_quantity, min_chance_of_profitability), spreads))\n",
        "\n",
        "  return filtered_spreads"
      ]
    },
    {
      "cell_type": "code",
      "execution_count": null,
      "metadata": {},
      "outputs": [],
      "source": [
        "def sort_spreads(spreads, sort_key):\n",
        "\n",
        "    if (sort_key == 'spread_cost'):\n",
        "        spreads = sorted(spreads, key=lambda spread: (spread[2]))\n",
        "    if (sort_key == 'chance_of_profit'):\n",
        "        spreads = sorted(spreads, key=lambda spread: (-spread[3]))\n",
        "    if (sort_key == 'expiration_date'):\n",
        "        spreads = sorted(spreads,\n",
        "                         key=lambda spread: (spread[0][\"expiration_date\"], spread[1][\"expiration_date\"]))\n",
        "    if (sort_key == 'strike_price'):\n",
        "        spreads = sorted(spreads,\n",
        "                         key=lambda spread: (spread[0][\"strike_price\"]))\n",
        "    if (sort_key == 'implied_volatility'):\n",
        "        spreads = sorted(spreads, key=lambda spread:float(-spread[4]))\n",
        "    return spreads\n"
      ]
    },
    {
      "cell_type": "markdown",
      "metadata": {
        "id": "FQmJxZE-DFVi"
      },
      "source": [
        "# Login"
      ]
    },
    {
      "cell_type": "code",
      "execution_count": null,
      "metadata": {
        "id": "JzExam5DaIx2",
        "tags": [
          "parameters"
        ]
      },
      "outputs": [],
      "source": [
        "#@title #Authenticate { vertical-output: true, display-mode: \"form\" }\n",
        "username = \"forrest.surprenant@gmail.com\" #@param {type:\"string\"}\n",
        "password = \"\"\n",
        "login = r.login(username, password)\n",
        "print(login.get(\"detail\"))"
      ]
    },
    {
      "cell_type": "markdown",
      "metadata": {
        "id": "_vdpgRFRQKbm"
      },
      "source": [
        "# Scan for options"
      ]
    },
    {
      "cell_type": "markdown",
      "metadata": {
        "id": "QXnRUdOf75x6"
      },
      "source": [
        "> Inputs needed: offset and max offset. By default, the scanner will analize $10 worth of different strikes. 5 above and 5 below.\n",
        "\n",
        "* **symbol**: example \"spy\"\n",
        "* **min strike offset**: how far below the current strike you want to look. The default is 5 dollars.\n",
        "* **max strike offset**: how far above the current strike you want to look. The \n",
        "default is 5 dollars."
      ]
    },
    {
      "cell_type": "code",
      "execution_count": null,
      "metadata": {
        "id": "Rp9uBvnzMMYv"
      },
      "outputs": [],
      "source": [
        "#@title Enter option criteria { vertical-output: true, display-mode: \"form\" }\n",
        "\n",
        "def filter_tradeable_options():\n",
        "  symbol = \"SPY\"  # @param {type:\"string\"}\n",
        "  options = r.options.find_tradable_options(symbol)\n",
        "  current_price = get_current_price_of_symbol(options[0].get(\"chain_symbol\"))\n",
        "\n",
        "  optionType = \"both\"  # @param [\"call\", \"put\", \"both\"]\n",
        "  min_strike_offset = 5  # @param {type:\"integer\"}\n",
        "  max_strike_offset = 5  # @param {type:\"integer\"}\n",
        "  min_front_short_date = \"2023-01-17\"  # @param {type:\"date\"}\n",
        "  max_front_short_date = \"2023-01-24\"  # @param {type:\"date\"}\n",
        "  min_back_long_date = \"2023-01-24\"  # @param {type:\"date\"}\n",
        "  max_back_long_date = \"2023-01-31\"  # @param {type:\"date\"}\n",
        "\n",
        "  min_front_short_date = parse(min_front_short_date)\n",
        "  max_front_short_date = parse(max_front_short_date)\n",
        "  min_back_long_date = parse(min_back_long_date)\n",
        "  max_back_long_date = parse(max_back_long_date)\n",
        "\n",
        "  if (optionType and optionType != 'both'):\n",
        "      options = [x for x in options if x.get(\"type\") == optionType]\n",
        "\n",
        "  min_strike = current_price - min_strike_offset\n",
        "  max_strike = current_price + max_strike_offset\n",
        "\n",
        "  if (min_strike and max_strike):\n",
        "      options = [x for x in options if min_strike <=\n",
        "                  float(x[\"strike_price\"]) <= max_strike]\n",
        "\n",
        "\n",
        "  options = [x for x in options if \n",
        "  (min_front_short_date and max_front_short_date and min_front_short_date <= parse(x[\"expiration_date\"]) <= max_front_short_date) or \n",
        "  (min_back_long_date and max_back_long_date and min_back_long_date <= parse(x[\"expiration_date\"]) <= max_back_long_date)]\n",
        "\n",
        "  return options\n",
        "\n",
        "options = filter_tradeable_options()\n",
        "print(\"Base on user criteria, you found {} to analize!\".format(len(options)))"
      ]
    },
    {
      "cell_type": "markdown",
      "metadata": {
        "id": "_EQgSKflxpeh"
      },
      "source": [
        "## Get option market data\n"
      ]
    },
    {
      "cell_type": "markdown",
      "metadata": {
        "id": "XxoyXbTjS00Y"
      },
      "source": [
        "> This gets the latest market information for each option found. Data such as ask_price and bid_price are changing all the time. It's a good idea to refresh this often."
      ]
    },
    {
      "cell_type": "code",
      "execution_count": null,
      "metadata": {
        "cellView": "form",
        "id": "1sbX_vfcxpVd"
      },
      "outputs": [],
      "source": [
        "#@title Update option data\n",
        "update_option_market_data(options)"
      ]
    },
    {
      "cell_type": "markdown",
      "metadata": {
        "id": "2y-J-bUxxcqT"
      },
      "source": [
        "# Filter calendar spreads section"
      ]
    },
    {
      "cell_type": "markdown",
      "metadata": {
        "id": "-xKUSB0uTM3t"
      },
      "source": [
        "\n",
        "**short_price_key** is the price you wish to **sell** the front leg of the calendar.\n",
        "\n",
        "**long_price_key** is the price you wish to **buy** the back leg of the calendar.\n",
        "\n",
        "**max_spread_cost** filter your results by the cost for each spread. The spread cost is the price of your long_price - short_price. \n",
        "\n",
        "Example: ask_price - bid_price = spread_cost. The default is $0.50.\n",
        "\n",
        "**min_avalible_quantity** filter your results by the number of bidders for your front short leg and the number of sellers for your back long leg.\n",
        "\n",
        "**min_chance_of_profitability** is the sum of chance of profit short + chance of long. Thorectically, a value of 1 or greater means you have the thorectical edge."
      ]
    },
    {
      "cell_type": "code",
      "execution_count": null,
      "metadata": {
        "id": "-M2jDg1HxcDM"
      },
      "outputs": [],
      "source": [
        "#@title Filter calendar spreads { vertical-output: true, display-mode: \"form\" }\n",
        "update_before_scan = False  # @param {type:\"boolean\"}\n",
        "if (update_before_scan == True):\n",
        "  update_option_market_data(options)\n",
        "\n",
        "max_spread_cost = .5  # @param {type:\"number\"}\n",
        "min_volume = 0  # @param {type:\"integer\"}\n",
        "min_avalible_quantity = 0  # @param {type:\"integer\"}\n",
        "min_chance_of_profitability = 1 # @param {type:\"number\"}\n",
        "short_price_key = \"ask_price\" # @param [\"mark_price\", \"last_trade_price\", \"bid_price\", \"ask_price\", \"low_price\", \"high_price\", \"high_fill_rate_buy_price\",\"high_fill_rate_sell_price\", \"low_fill_rate_buy_price\", \"low_fill_rate_sell_price\", \"adjusted_mark_price\", \"adjusted_mark_price_round_down\"]\n",
        "long_price_key = \"bid_price\" # @param [\"mark_price\", \"last_trade_price\", \"bid_price\", \"ask_price\", \"low_price\", \"high_price\", \"high_fill_rate_buy_price\",\"high_fill_rate_sell_price\", \"low_fill_rate_buy_price\", \"low_fill_rate_sell_price\", \"adjusted_mark_price\", \"adjusted_mark_price_round_down\"]\n",
        "sort_key = \"implied_volatility\" # @param [\"spread_cost\", \"implied_volatility\", \"expiration_date\", \"strike_price\", \"chance_of_profit\"]\n",
        "\n",
        "params = [short_price_key, long_price_key]\n",
        "\n",
        "calendar_spreads = find_calendar_spreads(options, params)\n",
        "filtered_spreads = filter_calendar_spreads(\n",
        "    calendar_spreads, max_spread_cost, min_volume, min_avalible_quantity, min_chance_of_profitability)\n",
        "\n",
        "sorted_filtered_spreads = sort_spreads(filtered_spreads, sort_key)\n",
        "\n",
        "print(\"{} spreads found.\".format(len(sorted_filtered_spreads)))\n",
        "print_spreads(sorted_filtered_spreads)\n"
      ]
    },
    {
      "cell_type": "markdown",
      "metadata": {
        "id": "bAzIy6xWC2MF"
      },
      "source": [
        "# Pick your top orders. \n",
        "Create calendar spread orders (When you find something you like)"
      ]
    },
    {
      "cell_type": "markdown",
      "metadata": {
        "id": "VA_OKgz3XNU_"
      },
      "source": [
        "Select the number of order you want to place. Note: the max number of orders you can create in robinhood is 11."
      ]
    },
    {
      "cell_type": "code",
      "execution_count": null,
      "metadata": {
        "id": "CVpgn4tyXMVA"
      },
      "outputs": [],
      "source": [
        "#@title How many orders do you want to place? { run: \"auto\", vertical-output: true, display-mode: \"form\" }\n",
        "max_order_size = 11 #@param {type:\"integer\"}\n",
        "# robinhood only allows 11 orders\n",
        "top_filtered_spreads = sorted_filtered_spreads[:max_order_size]\n",
        "print_spreads(sorted_filtered_spreads)\n"
      ]
    },
    {
      "cell_type": "code",
      "execution_count": null,
      "metadata": {
        "id": "iXl9t-3DCZPH"
      },
      "outputs": [],
      "source": [
        "#@title Place calendar orders based on the following parameters: { vertical-output: true, display-mode: \"form\" }\n",
        "ask_for_confirmation = \"True\" # @param bool[\"True\", \"False\"]\n",
        "\n",
        "price_type = \"set_for_all\" # @param [\"set_for_all\", \"set_each\", \"use_spread_cost\"]\n",
        "quantity_type = \"set_for_all\" # @param [\"set_for_all\", \"set_each\", \"use_max_available_spreads\"]\n",
        "timeInForce='gtc'  #@param [\"gfd\", \"gtc\"] \n",
        "\n",
        "place_trades_answer = input(\"Place your trades you just found? Enter 'y' or 'n' to continue: \" or 'n')\n",
        "\n",
        "if (ask_for_confirmation != \"True\" or place_trades_answer.casefold() == \"y\"):\n",
        "    place_calendar_spreads(top_filtered_spreads, price_type, quantity_type, timeInForce)\n",
        "    print(\"Done.\")\n",
        "else:\n",
        "    print(\"No trades were placed.\")"
      ]
    },
    {
      "cell_type": "code",
      "execution_count": null,
      "metadata": {
        "cellView": "form",
        "id": "RebEGeY2v2A5"
      },
      "outputs": [],
      "source": [
        "#@title Cancel all pending orders\n",
        "ask_for_confirmation = \"True\" # @param bool[\"True\", \"False\"]\n",
        "\n",
        "def cancel_all_pending_orders():\n",
        "  if (ask_for_confirmation != \"True\" or input(\"Cancel all trades? Enter 'y' or 'n' to continue: \" or 'n').casefold() == \"y\"):\n",
        "    #Get all pending orders\n",
        "    pending_orders = r.orders.get_all_open_option_orders()\n",
        "\n",
        "    #Loop through orders and cancel each one\n",
        "    for order in pending_orders:\n",
        "        print(\"Canceling order: \", order[\"id\"])\n",
        "        r.cancel_option_order(order[\"id\"])\n",
        "  else:\n",
        "    print(\"No trades were canceled.\")\n",
        "\n",
        "cancel_all_pending_orders()"
      ]
    }
  ],
  "metadata": {
    "colab": {
      "private_outputs": true,
      "provenance": []
    },
    "gpuClass": "standard",
    "kernelspec": {
      "display_name": "Python 3",
      "language": "python",
      "name": "python3"
    },
    "language_info": {
      "codemirror_mode": {
        "name": "ipython",
        "version": 3
      },
      "file_extension": ".py",
      "mimetype": "text/x-python",
      "name": "python",
      "nbconvert_exporter": "python",
      "pygments_lexer": "ipython3",
      "version": "3.8.10"
    },
    "vscode": {
      "interpreter": {
        "hash": "31f2aee4e71d21fbe5cf8b01ff0e069b9275f58929596ceb00d14d90e3e16cd6"
      }
    }
  },
  "nbformat": 4,
  "nbformat_minor": 0
}
