{
  "cells": [
    {
      "cell_type": "markdown",
      "metadata": {
        "id": "7Kdxs72pMrNB"
      },
      "source": [
        "# Information\n",
        "\n",
        "You can run the entire script by press **CTRL+F9**.\n",
        "\n",
        "For more helpful scripts, check out the quick commands.\n",
        "*   [Robohood | Quick commands](https://colab.research.google.com/drive1WsbRD8Rlz_ceSoGQzeGPZX5bNeRLLbz5?usp=sharing)\n",
        "*  [Cancel all pending orders](https://colab.research.google.com/drive/1WsbRD8Rlz_ceSoGQzeGPZX5bNeRLLbz5#scrollTo=ElxYAXz3LWR5&line=1&uniqifier=1)\n",
        "*  [Close all positions](https://colab.research.google.com/drive/1WsbRD8Rlz_ceSoGQzeGPZX5bNeRLLbz5#scrollTo=LD2LSDnqOlFe&line=1&uniqifier=1)"
      ]
    },
    {
      "cell_type": "markdown",
      "metadata": {
        "id": "DgzXDblw8SXY"
      },
      "source": [
        "# Application code\n",
        "Only needs to be run once per session."
      ]
    },
    {
      "cell_type": "code",
      "execution_count": 1,
      "metadata": {
        "id": "BZb4Wg_fao4F"
      },
      "outputs": [
        {
          "name": "stdout",
          "output_type": "stream",
          "text": [
            "Requirement already satisfied: robin_stocks in /home/frsurpr/.local/lib/python3.8/site-packages (2.1.0)\n",
            "Requirement already satisfied: pyotp in /home/frsurpr/.local/lib/python3.8/site-packages (from robin_stocks) (2.8.0)\n",
            "Requirement already satisfied: requests in /home/frsurpr/.local/lib/python3.8/site-packages (from robin_stocks) (2.28.1)\n",
            "Requirement already satisfied: cryptography in /usr/lib/python3/dist-packages (from robin_stocks) (2.8)\n",
            "Requirement already satisfied: python-dotenv in /home/frsurpr/.local/lib/python3.8/site-packages (from robin_stocks) (0.21.0)\n",
            "Requirement already satisfied: charset-normalizer<3,>=2 in /home/frsurpr/.local/lib/python3.8/site-packages (from requests->robin_stocks) (2.1.1)\n",
            "Requirement already satisfied: idna<4,>=2.5 in /home/frsurpr/.local/lib/python3.8/site-packages (from requests->robin_stocks) (2.7)\n",
            "Requirement already satisfied: urllib3<1.27,>=1.21.1 in /home/frsurpr/.local/lib/python3.8/site-packages (from requests->robin_stocks) (1.23)\n",
            "Requirement already satisfied: certifi>=2017.4.17 in /usr/lib/python3/dist-packages (from requests->robin_stocks) (2019.11.28)\n",
            "Note: you may need to restart the kernel to use updated packages.\n"
          ]
        }
      ],
      "source": [
        "%pip install robin_stocks"
      ]
    },
    {
      "cell_type": "code",
      "execution_count": 2,
      "metadata": {
        "id": "stLt_V4mU0Rz"
      },
      "outputs": [],
      "source": [
        "from robin_stocks import robinhood as r\n",
        "import itertools\n",
        "from datetime import datetime\n",
        "import getpass\n",
        "import sys\n",
        "import time\n",
        "from datetime import datetime, timedelta\n",
        "from dateutil.parser import parse\n",
        "from pytz import timezone\n"
      ]
    },
    {
      "cell_type": "markdown",
      "metadata": {
        "id": "s49cv3YtLFug"
      },
      "source": [
        "## Funcitons"
      ]
    },
    {
      "cell_type": "code",
      "execution_count": 3,
      "metadata": {
        "id": "_UOtdcQnK7mx"
      },
      "outputs": [],
      "source": [
        "def get_spread_cost(front_leg_option, back_leg_option, params):\n",
        "  spread_cost = -1\n",
        "  front_price = front_leg_option.get(params[0])\n",
        "  back_price = back_leg_option.get(params[1])\n",
        "\n",
        "  if (back_price and front_price):\n",
        "    spread_cost = round(float(back_price) - float(front_price), 2)\n",
        "\n",
        "  return spread_cost"
      ]
    },
    {
      "cell_type": "code",
      "execution_count": 4,
      "metadata": {
        "id": "N-6HuXNYtrs6"
      },
      "outputs": [],
      "source": [
        "def get_min_order_quantity(spread):\n",
        "  (front_leg_option, back_leg_option, spread_cost, profitability) = spread\n",
        "\n",
        "  back_size = back_leg_option.get(\"ask_size\")\n",
        "  front_size = front_leg_option.get(\"bid_size\")\n",
        "\n",
        "  if (front_size and back_size):\n",
        "    return min(int(front_size), int(back_size))\n",
        "  else:\n",
        "    return 0"
      ]
    },
    {
      "cell_type": "code",
      "execution_count": 5,
      "metadata": {
        "id": "zY8BtMTydxrh"
      },
      "outputs": [],
      "source": [
        "def get_chance_of_profit(front_leg_option, back_leg_option):\n",
        "    chance_of_profit_short = front_leg_option.get(\"chance_of_profit_short\")\n",
        "    chance_of_profit_long = back_leg_option.get(\"chance_of_profit_long\")\n",
        "    if (chance_of_profit_short and chance_of_profit_long):\n",
        "        return float(chance_of_profit_short) + float(chance_of_profit_long)\n",
        "    return 0"
      ]
    },
    {
      "cell_type": "code",
      "execution_count": 6,
      "metadata": {
        "id": "emzpDMH5LDAN"
      },
      "outputs": [],
      "source": [
        "def find_calendar_spreads(options, params):\n",
        "  # Create a create new calendar spread for every combination of expiration dates where the short front leg expiration_date is less than the long back leg of the spread\n",
        "  sorted_options = sorted(options, key=lambda x: (float(x['strike_price'])))\n",
        "  options_grouped_by_strike = itertools.groupby(sorted_options, lambda x : x['strike_price'])\n",
        "  today = datetime.today()\n",
        "\n",
        "  #  using the front_leg_option and back_leg_option as the front and back legs of the trade, create a debit calendar spread\n",
        "  #  with a cost of zero\n",
        "  calendar_spreads = []\n",
        "  for strike, options in options_grouped_by_strike:\n",
        "    for (front_leg_option, back_leg_option) in itertools.combinations(options,2):\n",
        "      front_expiration_date = datetime.strptime(front_leg_option[\"expiration_date\"],'%Y-%m-%d')\n",
        "      back_expiration_date = datetime.strptime(back_leg_option[\"expiration_date\"],'%Y-%m-%d')\n",
        "      optionTypeIsSame = front_leg_option[\"type\"] == back_leg_option[\"type\"]\n",
        "\n",
        "      if (optionTypeIsSame and (front_expiration_date > today) and (front_expiration_date < back_expiration_date)):\n",
        "        spread_cost = get_spread_cost(front_leg_option, back_leg_option, params)\n",
        "        profitability = get_chance_of_profit(front_leg_option, back_leg_option)\n",
        "        spread = (front_leg_option, back_leg_option,\n",
        "                  spread_cost, profitability)\n",
        "\n",
        "        calendar_spreads.append(spread)\n",
        "\n",
        "  return calendar_spreads"
      ]
    },
    {
      "cell_type": "code",
      "execution_count": 7,
      "metadata": {
        "id": "xZojoOCWRixB"
      },
      "outputs": [],
      "source": [
        "def get_current_price_of_symbol(symbol=\"SPY\"):\n",
        "  current_price = round(float(r.stocks.get_latest_price(symbol)[0]))\n",
        "  print(\"{} is currently trading at: ${}\".format(symbol, current_price))\n",
        "  return current_price "
      ]
    },
    {
      "cell_type": "code",
      "execution_count": 8,
      "metadata": {
        "id": "_ZX2EVGyPt-s"
      },
      "outputs": [],
      "source": [
        "def scan_for_options(symbol, optionType, min_strike_offset, max_strike_offset):\n",
        "  if(optionType == 'both'):\n",
        "    optionType = \"\"\n",
        "\n",
        "  current_price = get_current_price_of_symbol(symbol)\n",
        "  min_strike = current_price - min_strike_offset;\n",
        "  max_strike = current_price + max_strike_offset;\n",
        "\n",
        "  # Get the list of options available and sort by strike_price and expiration_date\n",
        "  options = r.options.find_tradable_options(symbol, optionType=optionType, info=None)\n",
        "  options = list(filter(lambda x: (float(x[\"strike_price\"]) > min_strike) and (float(x[\"strike_price\"]) < max_strike), options))\n",
        "  return options"
      ]
    },
    {
      "cell_type": "code",
      "execution_count": 9,
      "metadata": {
        "id": "CawGJbfTRi4J"
      },
      "outputs": [],
      "source": [
        "def get_date_time(date_time_str, zone='US/Eastern'):\n",
        "    # converting the UTC input to a datetime object\n",
        "  utc_datetime = parse(date_time_str)\n",
        "\n",
        "  # converting the UTC datetime object to Eastern Time\n",
        "  est_datetime = utc_datetime.astimezone(tz=timezone(zone))\n",
        "  # returning the EST datetime as a string in year-month-day hour:min am/pm format\n",
        "  return est_datetime.strftime(\"%Y-%m-%d %I:%M %p\")\n",
        "  \n",
        "def print_option(item):\n",
        "  zone = 'US/Eastern'\n",
        "  option_type = item.get('type')\n",
        "  expiration_date = item.get('expiration_date')\n",
        "  strike_price = item.get('strike_price')\n",
        "  last_updated = get_date_time(item['updated_at'], zone)\n",
        "\n",
        "  if(strike_price):\n",
        "    strike_price = round(float(strike_price), 2) \n",
        "  last_price = item['last_trade_price']\n",
        "  if(last_price):\n",
        "    last_price = round(float(last_price), 2)\n",
        "\n",
        "  print(\n",
        "      f\"{option_type} | Strike: ${strike_price} | Expiration date: {expiration_date} | Last price: ${last_price} | Last updated: {last_updated} ({zone})\")\n"
      ]
    },
    {
      "cell_type": "code",
      "execution_count": 10,
      "metadata": {
        "id": "LrxOSRlUakWO"
      },
      "outputs": [],
      "source": [
        "def print_spread(spread):\n",
        "  (front_leg_option, back_leg_option, spread_cost, profitability) = spread\n",
        "  strike = float(front_leg_option.get(\"strike_price\"))\n",
        "  print(\"strike {} | short {} @ {} | long {} @ {} | spread: ${} | profitability: {}\".format(\n",
        "      strike,\n",
        "      front_leg_option.get(\"type\"),\n",
        "      front_leg_option.get(\"expiration_date\"),\n",
        "      back_leg_option.get(\"type\"),\n",
        "      back_leg_option.get(\"expiration_date\"),\n",
        "      spread_cost,\n",
        "      profitability))"
      ]
    },
    {
      "cell_type": "code",
      "execution_count": 11,
      "metadata": {
        "id": "dJwuoJddakeZ"
      },
      "outputs": [],
      "source": [
        "def print_spreads(spreads):\n",
        "  for spread in spreads:\n",
        "    print_spread(spread)"
      ]
    },
    {
      "cell_type": "code",
      "execution_count": 12,
      "metadata": {
        "id": "0QZ8cAtqK9Mv"
      },
      "outputs": [],
      "source": [
        "from time import sleep\n",
        "def order_calendar_spread(spread, price=0.00, quantity=1, timeInForce='gfd', max_attempts=3, sleep_time=1):\n",
        "  (front_leg_option, back_leg_option, spread_cost, profitability) = spread\n",
        "  symbol = front_leg_option[\"symbol\"]\n",
        "  params = [\n",
        "            {\n",
        "            'expirationDate': front_leg_option['expiration_date'],\n",
        "            'strike': front_leg_option['strike_price'],\n",
        "            'optionType': front_leg_option['type'],\n",
        "            'quantity': '1',\n",
        "            'effect': 'open',\n",
        "            'action': 'sell',\n",
        "          },\n",
        "          {\n",
        "            'expirationDate': back_leg_option['expiration_date'],\n",
        "            'strike': back_leg_option['strike_price'],\n",
        "            'optionType': back_leg_option['type'],\n",
        "            'quantity': '1',\n",
        "            'effect': 'open',\n",
        "            'action': 'buy',\n",
        "          },\n",
        "  ]\n",
        "  \n",
        "  print(\"buying {} @ ${}\".format(quantity, price))\n",
        "\n",
        "  order = r.orders.order_option_spread(direction='debit', price=price, symbol=symbol,\n",
        "                                       quantity=quantity, spread=params, timeInForce=timeInForce)\n",
        "  if(order):\n",
        "    if (order.get(\"state\")):\n",
        "      print_spread(spread)\n",
        "      return order\n",
        "\n",
        "    if (order.get(\"detail\")):\n",
        "        print(order.get(\"detail\"))\n",
        "        return order\n",
        "  else:\n",
        "    attempts = 0\n",
        "    while attempts < max_attempts:\n",
        "      attempts += 1\n",
        "      print(\"Something failed. Auto retry attempt {} of {}\".format(attempts, max_attempts))\n",
        "      order = r.orders.order_option_spread(direction='debit', price=price, symbol=symbol,\n",
        "                                          quantity=quantity, spread=params, timeInForce=timeInForce)\n",
        "      sleep(sleep_time)\n",
        "\n",
        "      if attempts == max_attempts:\n",
        "          print(\"max number of tries exceeded. Order failed because \")\n",
        "          print(order.get(\"detail\"))\n",
        "\n",
        "  return order"
      ]
    },
    {
      "cell_type": "code",
      "execution_count": 13,
      "metadata": {
        "id": "y4TJOdTCakls"
      },
      "outputs": [],
      "source": [
        "def place_calendar_spreads(spreads, price_type, quantity_type, timeInForce, max_quantity=250, price=0.00, quantity=1):\n",
        "  results = []\n",
        "  if(price_type == \"set_for_all\"):\n",
        "    price = float(input(\"Please enter the PRICE for each order: \") or 0.00)\n",
        "\n",
        "  if(quantity_type == \"set_for_all\"):\n",
        "    quantity = int(input(\"Please enter the QUANTITY for each order: \") or 0)\n",
        "\n",
        "  if (quantity_type == \"use_max_available_spreads\"):\n",
        "    user_max_quantity = int(input(\"Please enter the MAX_QUANTITY for each order: \") or max_quantity)\n",
        "\n",
        "  for spread in spreads:\n",
        "    (front_leg_option, back_leg_option, spread_cost, profitability) = spread\n",
        "\n",
        "    if(price_type == \"set_each\"):\n",
        "      price = float(input(\"price (limit): \") or 0.00)\n",
        "\n",
        "    if (price_type == \"use_spread_cost\"):\n",
        "      price = spread_cost\n",
        "\n",
        "    if(quantity_type == \"set_each\"):\n",
        "      quantity = int(input(\"order size (quantity): \") or 1)\n",
        "\n",
        "    if (quantity_type == \"use_max_available_spreads\"):\n",
        "      quantity = get_min_order_quantity(spread)\n",
        "      if ((quantity >= user_max_quantity)):\n",
        "        quantity = user_max_quantity\n",
        "\n",
        "    if ((quantity >= max_quantity)):\n",
        "      quantity = max_quantity\n",
        "\n",
        "    result = order_calendar_spread(spread=spread, price=price, quantity=quantity, timeInForce=timeInForce)\n",
        "    results.append(result)\n",
        "  return results"
      ]
    },
    {
      "cell_type": "code",
      "execution_count": 14,
      "metadata": {
        "id": "re1QmboxbVIK"
      },
      "outputs": [],
      "source": [
        "import threading\n",
        "\n",
        "def market_worker(item):\n",
        "  marketData = r.options.get_option_market_data_by_id(item['id'])\n",
        "  if marketData:\n",
        "      item.update(marketData[0])\n",
        "      print_option(item)\n",
        "\n",
        "\n",
        "def update_option_market_data(options):\n",
        "  for item in options:\n",
        "    thread = threading.Thread(target=market_worker(item)).start()"
      ]
    },
    {
      "cell_type": "code",
      "execution_count": 25,
      "metadata": {
        "id": "zNMPwTXkK5AN"
      },
      "outputs": [],
      "source": [
        "def spread_filter(spread, max_spread_cost, min_volume, min_avalible_quantity, min_profitability,  min_front_short_date, max_front_short_date, min_back_long_date, max_back_long_date):\n",
        "    (front_leg_option, back_leg_option, spread_cost, profitability) = spread\n",
        "    front_volume = front_leg_option.get(\"volume\")\n",
        "    back_volume = back_leg_option.get(\"volume\")\n",
        "    is_in_volume_range=False\n",
        "\n",
        "    is_less_than_max_cost = (spread_cost <= max_spread_cost)\n",
        "    if (front_volume and back_volume):\n",
        "        is_in_volume_range = (int(front_volume) >= min_volume) and (int(back_volume) >= min_volume)\n",
        "    is_greater_than_min_avalible_quantity = get_min_order_quantity(spread) >= min_avalible_quantity\n",
        "    is_greater_than_profitability = profitability >= min_profitability\n",
        "\n",
        "    front_date = parse(front_leg_option[\"expiration_date\"])\n",
        "    back_date = parse(back_leg_option[\"expiration_date\"])\n",
        "\n",
        "    is_greater_than_min_front_short_date = front_date >= min_front_short_date\n",
        "    is_less_than_max_front_short_date = front_date <= max_front_short_date\n",
        "    is_greater_than_min_back_long_date = back_date >= min_back_long_date\n",
        "    is_less_than_max_back_long_date = back_date <= max_back_long_date\n",
        "\n",
        "    return (is_less_than_max_cost and is_in_volume_range and is_greater_than_min_avalible_quantity and is_greater_than_profitability and is_greater_than_min_front_short_date and is_less_than_max_front_short_date and is_greater_than_min_back_long_date and is_less_than_max_back_long_date)\n"
      ]
    },
    {
      "cell_type": "code",
      "execution_count": 16,
      "metadata": {
        "id": "ut6wBPubtrs-"
      },
      "outputs": [],
      "source": [
        "def filter_calendar_spreads(spreads, max_spread_cost, min_volume, min_avalible_quantity, min_chance_of_profitability, min_front_short_date, max_front_short_date, min_back_long_date, max_back_long_date):\n",
        "\n",
        "  filtered_spreads = list(\n",
        "      filter(lambda spread: spread_filter(spread, max_spread_cost, min_volume, min_avalible_quantity, min_chance_of_profitability, min_front_short_date, max_front_short_date, min_back_long_date, max_back_long_date), spreads))\n",
        "\n",
        "  filtered_spreads = sorted(\n",
        "      filtered_spreads, key=lambda spread: ((spread[2]), -spread[3]))\n",
        "  return filtered_spreads"
      ]
    },
    {
      "cell_type": "markdown",
      "metadata": {
        "id": "FQmJxZE-DFVi"
      },
      "source": [
        "# Login"
      ]
    },
    {
      "cell_type": "code",
      "execution_count": 17,
      "metadata": {
        "id": "JzExam5DaIx2",
        "tags": [
          "parameters"
        ]
      },
      "outputs": [
        {
          "name": "stdout",
          "output_type": "stream",
          "text": [
            "logged in using authentication in robinhood.pickle\n"
          ]
        }
      ],
      "source": [
        "#@title #Authenticate { vertical-output: true, display-mode: \"form\" }\n",
        "username = \"forrest.surprenant@gmail.com\" #@param {type:\"string\"}\n",
        "password = \"\"\n",
        "login = r.login(username, password)\n",
        "print(login.get(\"detail\"))"
      ]
    },
    {
      "cell_type": "markdown",
      "metadata": {
        "id": "_vdpgRFRQKbm"
      },
      "source": [
        "# Scan for options"
      ]
    },
    {
      "cell_type": "markdown",
      "metadata": {
        "id": "QXnRUdOf75x6"
      },
      "source": [
        "> Inputs needed: offset and max offset. By default, the scanner will analize $10 worth of different strikes. 5 above and 5 below.\n",
        "\n",
        "* **symbol**: example \"spy\"\n",
        "* **min strike offset**: how far below the current strike you want to look. The default is 5 dollars.\n",
        "* **max strike offset**: how far above the current strike you want to look. The \n",
        "default is 5 dollars."
      ]
    },
    {
      "cell_type": "code",
      "execution_count": 26,
      "metadata": {
        "id": "xRk9_S-ganWm"
      },
      "outputs": [
        {
          "name": "stdout",
          "output_type": "stream",
          "text": [
            "BBBY is currently trading at: $3\n",
            "Found Additional pages.\n",
            "Loading page 2 ...\n",
            "Loading page 3 ...\n",
            "Loading page 4 ...\n",
            "Loading page 5 ...\n",
            "Loading page 6 ...\n",
            "Loading page 7 ...\n",
            "Loading page 8 ...\n",
            "Base on user criteria, you found 298 to analize!\n"
          ]
        }
      ],
      "source": [
        "#@title Enter option criteria { vertical-output: true, display-mode: \"form\" }\n",
        "# Create a script that places a debit calendar spread for each tradeable option of a given symbol. The cost of the spread needs to be zero.\n",
        "symbol = \"BBBY\"  # @param {type:\"string\"}\n",
        "optionType = \"both\"  # @param [\"call\", \"put\", \"both\"]\n",
        "min_strike_offset = 5 # @param {type:\"integer\"}\n",
        "max_strike_offset = 5  # @param {type:\"integer\"}\n",
        "\n",
        "options = scan_for_options(symbol, optionType, min_strike_offset, max_strike_offset)\n",
        "print(\"Base on user criteria, you found {} to analize!\".format(len(options)))"
      ]
    },
    {
      "cell_type": "markdown",
      "metadata": {
        "id": "_EQgSKflxpeh"
      },
      "source": [
        "## Get option market data\n"
      ]
    },
    {
      "cell_type": "markdown",
      "metadata": {
        "id": "XxoyXbTjS00Y"
      },
      "source": [
        "> This gets the latest market information for each option found. Data such as ask_price and bid_price are changing all the time. It's a good idea to refresh this often."
      ]
    },
    {
      "cell_type": "code",
      "execution_count": 27,
      "metadata": {
        "id": "1sbX_vfcxpVd"
      },
      "outputs": [
        {
          "name": "stdout",
          "output_type": "stream",
          "text": [
            "call | Strike: $5.0 | Expiration date: 2023-01-27 | Last price: $0.67 | Last updated: 2023-01-13 03:59 PM (US/Eastern)\n",
            "put | Strike: $1.5 | Expiration date: 2023-02-03 | Last price: $0.29 | Last updated: 2023-01-13 03:59 PM (US/Eastern)\n",
            "call | Strike: $7.5 | Expiration date: 2023-02-10 | Last price: $0.86 | Last updated: 2023-01-13 03:59 PM (US/Eastern)\n",
            "put | Strike: $4.5 | Expiration date: 2023-02-03 | Last price: $2.22 | Last updated: 2023-01-13 03:59 PM (US/Eastern)\n",
            "put | Strike: $2.0 | Expiration date: 2025-01-17 | Last price: $1.57 | Last updated: 2023-01-13 03:53 PM (US/Eastern)\n",
            "call | Strike: $5.5 | Expiration date: 2023-03-03 | Last price: $0.86 | Last updated: 2023-01-13 03:59 PM (US/Eastern)\n",
            "call | Strike: $3.0 | Expiration date: 2023-03-17 | Last price: $1.52 | Last updated: 2023-01-13 03:59 PM (US/Eastern)\n",
            "call | Strike: $6.0 | Expiration date: 2023-02-24 | Last price: $0.91 | Last updated: 2023-01-13 03:59 PM (US/Eastern)\n",
            "put | Strike: $3.0 | Expiration date: 2023-02-03 | Last price: $1.09 | Last updated: 2023-01-13 03:59 PM (US/Eastern)\n",
            "call | Strike: $7.0 | Expiration date: 2023-03-03 | Last price: $None | Last updated: 2023-01-13 03:59 PM (US/Eastern)\n",
            "put | Strike: $6.0 | Expiration date: 2023-03-03 | Last price: $3.75 | Last updated: 2023-01-13 03:59 PM (US/Eastern)\n",
            "call | Strike: $3.5 | Expiration date: 2023-03-03 | Last price: $1.55 | Last updated: 2023-01-13 03:59 PM (US/Eastern)\n",
            "call | Strike: $4.0 | Expiration date: 2023-03-03 | Last price: $1.25 | Last updated: 2023-01-13 03:59 PM (US/Eastern)\n",
            "call | Strike: $1.5 | Expiration date: 2023-02-24 | Last price: $2.35 | Last updated: 2023-01-13 03:59 PM (US/Eastern)\n",
            "call | Strike: $5.0 | Expiration date: 2023-05-19 | Last price: $1.15 | Last updated: 2023-01-13 03:59 PM (US/Eastern)\n",
            "call | Strike: $3.0 | Expiration date: 2023-03-03 | Last price: $1.5 | Last updated: 2023-01-13 03:59 PM (US/Eastern)\n",
            "call | Strike: $4.0 | Expiration date: 2024-01-19 | Last price: $1.5 | Last updated: 2023-01-13 03:59 PM (US/Eastern)\n",
            "put | Strike: $2.0 | Expiration date: 2025-06-20 | Last price: $1.58 | Last updated: 2023-01-13 03:59 PM (US/Eastern)\n",
            "put | Strike: $3.0 | Expiration date: 2023-03-17 | Last price: $1.61 | Last updated: 2023-01-13 03:59 PM (US/Eastern)\n",
            "put | Strike: $0.5 | Expiration date: 2023-01-27 | Last price: $0.03 | Last updated: 2023-01-13 03:59 PM (US/Eastern)\n",
            "call | Strike: $0.5 | Expiration date: 2023-01-27 | Last price: $3.25 | Last updated: 2023-01-13 03:59 PM (US/Eastern)\n",
            "put | Strike: $6.0 | Expiration date: 2023-02-10 | Last price: $3.5 | Last updated: 2023-01-13 03:59 PM (US/Eastern)\n",
            "call | Strike: $1.0 | Expiration date: 2025-06-20 | Last price: $2.6 | Last updated: 2023-01-13 03:59 PM (US/Eastern)\n",
            "call | Strike: $2.5 | Expiration date: 2023-02-03 | Last price: $1.43 | Last updated: 2023-01-13 03:59 PM (US/Eastern)\n",
            "put | Strike: $4.0 | Expiration date: 2024-01-19 | Last price: $3.02 | Last updated: 2023-01-13 03:59 PM (US/Eastern)\n",
            "put | Strike: $7.0 | Expiration date: 2023-01-20 | Last price: $3.75 | Last updated: 2023-01-13 03:59 PM (US/Eastern)\n",
            "put | Strike: $3.5 | Expiration date: 2023-03-03 | Last price: $1.85 | Last updated: 2023-01-13 03:59 PM (US/Eastern)\n",
            "put | Strike: $5.0 | Expiration date: 2023-03-17 | Last price: $3.25 | Last updated: 2023-01-13 03:59 PM (US/Eastern)\n",
            "put | Strike: $3.5 | Expiration date: 2023-02-03 | Last price: $1.42 | Last updated: 2023-01-13 03:59 PM (US/Eastern)\n",
            "call | Strike: $1.0 | Expiration date: 2023-02-03 | Last price: $2.87 | Last updated: 2023-01-13 03:59 PM (US/Eastern)\n",
            "call | Strike: $2.0 | Expiration date: 2023-04-21 | Last price: $1.95 | Last updated: 2023-01-13 03:59 PM (US/Eastern)\n",
            "call | Strike: $1.0 | Expiration date: 2023-03-03 | Last price: $None | Last updated: 2023-01-13 03:59 PM (US/Eastern)\n",
            "call | Strike: $1.0 | Expiration date: 2023-02-10 | Last price: $2.9 | Last updated: 2023-01-13 03:59 PM (US/Eastern)\n",
            "call | Strike: $6.0 | Expiration date: 2023-01-27 | Last price: $0.56 | Last updated: 2023-01-13 03:59 PM (US/Eastern)\n",
            "put | Strike: $1.5 | Expiration date: 2023-02-10 | Last price: $0.34 | Last updated: 2023-01-13 03:57 PM (US/Eastern)\n",
            "put | Strike: $6.5 | Expiration date: 2023-01-27 | Last price: $3.6 | Last updated: 2023-01-13 03:59 PM (US/Eastern)\n",
            "put | Strike: $4.0 | Expiration date: 2023-04-21 | Last price: $2.58 | Last updated: 2023-01-13 03:59 PM (US/Eastern)\n",
            "call | Strike: $2.5 | Expiration date: 2023-01-20 | Last price: $1.15 | Last updated: 2023-01-13 03:59 PM (US/Eastern)\n",
            "put | Strike: $2.0 | Expiration date: 2024-01-19 | Last price: $1.44 | Last updated: 2023-01-13 03:59 PM (US/Eastern)\n",
            "call | Strike: $2.0 | Expiration date: 2023-03-03 | Last price: $2.44 | Last updated: 2023-01-13 03:59 PM (US/Eastern)\n",
            "put | Strike: $1.0 | Expiration date: 2023-01-20 | Last price: $0.03 | Last updated: 2023-01-13 03:59 PM (US/Eastern)\n",
            "call | Strike: $3.0 | Expiration date: 2023-01-20 | Last price: $0.89 | Last updated: 2023-01-13 03:59 PM (US/Eastern)\n",
            "put | Strike: $7.0 | Expiration date: 2023-03-17 | Last price: $5.05 | Last updated: 2023-01-13 03:59 PM (US/Eastern)\n",
            "put | Strike: $0.5 | Expiration date: 2023-01-20 | Last price: $0.02 | Last updated: 2023-01-13 03:59 PM (US/Eastern)\n",
            "call | Strike: $6.0 | Expiration date: 2023-05-19 | Last price: $1.03 | Last updated: 2023-01-13 03:59 PM (US/Eastern)\n",
            "put | Strike: $4.0 | Expiration date: 2023-06-16 | Last price: $2.76 | Last updated: 2023-01-13 03:59 PM (US/Eastern)\n",
            "put | Strike: $2.0 | Expiration date: 2023-01-27 | Last price: $0.29 | Last updated: 2023-01-13 03:59 PM (US/Eastern)\n",
            "put | Strike: $3.0 | Expiration date: 2023-08-18 | Last price: $2.05 | Last updated: 2023-01-13 03:59 PM (US/Eastern)\n",
            "put | Strike: $7.0 | Expiration date: 2023-05-19 | Last price: $5.31 | Last updated: 2023-01-13 03:59 PM (US/Eastern)\n",
            "put | Strike: $3.0 | Expiration date: 2023-01-27 | Last price: $0.81 | Last updated: 2023-01-13 03:59 PM (US/Eastern)\n",
            "call | Strike: $3.0 | Expiration date: 2025-01-17 | Last price: $1.8 | Last updated: 2023-01-13 03:59 PM (US/Eastern)\n",
            "put | Strike: $1.0 | Expiration date: 2023-01-27 | Last price: $0.05 | Last updated: 2023-01-13 03:59 PM (US/Eastern)\n",
            "call | Strike: $3.5 | Expiration date: 2023-02-10 | Last price: $1.25 | Last updated: 2023-01-13 03:59 PM (US/Eastern)\n",
            "put | Strike: $7.0 | Expiration date: 2025-01-17 | Last price: $6.0 | Last updated: 2023-01-13 03:59 PM (US/Eastern)\n",
            "put | Strike: $1.0 | Expiration date: 2023-02-03 | Last price: $0.12 | Last updated: 2023-01-13 03:59 PM (US/Eastern)\n",
            "call | Strike: $5.0 | Expiration date: 2023-06-16 | Last price: $1.2 | Last updated: 2023-01-13 03:59 PM (US/Eastern)\n",
            "call | Strike: $5.0 | Expiration date: 2024-01-19 | Last price: $1.37 | Last updated: 2023-01-13 03:59 PM (US/Eastern)\n",
            "put | Strike: $3.0 | Expiration date: 2023-02-10 | Last price: $1.16 | Last updated: 2023-01-13 03:59 PM (US/Eastern)\n",
            "put | Strike: $7.0 | Expiration date: 2023-02-17 | Last price: $4.75 | Last updated: 2023-01-13 03:59 PM (US/Eastern)\n",
            "put | Strike: $5.0 | Expiration date: 2023-01-27 | Last price: $2.35 | Last updated: 2023-01-13 03:59 PM (US/Eastern)\n",
            "put | Strike: $2.0 | Expiration date: 2023-02-24 | Last price: $0.73 | Last updated: 2023-01-13 03:59 PM (US/Eastern)\n",
            "call | Strike: $3.0 | Expiration date: 2023-08-18 | Last price: $1.63 | Last updated: 2023-01-13 03:59 PM (US/Eastern)\n",
            "call | Strike: $7.0 | Expiration date: 2023-05-19 | Last price: $0.96 | Last updated: 2023-01-13 03:59 PM (US/Eastern)\n",
            "call | Strike: $1.0 | Expiration date: 2023-05-19 | Last price: $2.62 | Last updated: 2023-01-13 03:59 PM (US/Eastern)\n",
            "call | Strike: $1.5 | Expiration date: 2023-01-20 | Last price: $2.24 | Last updated: 2023-01-13 03:59 PM (US/Eastern)\n",
            "call | Strike: $4.5 | Expiration date: 2023-03-03 | Last price: $1.42 | Last updated: 2023-01-13 03:59 PM (US/Eastern)\n",
            "put | Strike: $5.0 | Expiration date: 2023-06-16 | Last price: $3.7 | Last updated: 2023-01-13 03:59 PM (US/Eastern)\n",
            "put | Strike: $5.5 | Expiration date: 2023-01-20 | Last price: $2.4 | Last updated: 2023-01-13 03:59 PM (US/Eastern)\n",
            "put | Strike: $7.0 | Expiration date: 2023-08-18 | Last price: $5.55 | Last updated: 2023-01-13 03:59 PM (US/Eastern)\n",
            "call | Strike: $1.0 | Expiration date: 2023-02-24 | Last price: $4.0 | Last updated: 2023-01-13 03:59 PM (US/Eastern)\n",
            "put | Strike: $2.5 | Expiration date: 2023-02-24 | Last price: $1.04 | Last updated: 2023-01-13 03:59 PM (US/Eastern)\n",
            "put | Strike: $7.0 | Expiration date: 2023-02-03 | Last price: $4.09 | Last updated: 2023-01-13 03:59 PM (US/Eastern)\n",
            "put | Strike: $7.5 | Expiration date: 2023-02-03 | Last price: $6.25 | Last updated: 2023-01-13 03:59 PM (US/Eastern)\n",
            "call | Strike: $1.0 | Expiration date: 2025-01-17 | Last price: $2.73 | Last updated: 2023-01-13 03:59 PM (US/Eastern)\n",
            "call | Strike: $4.0 | Expiration date: 2025-01-17 | Last price: $1.6 | Last updated: 2023-01-13 03:59 PM (US/Eastern)\n",
            "call | Strike: $4.0 | Expiration date: 2023-02-03 | Last price: $1.02 | Last updated: 2023-01-13 03:59 PM (US/Eastern)\n",
            "put | Strike: $0.5 | Expiration date: 2023-02-24 | Last price: $0.07 | Last updated: 2023-01-13 03:59 PM (US/Eastern)\n",
            "put | Strike: $7.0 | Expiration date: 2023-03-03 | Last price: $None | Last updated: 2023-01-13 03:59 PM (US/Eastern)\n",
            "put | Strike: $3.0 | Expiration date: 2023-06-16 | Last price: $1.95 | Last updated: 2023-01-13 03:59 PM (US/Eastern)\n",
            "put | Strike: $2.5 | Expiration date: 2023-02-03 | Last price: $0.74 | Last updated: 2023-01-13 03:59 PM (US/Eastern)\n",
            "call | Strike: $2.5 | Expiration date: 2023-01-27 | Last price: $1.4 | Last updated: 2023-01-13 03:59 PM (US/Eastern)\n",
            "put | Strike: $2.0 | Expiration date: 2023-04-21 | Last price: $1.02 | Last updated: 2023-01-13 03:59 PM (US/Eastern)\n",
            "put | Strike: $1.5 | Expiration date: 2023-02-24 | Last price: $0.44 | Last updated: 2023-01-13 03:57 PM (US/Eastern)\n",
            "put | Strike: $3.0 | Expiration date: 2023-05-19 | Last price: $1.84 | Last updated: 2023-01-13 03:59 PM (US/Eastern)\n",
            "call | Strike: $1.0 | Expiration date: 2023-02-17 | Last price: $2.92 | Last updated: 2023-01-13 03:59 PM (US/Eastern)\n",
            "call | Strike: $2.0 | Expiration date: 2024-01-19 | Last price: $2.04 | Last updated: 2023-01-13 03:59 PM (US/Eastern)\n",
            "call | Strike: $3.5 | Expiration date: 2023-02-24 | Last price: $1.39 | Last updated: 2023-01-13 03:59 PM (US/Eastern)\n",
            "call | Strike: $1.0 | Expiration date: 2023-01-20 | Last price: $2.68 | Last updated: 2023-01-13 03:59 PM (US/Eastern)\n",
            "call | Strike: $4.5 | Expiration date: 2023-02-10 | Last price: $0.95 | Last updated: 2023-01-13 03:59 PM (US/Eastern)\n",
            "put | Strike: $6.0 | Expiration date: 2023-02-24 | Last price: $3.7 | Last updated: 2023-01-13 03:59 PM (US/Eastern)\n",
            "call | Strike: $5.0 | Expiration date: 2023-02-03 | Last price: $0.83 | Last updated: 2023-01-13 03:59 PM (US/Eastern)\n",
            "put | Strike: $1.0 | Expiration date: 2023-05-19 | Last price: $0.46 | Last updated: 2023-01-13 03:59 PM (US/Eastern)\n",
            "call | Strike: $2.0 | Expiration date: 2023-03-17 | Last price: $1.9 | Last updated: 2023-01-13 03:59 PM (US/Eastern)\n",
            "put | Strike: $6.0 | Expiration date: 2023-02-17 | Last price: $3.83 | Last updated: 2023-01-13 03:59 PM (US/Eastern)\n",
            "call | Strike: $3.0 | Expiration date: 2025-06-20 | Last price: $1.62 | Last updated: 2023-01-13 03:59 PM (US/Eastern)\n",
            "call | Strike: $1.5 | Expiration date: 2023-01-27 | Last price: $2.2 | Last updated: 2023-01-13 03:59 PM (US/Eastern)\n",
            "put | Strike: $5.0 | Expiration date: 2023-02-24 | Last price: $3.0 | Last updated: 2023-01-13 03:59 PM (US/Eastern)\n",
            "put | Strike: $1.0 | Expiration date: 2023-04-21 | Last price: $0.37 | Last updated: 2023-01-13 03:59 PM (US/Eastern)\n",
            "put | Strike: $1.0 | Expiration date: 2023-02-24 | Last price: $0.23 | Last updated: 2023-01-13 03:59 PM (US/Eastern)\n",
            "put | Strike: $4.0 | Expiration date: 2023-01-20 | Last price: $1.12 | Last updated: 2023-01-13 03:59 PM (US/Eastern)\n",
            "put | Strike: $2.5 | Expiration date: 2023-03-03 | Last price: $1.15 | Last updated: 2023-01-13 03:59 PM (US/Eastern)\n",
            "call | Strike: $7.0 | Expiration date: 2023-01-20 | Last price: $0.29 | Last updated: 2023-01-13 03:59 PM (US/Eastern)\n",
            "call | Strike: $5.0 | Expiration date: 2023-02-24 | Last price: $0.93 | Last updated: 2023-01-13 03:59 PM (US/Eastern)\n",
            "call | Strike: $4.0 | Expiration date: 2025-06-20 | Last price: $1.5 | Last updated: 2023-01-13 03:59 PM (US/Eastern)\n",
            "call | Strike: $7.5 | Expiration date: 2023-01-20 | Last price: $0.29 | Last updated: 2023-01-13 03:59 PM (US/Eastern)\n",
            "put | Strike: $6.0 | Expiration date: 2023-06-16 | Last price: $4.57 | Last updated: 2023-01-13 03:59 PM (US/Eastern)\n",
            "call | Strike: $5.5 | Expiration date: 2023-01-20 | Last price: $0.4 | Last updated: 2023-01-13 03:59 PM (US/Eastern)\n",
            "call | Strike: $4.0 | Expiration date: 2023-01-20 | Last price: $0.6 | Last updated: 2023-01-13 03:59 PM (US/Eastern)\n",
            "put | Strike: $2.0 | Expiration date: 2023-01-20 | Last price: $0.1 | Last updated: 2023-01-13 03:59 PM (US/Eastern)\n",
            "call | Strike: $5.0 | Expiration date: 2023-02-17 | Last price: $0.95 | Last updated: 2023-01-13 03:59 PM (US/Eastern)\n",
            "call | Strike: $6.0 | Expiration date: 2023-06-16 | Last price: $1.3 | Last updated: 2023-01-13 03:59 PM (US/Eastern)\n",
            "call | Strike: $1.0 | Expiration date: 2023-03-17 | Last price: $2.64 | Last updated: 2023-01-13 03:59 PM (US/Eastern)\n",
            "call | Strike: $0.5 | Expiration date: 2023-02-24 | Last price: $3.29 | Last updated: 2023-01-13 03:59 PM (US/Eastern)\n",
            "put | Strike: $6.5 | Expiration date: 2023-02-03 | Last price: $3.85 | Last updated: 2023-01-13 03:59 PM (US/Eastern)\n",
            "put | Strike: $3.0 | Expiration date: 2023-04-21 | Last price: $1.76 | Last updated: 2023-01-13 03:59 PM (US/Eastern)\n",
            "put | Strike: $2.0 | Expiration date: 2023-08-18 | Last price: $1.28 | Last updated: 2023-01-13 03:59 PM (US/Eastern)\n",
            "put | Strike: $4.5 | Expiration date: 2023-02-24 | Last price: $2.55 | Last updated: 2023-01-13 03:59 PM (US/Eastern)\n",
            "call | Strike: $7.0 | Expiration date: 2025-01-17 | Last price: $1.05 | Last updated: 2023-01-13 03:59 PM (US/Eastern)\n",
            "put | Strike: $5.0 | Expiration date: 2023-01-20 | Last price: $1.95 | Last updated: 2023-01-13 03:59 PM (US/Eastern)\n",
            "call | Strike: $4.0 | Expiration date: 2023-03-17 | Last price: $1.29 | Last updated: 2023-01-13 03:59 PM (US/Eastern)\n",
            "put | Strike: $6.0 | Expiration date: 2023-04-21 | Last price: $4.22 | Last updated: 2023-01-13 03:59 PM (US/Eastern)\n",
            "put | Strike: $4.0 | Expiration date: 2023-03-17 | Last price: $2.4 | Last updated: 2023-01-13 03:59 PM (US/Eastern)\n",
            "call | Strike: $4.0 | Expiration date: 2023-02-10 | Last price: $1.1 | Last updated: 2023-01-13 03:59 PM (US/Eastern)\n",
            "call | Strike: $1.0 | Expiration date: 2023-04-21 | Last price: $2.8 | Last updated: 2023-01-13 03:59 PM (US/Eastern)\n",
            "call | Strike: $5.0 | Expiration date: 2023-03-03 | Last price: $1.04 | Last updated: 2023-01-13 03:59 PM (US/Eastern)\n",
            "put | Strike: $5.5 | Expiration date: 2023-03-03 | Last price: $3.25 | Last updated: 2023-01-13 03:59 PM (US/Eastern)\n",
            "call | Strike: $3.0 | Expiration date: 2023-02-17 | Last price: $1.41 | Last updated: 2023-01-13 03:59 PM (US/Eastern)\n",
            "call | Strike: $1.5 | Expiration date: 2023-03-03 | Last price: $2.84 | Last updated: 2023-01-13 03:59 PM (US/Eastern)\n",
            "call | Strike: $7.0 | Expiration date: 2023-08-18 | Last price: $1.42 | Last updated: 2023-01-13 03:59 PM (US/Eastern)\n",
            "put | Strike: $3.0 | Expiration date: 2025-06-20 | Last price: $2.45 | Last updated: 2023-01-13 03:49 PM (US/Eastern)\n",
            "call | Strike: $7.0 | Expiration date: 2023-01-27 | Last price: $0.5 | Last updated: 2023-01-13 03:59 PM (US/Eastern)\n",
            "call | Strike: $4.0 | Expiration date: 2023-01-27 | Last price: $0.86 | Last updated: 2023-01-13 03:59 PM (US/Eastern)\n",
            "put | Strike: $2.0 | Expiration date: 2023-05-19 | Last price: $1.1 | Last updated: 2023-01-13 03:59 PM (US/Eastern)\n",
            "call | Strike: $7.5 | Expiration date: 2023-02-03 | Last price: $1.03 | Last updated: 2023-01-13 03:59 PM (US/Eastern)\n",
            "call | Strike: $4.0 | Expiration date: 2023-02-17 | Last price: $1.1 | Last updated: 2023-01-13 03:59 PM (US/Eastern)\n",
            "put | Strike: $6.0 | Expiration date: 2023-08-18 | Last price: $4.55 | Last updated: 2023-01-13 03:59 PM (US/Eastern)\n",
            "call | Strike: $4.5 | Expiration date: 2023-01-27 | Last price: $0.75 | Last updated: 2023-01-13 03:59 PM (US/Eastern)\n",
            "put | Strike: $5.0 | Expiration date: 2023-02-10 | Last price: $2.77 | Last updated: 2023-01-13 03:59 PM (US/Eastern)\n",
            "put | Strike: $4.0 | Expiration date: 2023-02-10 | Last price: $2.11 | Last updated: 2023-01-13 03:59 PM (US/Eastern)\n",
            "call | Strike: $1.0 | Expiration date: 2023-06-16 | Last price: $2.7 | Last updated: 2023-01-13 03:59 PM (US/Eastern)\n",
            "call | Strike: $7.0 | Expiration date: 2023-04-21 | Last price: $0.9 | Last updated: 2023-01-13 03:59 PM (US/Eastern)\n",
            "call | Strike: $0.5 | Expiration date: 2023-03-03 | Last price: $4.2 | Last updated: 2023-01-13 03:59 PM (US/Eastern)\n",
            "put | Strike: $7.5 | Expiration date: 2023-02-24 | Last price: $None | Last updated: 2023-01-13 03:59 PM (US/Eastern)\n",
            "call | Strike: $5.0 | Expiration date: 2023-02-10 | Last price: $0.96 | Last updated: 2023-01-13 03:59 PM (US/Eastern)\n",
            "call | Strike: $4.0 | Expiration date: 2023-06-16 | Last price: $1.38 | Last updated: 2023-01-13 03:59 PM (US/Eastern)\n",
            "put | Strike: $2.0 | Expiration date: 2023-06-16 | Last price: $1.2 | Last updated: 2023-01-13 03:59 PM (US/Eastern)\n",
            "put | Strike: $7.5 | Expiration date: 2023-01-20 | Last price: $4.15 | Last updated: 2023-01-13 03:59 PM (US/Eastern)\n",
            "call | Strike: $2.0 | Expiration date: 2023-08-18 | Last price: $2.04 | Last updated: 2023-01-13 03:59 PM (US/Eastern)\n",
            "call | Strike: $3.0 | Expiration date: 2023-02-03 | Last price: $1.29 | Last updated: 2023-01-13 03:59 PM (US/Eastern)\n",
            "put | Strike: $2.0 | Expiration date: 2023-02-10 | Last price: $0.6 | Last updated: 2023-01-13 03:59 PM (US/Eastern)\n",
            "call | Strike: $6.5 | Expiration date: 2023-03-03 | Last price: $0.9 | Last updated: 2023-01-13 03:59 PM (US/Eastern)\n",
            "call | Strike: $2.5 | Expiration date: 2023-02-10 | Last price: $1.88 | Last updated: 2023-01-13 03:59 PM (US/Eastern)\n",
            "call | Strike: $2.0 | Expiration date: 2023-05-19 | Last price: $1.98 | Last updated: 2023-01-13 03:59 PM (US/Eastern)\n",
            "put | Strike: $5.0 | Expiration date: 2025-06-20 | Last price: $4.24 | Last updated: 2023-01-13 03:59 PM (US/Eastern)\n",
            "put | Strike: $4.5 | Expiration date: 2023-01-20 | Last price: $1.54 | Last updated: 2023-01-13 03:59 PM (US/Eastern)\n",
            "put | Strike: $1.5 | Expiration date: 2023-03-03 | Last price: $0.49 | Last updated: 2023-01-13 03:59 PM (US/Eastern)\n",
            "put | Strike: $5.5 | Expiration date: 2023-02-03 | Last price: $3.0 | Last updated: 2023-01-13 03:59 PM (US/Eastern)\n",
            "call | Strike: $5.5 | Expiration date: 2023-01-27 | Last price: $0.63 | Last updated: 2023-01-13 03:59 PM (US/Eastern)\n",
            "put | Strike: $5.5 | Expiration date: 2023-02-10 | Last price: $2.96 | Last updated: 2023-01-13 03:59 PM (US/Eastern)\n",
            "put | Strike: $7.0 | Expiration date: 2023-02-24 | Last price: $None | Last updated: 2023-01-13 03:59 PM (US/Eastern)\n",
            "put | Strike: $5.0 | Expiration date: 2023-08-18 | Last price: $3.85 | Last updated: 2023-01-13 03:59 PM (US/Eastern)\n",
            "call | Strike: $1.5 | Expiration date: 2023-02-03 | Last price: $2.2 | Last updated: 2023-01-13 03:59 PM (US/Eastern)\n",
            "call | Strike: $5.5 | Expiration date: 2023-02-24 | Last price: $0.95 | Last updated: 2023-01-13 03:59 PM (US/Eastern)\n",
            "call | Strike: $4.0 | Expiration date: 2023-02-24 | Last price: $1.14 | Last updated: 2023-01-13 03:59 PM (US/Eastern)\n",
            "put | Strike: $7.5 | Expiration date: 2023-03-03 | Last price: $None | Last updated: 2023-01-13 03:59 PM (US/Eastern)\n",
            "call | Strike: $6.5 | Expiration date: 2023-02-24 | Last price: $0.89 | Last updated: 2023-01-13 03:59 PM (US/Eastern)\n",
            "call | Strike: $3.0 | Expiration date: 2023-06-16 | Last price: $1.64 | Last updated: 2023-01-13 03:59 PM (US/Eastern)\n",
            "put | Strike: $5.0 | Expiration date: 2023-03-03 | Last price: $3.2 | Last updated: 2023-01-13 03:59 PM (US/Eastern)\n",
            "put | Strike: $2.0 | Expiration date: 2023-02-03 | Last price: $0.47 | Last updated: 2023-01-13 03:59 PM (US/Eastern)\n",
            "call | Strike: $3.0 | Expiration date: 2023-01-27 | Last price: $1.17 | Last updated: 2023-01-13 03:59 PM (US/Eastern)\n",
            "call | Strike: $6.0 | Expiration date: 2023-08-18 | Last price: $1.24 | Last updated: 2023-01-13 03:59 PM (US/Eastern)\n",
            "call | Strike: $5.0 | Expiration date: 2023-01-20 | Last price: $0.44 | Last updated: 2023-01-13 03:59 PM (US/Eastern)\n",
            "call | Strike: $5.0 | Expiration date: 2023-08-18 | Last price: $1.25 | Last updated: 2023-01-13 03:59 PM (US/Eastern)\n",
            "put | Strike: $4.0 | Expiration date: 2023-03-03 | Last price: $2.36 | Last updated: 2023-01-13 03:59 PM (US/Eastern)\n",
            "put | Strike: $6.0 | Expiration date: 2023-01-20 | Last price: $2.86 | Last updated: 2023-01-13 03:59 PM (US/Eastern)\n",
            "call | Strike: $2.0 | Expiration date: 2023-01-27 | Last price: $1.73 | Last updated: 2023-01-13 03:59 PM (US/Eastern)\n",
            "put | Strike: $3.0 | Expiration date: 2025-01-17 | Last price: $2.45 | Last updated: 2023-01-13 03:59 PM (US/Eastern)\n",
            "put | Strike: $1.0 | Expiration date: 2023-08-18 | Last price: $0.51 | Last updated: 2023-01-13 03:59 PM (US/Eastern)\n",
            "put | Strike: $2.5 | Expiration date: 2023-01-20 | Last price: $0.21 | Last updated: 2023-01-13 03:59 PM (US/Eastern)\n",
            "call | Strike: $6.0 | Expiration date: 2023-02-17 | Last price: $0.85 | Last updated: 2023-01-13 03:59 PM (US/Eastern)\n",
            "put | Strike: $1.0 | Expiration date: 2024-01-19 | Last price: $0.67 | Last updated: 2023-01-13 03:59 PM (US/Eastern)\n",
            "call | Strike: $7.5 | Expiration date: 2023-02-24 | Last price: $None | Last updated: 2023-01-13 03:59 PM (US/Eastern)\n",
            "call | Strike: $7.5 | Expiration date: 2023-03-03 | Last price: $None | Last updated: 2023-01-13 03:59 PM (US/Eastern)\n",
            "put | Strike: $5.5 | Expiration date: 2023-01-27 | Last price: $2.72 | Last updated: 2023-01-13 03:59 PM (US/Eastern)\n",
            "call | Strike: $0.5 | Expiration date: 2023-02-03 | Last price: $3.2 | Last updated: 2023-01-13 03:59 PM (US/Eastern)\n",
            "put | Strike: $7.5 | Expiration date: 2023-02-10 | Last price: $5.04 | Last updated: 2023-01-13 03:59 PM (US/Eastern)\n",
            "put | Strike: $2.0 | Expiration date: 2023-03-03 | Last price: $0.81 | Last updated: 2023-01-13 03:59 PM (US/Eastern)\n",
            "put | Strike: $4.5 | Expiration date: 2023-02-10 | Last price: $2.27 | Last updated: 2023-01-13 03:59 PM (US/Eastern)\n",
            "call | Strike: $0.5 | Expiration date: 2023-01-20 | Last price: $3.5 | Last updated: 2023-01-13 03:59 PM (US/Eastern)\n",
            "call | Strike: $7.0 | Expiration date: 2023-03-17 | Last price: $0.84 | Last updated: 2023-01-13 03:59 PM (US/Eastern)\n",
            "call | Strike: $7.0 | Expiration date: 2023-02-24 | Last price: $0.71 | Last updated: 2023-01-13 03:59 PM (US/Eastern)\n",
            "put | Strike: $5.0 | Expiration date: 2023-04-21 | Last price: $3.43 | Last updated: 2023-01-13 03:59 PM (US/Eastern)\n",
            "call | Strike: $6.0 | Expiration date: 2023-04-21 | Last price: $1.05 | Last updated: 2023-01-13 03:59 PM (US/Eastern)\n",
            "call | Strike: $3.5 | Expiration date: 2023-01-20 | Last price: $0.74 | Last updated: 2023-01-13 03:59 PM (US/Eastern)\n",
            "put | Strike: $7.5 | Expiration date: 2023-01-27 | Last price: $4.3 | Last updated: 2023-01-13 03:59 PM (US/Eastern)\n",
            "call | Strike: $7.0 | Expiration date: 2023-02-03 | Last price: $0.6 | Last updated: 2023-01-13 03:59 PM (US/Eastern)\n",
            "call | Strike: $3.0 | Expiration date: 2023-02-24 | Last price: $1.48 | Last updated: 2023-01-13 03:59 PM (US/Eastern)\n",
            "put | Strike: $6.5 | Expiration date: 2023-02-24 | Last price: $4.06 | Last updated: 2023-01-13 03:59 PM (US/Eastern)\n",
            "put | Strike: $2.0 | Expiration date: 2023-03-17 | Last price: $0.87 | Last updated: 2023-01-13 03:59 PM (US/Eastern)\n",
            "call | Strike: $6.0 | Expiration date: 2023-03-17 | Last price: $0.9 | Last updated: 2023-01-13 03:59 PM (US/Eastern)\n",
            "put | Strike: $0.5 | Expiration date: 2023-02-03 | Last price: $0.05 | Last updated: 2023-01-13 03:59 PM (US/Eastern)\n",
            "call | Strike: $4.0 | Expiration date: 2023-04-21 | Last price: $1.32 | Last updated: 2023-01-13 03:59 PM (US/Eastern)\n",
            "call | Strike: $4.0 | Expiration date: 2023-08-18 | Last price: $1.35 | Last updated: 2023-01-13 03:59 PM (US/Eastern)\n",
            "put | Strike: $3.5 | Expiration date: 2023-02-10 | Last price: $1.55 | Last updated: 2023-01-13 03:59 PM (US/Eastern)\n",
            "call | Strike: $7.0 | Expiration date: 2023-02-17 | Last price: $0.7 | Last updated: 2023-01-13 03:59 PM (US/Eastern)\n",
            "put | Strike: $4.5 | Expiration date: 2023-01-27 | Last price: $1.93 | Last updated: 2023-01-13 03:59 PM (US/Eastern)\n",
            "call | Strike: $3.0 | Expiration date: 2023-04-21 | Last price: $1.48 | Last updated: 2023-01-13 03:59 PM (US/Eastern)\n",
            "put | Strike: $6.5 | Expiration date: 2023-02-10 | Last price: $3.8 | Last updated: 2023-01-13 03:59 PM (US/Eastern)\n",
            "call | Strike: $2.5 | Expiration date: 2023-02-24 | Last price: $2.18 | Last updated: 2023-01-13 03:59 PM (US/Eastern)\n",
            "put | Strike: $7.0 | Expiration date: 2025-06-20 | Last price: $6.05 | Last updated: 2023-01-13 03:57 PM (US/Eastern)\n",
            "call | Strike: $2.0 | Expiration date: 2023-06-16 | Last price: $2.36 | Last updated: 2023-01-13 03:59 PM (US/Eastern)\n",
            "put | Strike: $4.0 | Expiration date: 2023-05-19 | Last price: $2.74 | Last updated: 2023-01-13 03:59 PM (US/Eastern)\n",
            "put | Strike: $2.5 | Expiration date: 2023-01-27 | Last price: $0.5 | Last updated: 2023-01-13 03:59 PM (US/Eastern)\n"
          ]
        }
      ],
      "source": [
        "update_option_market_data(options)"
      ]
    },
    {
      "cell_type": "markdown",
      "metadata": {
        "id": "2y-J-bUxxcqT"
      },
      "source": [
        "# Filter calendar spreads (you should live that this block)"
      ]
    },
    {
      "cell_type": "markdown",
      "metadata": {
        "id": "-xKUSB0uTM3t"
      },
      "source": [
        "\n",
        "**short_price_key** is the price you wish to **sell** the front leg of the calendar.\n",
        "\n",
        "**long_price_key** is the price you wish to **buy** the back leg of the calendar.\n",
        "\n",
        "**max_spread_cost** filter your results by the cost for each spread. The spread cost is the price of your long_price - short_price. \n",
        "\n",
        "Example: ask_price - bid_price = spread_cost. The default is $0.50.\n",
        "\n",
        "**min_avalible_quantity** filter your results by the number of bidders for your front short leg and the number of sellers for your back long leg.\n",
        "\n",
        "**min_chance_of_profitability** is the sum of chance of profit short + chance of long. Thorectically, a value of 1 or greater means you have the thorectical edge."
      ]
    },
    {
      "cell_type": "code",
      "execution_count": 31,
      "metadata": {
        "id": "-M2jDg1HxcDM"
      },
      "outputs": [
        {
          "name": "stdout",
          "output_type": "stream",
          "text": [
            "12 spreads found.\n",
            "strike 1.5 | short call @ 2023-01-20 | long call @ 2023-01-27 | spread: $-0.65 | profitability: 1.049233\n",
            "strike 1.0 | short put @ 2023-01-20 | long put @ 2023-01-27 | spread: $0.01 | profitability: 1.036742\n",
            "strike 1.5 | short put @ 2023-01-20 | long put @ 2023-01-27 | spread: $0.06 | profitability: 1.079738\n",
            "strike 7.0 | short call @ 2023-01-20 | long call @ 2023-01-27 | spread: $0.09 | profitability: 1.010513\n",
            "strike 5.5 | short put @ 2023-01-20 | long put @ 2023-01-27 | spread: $0.18 | profitability: 1.02651\n",
            "strike 5.5 | short call @ 2023-01-20 | long call @ 2023-01-27 | spread: $0.18 | profitability: 1.008077\n",
            "strike 6.0 | short call @ 2023-01-20 | long call @ 2023-01-27 | spread: $0.19 | profitability: 1.0105790000000001\n",
            "strike 7.5 | short put @ 2023-01-20 | long put @ 2023-01-27 | spread: $0.2 | profitability: 1.033606\n",
            "strike 2.5 | short put @ 2023-01-20 | long put @ 2023-01-27 | spread: $0.26 | profitability: 1.106436\n",
            "strike 4.5 | short put @ 2023-01-20 | long put @ 2023-01-27 | spread: $0.3 | profitability: 1.029661\n",
            "strike 3.0 | short put @ 2023-01-20 | long put @ 2023-01-27 | spread: $0.37 | profitability: 1.082425\n",
            "strike 3.5 | short put @ 2023-01-20 | long put @ 2023-01-27 | spread: $0.39 | profitability: 1.056076\n"
          ]
        }
      ],
      "source": [
        "#@title Filter based on spread cost { vertical-output: true, display-mode: \"form\" }\n",
        "max_spread_cost = 4  # @param {type:\"number\"}\n",
        "min_volume = 0  # @param {type:\"integer\"}\n",
        "min_avalible_quantity = 0  # @param {type:\"integer\"}\n",
        "min_chance_of_profitability = 1 # @param {type:\"number\"}\n",
        "short_price_key = \"ask_price\" # @param [\"mark_price\", \"last_trade_price\", \"bid_price\", \"ask_price\", \"low_price\", \"high_price\", \"high_fill_rate_buy_price\",\"high_fill_rate_sell_price\", \"low_fill_rate_buy_price\", \"low_fill_rate_sell_price\", \"adjusted_mark_price\", \"adjusted_mark_price_round_down\"]\n",
        "long_price_key = \"bid_price\" # @param [\"mark_price\", \"last_trade_price\", \"bid_price\", \"ask_price\", \"low_price\", \"high_price\", \"high_fill_rate_buy_price\",\"high_fill_rate_sell_price\", \"low_fill_rate_buy_price\", \"low_fill_rate_sell_price\", \"adjusted_mark_price\", \"adjusted_mark_price_round_down\"]\n",
        "min_front_short_date = \"2023-01-17\" #@param {type:\"date\"}\n",
        "max_front_short_date = \"2023-01-30\" #@param {type:\"date\"}\n",
        "min_back_long_date = \"2023-01-17\" #@param {type:\"date\"}\n",
        "max_back_long_date =  \"2023-01-30\" #@param {type:\"date\"}\n",
        "\n",
        "\n",
        "min_front_short_date = parse(min_front_short_date)\n",
        "max_front_short_date = parse(max_front_short_date)\n",
        "min_back_long_date = parse(min_back_long_date)\n",
        "max_back_long_date = parse(max_back_long_date)\n",
        "\n",
        "params = [short_price_key, long_price_key]\n",
        "\n",
        "calendar_spreads = find_calendar_spreads(options, params)\n",
        "filtered_spreads = filter_calendar_spreads(\n",
        "    calendar_spreads, max_spread_cost, min_volume, min_avalible_quantity, min_chance_of_profitability, min_front_short_date, max_front_short_date, min_back_long_date, max_back_long_date)\n",
        "print(\"{} spreads found.\".format(len(filtered_spreads)))\n",
        "print_spreads(filtered_spreads)"
      ]
    },
    {
      "cell_type": "markdown",
      "metadata": {
        "id": "bAzIy6xWC2MF"
      },
      "source": [
        "# Pick your top orders. \n",
        "Create calendar spread orders (When you find something you like)"
      ]
    },
    {
      "cell_type": "markdown",
      "metadata": {
        "id": "VA_OKgz3XNU_"
      },
      "source": [
        "Select the number of order you want to place. Note: the max number of orders you can create in robinhood is 11."
      ]
    },
    {
      "cell_type": "code",
      "execution_count": 21,
      "metadata": {
        "id": "CVpgn4tyXMVA"
      },
      "outputs": [],
      "source": [
        "#@title How many orders do you want to place? { run: \"auto\", vertical-output: true, display-mode: \"form\" }\n",
        "max_order_size = 11 #@param {type:\"integer\"}\n",
        "top_filtered_spreads = filtered_spreads[:max_order_size] # robinhood only allows 11 orders\n",
        "print_spreads(top_filtered_spreads)"
      ]
    },
    {
      "cell_type": "code",
      "execution_count": 22,
      "metadata": {
        "id": "iXl9t-3DCZPH"
      },
      "outputs": [
        {
          "name": "stdout",
          "output_type": "stream",
          "text": [
            "Done.\n"
          ]
        }
      ],
      "source": [
        "#@title Place calendar orders based on the following parameters: { vertical-output: true, display-mode: \"form\" }\n",
        "ask_for_confirmation = \"False\" # @param bool[\"True\", \"False\"]\n",
        "\n",
        "price_type = \"set_for_all\" # @param [\"set_for_all\", \"set_each\", \"use_spread_cost\"]\n",
        "quantity_type = \"use_max_available_spreads\" # @param [\"set_for_all\", \"set_each\", \"use_max_available_spreads\"]\n",
        "timeInForce='gfd'  #@param [\"gfd\", \"gtc\"] \n",
        "\n",
        "place_trades_answer = input(\"Place your trades you just found? Enter 'y' or 'n' to continue: \" or 'n')\n",
        "\n",
        "if (ask_for_confirmation != \"True\" or place_trades_answer.casefold() == \"y\"):\n",
        "    place_calendar_spreads(top_filtered_spreads, price_type, quantity_type, timeInForce)\n",
        "    print(\"Done.\")\n",
        "else:\n",
        "    print(\"No trades were placed.\")"
      ]
    },
    {
      "cell_type": "code",
      "execution_count": 23,
      "metadata": {
        "cellView": "form",
        "id": "RebEGeY2v2A5"
      },
      "outputs": [
        {
          "name": "stdout",
          "output_type": "stream",
          "text": [
            "Found Additional pages.\n",
            "Loading page 2 ...\n",
            "Loading page 3 ...\n",
            "Loading page 4 ...\n",
            "Loading page 5 ...\n",
            "Loading page 6 ...\n",
            "Loading page 7 ...\n",
            "Loading page 8 ...\n",
            "Loading page 9 ...\n",
            "Loading page 10 ...\n",
            "Loading page 11 ...\n",
            "Loading page 12 ...\n",
            "Loading page 13 ...\n",
            "Loading page 14 ...\n",
            "Loading page 15 ...\n",
            "Loading page 16 ...\n",
            "Loading page 17 ...\n",
            "Loading page 18 ...\n",
            "Loading page 19 ...\n",
            "Loading page 20 ...\n",
            "Loading page 21 ...\n",
            "Loading page 22 ...\n",
            "Loading page 23 ...\n",
            "Loading page 24 ...\n",
            "Loading page 25 ...\n",
            "Canceling order:  63c60763-9e8d-4e64-a86b-162cb914f3c0\n",
            "Canceling order:  63c603e9-2070-4693-b493-b2519493b4bc\n",
            "Canceling order:  63c603e4-536d-4ce9-857a-befdad8d11a7\n",
            "Canceling order:  63c603dd-9a7e-4946-b72e-6bf0a1bc234e\n",
            "Canceling order:  63c5a572-9b90-41a6-8ae2-7c9f72e93251\n",
            "Canceling order:  63c5a570-9678-4cf5-875f-57adb7eb1a6d\n",
            "Canceling order:  63c5a56f-e9a7-486f-98ba-2681234d74f3\n",
            "Canceling order:  63c5a56d-6db0-4254-bce0-186e2e3de81c\n",
            "Canceling order:  63c5a56c-b99f-409d-be59-c1d3c751fd84\n",
            "Canceling order:  63c5a56a-09b6-4da0-b9c1-24d987a62c56\n",
            "Canceling order:  63c5a567-53c1-4bdf-9085-e788374b00a2\n",
            "Canceling order:  63c5a566-4f8c-4f5c-91e6-15aa45c67bc7\n",
            "Canceling order:  63c4b1fe-f70e-4988-849e-1521fb50b93a\n",
            "Canceling order:  63c4b193-319b-4e93-a2a6-dcd54a68b3f1\n"
          ]
        }
      ],
      "source": [
        "#@title Cancel all pending orders\n",
        "ask_for_confirmation = \"False\" # @param bool[\"True\", \"False\"]\n",
        "\n",
        "def cancel_all_pending_orders():\n",
        "  if (ask_for_confirmation != \"True\" or input(\"Cancel all trades? Enter 'y' or 'n' to continue: \" or 'n').casefold() == \"y\"):\n",
        "    #Get all pending orders\n",
        "    pending_orders = r.orders.get_all_open_option_orders()\n",
        "\n",
        "    #Loop through orders and cancel each one\n",
        "    for order in pending_orders:\n",
        "        print(\"Canceling order: \", order[\"id\"])\n",
        "        r.cancel_option_order(order[\"id\"])\n",
        "  else:\n",
        "    print(\"No trades were canceled.\")\n",
        "\n",
        "cancel_all_pending_orders()"
      ]
    }
  ],
  "metadata": {
    "colab": {
      "collapsed_sections": [
        "DgzXDblw8SXY"
      ],
      "private_outputs": true,
      "provenance": []
    },
    "gpuClass": "standard",
    "kernelspec": {
      "display_name": "Python 3",
      "language": "python",
      "name": "python3"
    },
    "language_info": {
      "codemirror_mode": {
        "name": "ipython",
        "version": 3
      },
      "file_extension": ".py",
      "mimetype": "text/x-python",
      "name": "python",
      "nbconvert_exporter": "python",
      "pygments_lexer": "ipython3",
      "version": "3.8.10"
    },
    "vscode": {
      "interpreter": {
        "hash": "31f2aee4e71d21fbe5cf8b01ff0e069b9275f58929596ceb00d14d90e3e16cd6"
      }
    }
  },
  "nbformat": 4,
  "nbformat_minor": 0
}
